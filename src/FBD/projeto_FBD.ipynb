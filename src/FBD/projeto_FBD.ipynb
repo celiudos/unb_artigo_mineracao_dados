{
 "cells": [
  {
   "attachments": {},
   "cell_type": "markdown",
   "metadata": {},
   "source": [
    "# Fundamentos de BD (Márcio Victorino)\n",
    "\n",
    "## Partes do Projeto:\n",
    "1. Introdução.\n",
    "1. Modelo de dados Relacional.\n",
    "1. O script SQL que gerou o banco de dados.\n",
    "1. Apresentar o processo de ETL (Extract, Transform, Load) para importação dos\n",
    "dados para o banco de dados.\n",
    "1. Utilização de pelo menos uma View.\n",
    "1. Utilização de pelo menos uma Procedure (com comandos condicionais).\n",
    "1. Utilização de pelo menos um trigger (com comandos condicionais).\n",
    "1. No mínimo 5 Consultas SQL (a complexidade da consulta será avaliada).\n",
    "\n",
    "**Data Limite para a Entrega da Parte Escrita: 02/06/2023**\n",
    "\n",
    "## Observações\n",
    "\n",
    "- Dados abertos (ex: FNDE, bolsa família)\n",
    "- Linkar com o Artigo da matéria do Ladeira MD\n",
    "- Joga em um CSV e alimenta o BD SQL\n",
    "- No mínimo milhares de dezenas de linhas\n",
    "- Não executar a consulta na apresentação\n",
    "- Printar os resultados e mostrar na apresentação\n",
    "\n",
    "## Alunos: \n",
    "\n",
    "Marcelo Anselmo de Souza Filho\n",
    "- Matrícula: **231109719**\n",
    "- Email: **marcelofilho@mpf.mp.br**\n",
    "\n",
    "Arivaldo Gonçalves de Freitas Junior\n",
    "- Matrícula: **231109620**\n",
    "- Email: **arivaldofreitas@correios.com.br**\n",
    "\n",
    "Luciana Maria de Araujo Freitas\n",
    "- Matrícula: **231109700**\n",
    "- Email: **luciana@mpdft.mp.br**\n",
    "\n",
    "____"
   ]
  },
  {
   "attachments": {},
   "cell_type": "markdown",
   "metadata": {},
   "source": [
    "# 1. Introdução"
   ]
  },
  {
   "attachments": {},
   "cell_type": "markdown",
   "metadata": {},
   "source": [
    "**Sobre**: Este estudo aborda a diferença salarial entre homens e mulheres na área de TI durante a pandemia. Ele também explora possíveis cenários para analisar a disparidade salarial e de desligamento entre gêneros na área de tecnologia, antes e após a pandemia. Utilizou-se dados a nível do indivíduo, de 2018 e 2019 (antes da pandamiea) e de 2020 e 2021 (durante a pandemia), obtidos da Relação Anual de Informações Sociais (Rais), que proporciona dados oficiais sobre o mercado de trabalho no Brasil. \n",
    "\n",
    "**Resultados**: No geral, constatou-se a remuneração média das mulheres é menor que a dos homens em todas as regiões do Brasil, tanto em 2019 quanto em 2020. Além disso, a quantidade de desligamento de homens é maior que a de mulheres em todas as regiões do Brasil, tanto em 2019 quanto em 2020."
   ]
  },
  {
   "attachments": {},
   "cell_type": "markdown",
   "metadata": {},
   "source": [
    "# 2. Modelo de dados Relacional"
   ]
  },
  {
   "attachments": {},
   "cell_type": "markdown",
   "metadata": {},
   "source": [
    "## 2.1 Modelo Conceitual"
   ]
  },
  {
   "attachments": {},
   "cell_type": "markdown",
   "metadata": {},
   "source": [
    "https://mermaid.js.org/syntax/entityRelationshipDiagram.html\n",
    "\n",
    "Integrando jupyter com mermaid: https://mermaid.js.org/config/Tutorials.html#jupyter-integration-with-mermaid-js"
   ]
  },
  {
   "cell_type": "code",
   "execution_count": 75,
   "metadata": {},
   "outputs": [],
   "source": [
    "```mermaid\n",
    "---\n",
    "title: Modelo Entidade Relacionamento\n",
    "---\n",
    "erDiagram\n",
    "    EMPREGADO {\n",
    "        int id PK\n",
    "        int ano \"Ano que foi empregado\"\n",
    "        float remuneracao_media \"Ex: 3000\"\n",
    "        boolean desligamento \"Se foi demitido\"\n",
    "        int idade \"Ex: 30\"\n",
    "        string ocupacao \"Ex: Analista de Redes\"\n",
    "        string sexo \"Ex: Masculino\"\n",
    "    }\n",
    "    LOCAL_EMPRESA {\n",
    "        int id PK\n",
    "        string sigla_uf \"Ex: DF\"\n",
    "        string regiao \"Ex: Nordeste\"\n",
    "    }\n",
    "    EMPREGADO ||--|{ LOCAL_EMPRESA : trabalha\n",
    "    \n",
    "```\n",
    "\n",
    "<img src=\"querys_sql/prints/modelo-er.PNG\"  />"
   ]
  },
  {
   "attachments": {},
   "cell_type": "markdown",
   "metadata": {},
   "source": [
    "## 2.2 Modelo Lógico"
   ]
  },
  {
   "attachments": {},
   "cell_type": "markdown",
   "metadata": {},
   "source": [
    "### 2.2.1 Normalização"
   ]
  },
  {
   "attachments": {},
   "cell_type": "markdown",
   "metadata": {},
   "source": [
    "_1º FN: Uma relação está em 1FN se e somente se todos os seus atributos contêm apenas valores atômicos (simples, indivisíveis)_"
   ]
  },
  {
   "attachments": {},
   "cell_type": "markdown",
   "metadata": {},
   "source": [
    "**RESPOSTA**: A relação está na 1FN, pois todos os atributos são simples e indivisíveis."
   ]
  },
  {
   "attachments": {},
   "cell_type": "markdown",
   "metadata": {},
   "source": [
    "_2º FN: Uma relação encontra-se na 2FN se e somente se estiver em 1FN e não contém dependências parciais._"
   ]
  },
  {
   "attachments": {},
   "cell_type": "markdown",
   "metadata": {},
   "source": [
    "```mermaid\n",
    "---\n",
    "title: Modelo Lógico\n",
    "---\n",
    "erDiagram\n",
    "    EMPREGADO {\n",
    "import base64\n",
    "from IPython.display import Image, display\n",
    "\n",
    "\n",
    "def mm(graph):\n",
    "  graph = graph.replace(\"\\n\", \" \")\n",
    "  graphbytes = graph.encode(\"ascii\")\n",
    "  base64_bytes = base64.b64encode(graphbytes)\n",
    "  base64_string = base64_bytes.decode(\"ascii\")\n",
    "  display(Image(url=\"https://mermaid.ink/img/\" + base64_string))\n",
    "\n"
   ]
  },
  {
   "cell_type": "code",
   "execution_count": 77,
   "metadata": {},
   "outputs": [
    {
     "data": {
      "text/html": [
       "<img src=\"https://mermaid.ink/img/IGVyRGlhZ3JhbSAgICAgICAgIFJBSVMgfHwtLXx8IE9DVVBBQ0FPIDogY29udGVtICAgICBSQUlTIHx8LS18fCBPQ1VQQUNBTyA6IGNvbnRlbSAgICAgUkFJUyB8fC0tfHwgU0VYTyA6IGNvbnRlbSAgICAgUkFJUyB8fC0tfHwgVUYgOiBjb250ZW0gICAgIFVGIHx8LS18fCBSRUdJQU8gOiBmYXpfcGFydGUgICAgIFJBSVMgeyAgICAgICAgIGludCBpZCBQSyAgICAgICAgIGludCBpZF9vY3VwYWNhbyBGSyAgICAgICAgIGludCBpZF9zZXhvIEZLICAgICAgICAgaW50IGlkX3VmIEZLICAgICAgICAgaW50IGFubyAgICAgICAgIGZsb2F0IHJlbXVuZXJhY2FvX21lZGlhICAgICAgICAgaW50IGRlc2xpZ2FtZW50byAgICAgICAgIGludCBpZGFkZSAgICAgfSAgICAgT0NVUEFDQU8geyAgICAgICAgIGludCBpZCBQSyAgICAgICAgIHN0cmluZyBub21lICAgICB9ICAgICBTRVhPIHsgICAgICAgICBpbnQgaWQgUEsgICAgICAgICBzdHJpbmcgbm9tZSAgICAgfSAgICAgVUYgeyAgICAgICAgIGludCBpZCBQSyAgICAgICAgIGludCBpZF9yZWdpYW8gRksgICAgICAgICBzdHJpbmcgc2lnbGFfdWYgICAgIH0gICAgIFJFR0lBTyB7ICAgICAgICAgaW50IGlkIFBLICAgICAgICAgc3RyaW5nIG5vbWUgICAgIH0g\"/>"
      ],
      "text/plain": [
       "<IPython.core.display.Image object>"
      ]
     },
     "metadata": {},
     "output_type": "display_data"
    }
   ],
   "source": [
    "mm(\"\"\"\n",
    "erDiagram    \n",
    "    RAIS ||--|| OCUPACAO : contem\n",
    "    RAIS ||--|| OCUPACAO : contem\n",
    "    RAIS ||--|| SEXO : contem\n",
    "    RAIS ||--|| UF : contem\n",
    "    UF ||--|| REGIAO : faz_parte\n",
    "    RAIS {\n",
    "        int id PK\n",
    "        int id_ocupacao FK\n",
    "        int id_sexo FK\n",
    "        int id_uf FK\n",
    "        int ano\n",
    "        float remuneracao_media\n",
    "        int desligamento\n",
    "        int idade\n",
    "    }\n",
    "    OCUPACAO {\n",
    "        int id PK\n",
    "        string nome\n",
    "    }\n",
    "    SEXO {\n",
    "        int id PK\n",
    "        string nome\n",
    "    }\n",
    "    UF {\n",
    "        int id PK\n",
    "        int id_regiao FK\n",
    "        string sigla_uf\n",
    "    }\n",
    "    REGIAO {\n",
    "        int id PK\n",
    "        string nome\n",
    "    }\n",
    "    EMPREGADO ||--|{ OCUPACAO : trabalha\n",
    "    EMPREGADO ||--|{ SEXO : contem\n",
    "    EMPREGADO ||--|{ UF : situado\n",
    "    UF ||--|{ REGIAO : agrupado\n",
    "    \n",
    "```\n",
    "\n",
    "\n",
    "<img src=\"querys_sql/prints/modelo-fn.PNG\"  />"
   ]
  },
  {
   "attachments": {},
   "cell_type": "markdown",
   "metadata": {},
   "source": [
    "_3º FN: Uma relação está em 3FN se e somente se estiver na 2FN e nenhum atributo não-primo (isto é, que não seja membro de uma chave) for transitivamente dependente da chave primária._"
   ]
  },
  {
   "attachments": {},
   "cell_type": "markdown",
   "metadata": {},
   "source": [
    "**RESPOSTA**: A relação está na 3FN, pois não há dependência transitiva.\n"
   ]
  },
  {
   "attachments": {},
   "cell_type": "markdown",
   "metadata": {},
   "source": [
    "### 2.2.2 Especificação do BD"
   ]
  },
  {
   "attachments": {},
   "cell_type": "markdown",
   "metadata": {},
   "source": [
    "- OCUPACAO (<ins>id</ins>, nome)\n",
    "\n",
    "- SEXO (<ins>id</ins>, nome)\n",
    "\n",
    "- REGIAO ( <ins>id</ins>, nome )\n",
    "\n",
    "- UF (<ins>id</ins>, id_regiao, sigla_uf)\n",
    "  - id_regiao **REFERENCIA** REGIAO(id)\n",
    "    \n",
    "- EMPREGADO (<ins>id</ins>, id_ocupacao, id_sexo, id_uf, ano, remuneracao_media, desligamento, idade)\n",
    "  - id_ocupacao **REFERENCIA** OCUPACAO(id)\n",
    "  - id_sexo **REFERENCIA** SEXO(id)\n",
    "  - id_uf **REFERENCIA** UF(id)"
   ]
  },
  {
   "attachments": {},
   "cell_type": "markdown",
   "metadata": {},
   "source": [
    "## 2.3 Modelo Físico"
   ]
  },
  {
   "attachments": {},
   "cell_type": "markdown",
   "metadata": {},
   "source": [
    "```sql\n",
    "OCUPACAO (\n",
    "    id INT NOT NULL,\n",
    "    nome VARCHAR(255) NOT NULL,\n",
    "    PRIMARY KEY (id)\n",
    ");\n",
    "\n",
    "SEXO (\n",
    "    id INT NOT NULL,\n",
    "    nome VARCHAR(9) NOT NULL,\n",
    "    PRIMARY KEY (id)\n",
    ");\n",
    "\n",
    "REGIAO (\n",
    "    id INT NOT NULL,\n",
    "    nome VARCHAR(12) NOT NULL,\n",
    "    PRIMARY KEY (id)\n",
    ");\n",
    "\n",
    "UF (\n",
    "    id INT NOT NULL,\n",
    "    id_regiao INT NOT NULL,\n",
    "    nome VARCHAR(2) NOT NULL,\n",
    "    PRIMARY KEY (id),\n",
    "    FOREIGN KEY (id_regiao) REFERENCES REGIAO(id)\n",
    ");\n",
    "\n",
    "EMPREGADO (\n",
    "    id INT NOT NULL AUTO_INCREMENT,\n",
    "    id_ocupacao INT NOT NULL,\n",
    "    id_sexo INT NOT NULL,\n",
    "    id_uf INT NOT NULL,\n",
    "    id_ano INT NOT NULL,\n",
    "    remuneracao_media FLOAT,\n",
    "    desligamento INT,\n",
    "    idade INT NOT NULL,\n",
    "    PRIMARY KEY (id),\n",
    "    FOREIGN KEY (id_ocupacao) REFERENCES OCUPACAO(id),\n",
    "    FOREIGN KEY (id_sexo) REFERENCES SEXO(id),\n",
    "    FOREIGN KEY (id_ano) REFERENCES ANO(id),\n",
    "    FOREIGN KEY (id_uf) REFERENCES UF(id)\n",
    ");\n",
    "```"
   ]
  },
  {
   "attachments": {},
   "cell_type": "markdown",
   "metadata": {},
   "source": [
    "# 3. O script SQL que gerou o banco de dados."
   ]
  },
  {
   "attachments": {},
   "cell_type": "markdown",
   "metadata": {},
   "source": [
    "Criando o Banco de dados e as respectivas tabelas:\n",
    "- Arquivo: [querys_sql/CRIAR_BD.sql](querys_sql/CRIAR_BD.sql)"
   ]
  },
  {
   "attachments": {},
   "cell_type": "markdown",
   "metadata": {},
   "source": [
    "# 4. Apresentar o processo de ETL (Extract, Transform, Load) para importação dos dados para o banco de dados."
   ]
  },
  {
   "attachments": {},
   "cell_type": "markdown",
   "metadata": {},
   "source": [
    "Os passos do ETL estão contidos nos arquivos abaixo:\n",
    "\n",
    "- Juntando os anos de 2018 a 2021 em um único arquivo.\n",
    "  - Arquivo: [03_juntando_todos_anos.ipynb](../03_juntando_todos_anos.ipynb)\n",
    "\n",
    "- Juntando os dados da RAIS com os dados de sexo e raça.\n",
    "  - Arquivo: [04_fazendo_join_ocup_sexo_raca.ipynb](../04_fazendo_join_ocup_sexo_raca.ipynb)\n",
    "\n",
    "## Resumindo os passos do ETL\n",
    "\n",
    "### Extração\n",
    "\n",
    "1. Após filtrar os dados da tabela Relação Anual de Informações Sociais ([RAIS](https://basedosdados.org/dataset/3e7c4d58-96ba-448e-b053-d385a829ef00?table=c3a5121e-f00d-41ff-b46f-bd26be8d4af3)) pelos anos de 2018 a 2021, foi feito o filtro pelos IDs de cargos de Tecnologia da informação conforme a Classificação Brasileira de Ocupações ([CBO](https://cbo.mte.gov.br/cbosite/pages/home.jsf)).\n",
    "    - 212205: Engenheiro de Aplicativos em Computacao\n",
    "    - 212210: Engenheiro de Equipamentos em Computacao\n",
    "    - 212215: Engenheiros de Sistemas Operacionais em Computacao\n",
    "  \n",
    "    - 212305: Administrador de Banco de Dados\n",
    "    - 212310: Administrador de Redes\n",
    "    - 212315: Administrador de Sistemas Operacionais\n",
    "    - 212320: Administrador em Segurança da Informação\n",
    "  \n",
    "    - 212405: Analista de Desenvolvimento de Sistemas\n",
    "    - 212410: Analista de Redes e de Comunicacao de Dados\n",
    "    - 212415: Analista de Sistemas de Automacao\n",
    "    - 212420: Analista de Suporte Computacional\n",
    "  \n",
    "    - 317105: Programador de Internet\n",
    "    - 317110: Programador de Sistemas de Informacao\n",
    "    - 317115: Programador de Maquinas - Ferramenta com Comando Numerico\n",
    "    - 317120: Programador de Multimidia\n",
    "\n",
    "    - 317205: Operador de Computador (Inclusive Microcomputador)\n",
    "    - 317210: Tecnico de Apoio ao Usuario de Informatica (Helpdesk)\n",
    "\n",
    "1. Em seguida, obtivemos os dados dos profissionais de TI no Brasil entre os anos de 2018 a 2019 \n",
    "- Quantidade **total**: 1.543.009\n",
    "- Quantidade **por ano**:\n",
    "  - 2021: 691.982\n",
    "  - 2018: 466.852\n",
    "  - 2020: 222.102\n",
    "  - 2019: 162.073\n",
    " \n",
    "### Transformação\n",
    "\n",
    "1. Primeiro, juntamos os dados com a planilha de Sexo\n",
    "\n",
    "        1,Masculino\n",
    "        2,Feminino\n",
    "        -1,Ignorado\n",
    "       \n",
    "1. Em seguida, juntamos os dados com a planilha com o nome dos Cargos\n",
    "\n",
    "        212205,Engenheiro de Aplicativos em Computacao\n",
    "        212210,Engenheiro de Equipamentos em Computacao\n",
    "        ...\n",
    "       \n",
    "1. Logo após, selecionamos apenas a colunas necessárias e as renomeamos\n",
    "\n",
    "1. Por fim, alteramos todos os dados com \"idade\" = 0 para o mínimo de 14 anos (que é o menor valor, retirando o zero)\n",
    "\n",
    "### Carregamento"
   ]
  },
  {
   "attachments": {},
   "cell_type": "markdown",
   "metadata": {},
   "source": [
    "Fazendo INSERT dos dados das tabelas (todas menos a tabela EMPREGADO) no Banco:\n",
    "- Arquivo: [querys_sql/CARGA_BD.sql](querys_sql/CARGA_BD.sql)\n",
    "\n",
    "A tabela de EMPREGADO foi feita com o script python abaixo, pois continha mais de 1.5 milhões de registros"
   ]
  },
  {
   "cell_type": "code",
   "execution_count": 4,
   "metadata": {},
   "outputs": [
    {
     "name": "stdout",
     "output_type": "stream",
     "text": [
      "\n",
      "      Inserindo os dados...\n",
      "      \n",
      "\n",
      "      Quantidade de docs carregados: 1543009\n",
      "      \n",
      "\n",
      "\n",
      " -- ====  INSERT a partir do dado 0\n",
      "\n",
      "\n",
      " -- ====  INSERT a partir do dado 500000\n",
      "\n",
      "\n",
      " -- ====  INSERT a partir do dado 1000000\n",
      "\n",
      "\n",
      " -- ====  INSERT a partir do dado 1500000\n"
     ]
    }
   ],
   "source": [
    "from __future__ import print_function\n",
    "import pandas as pd\n",
    "import mysql.connector\n",
    "from datetime import date, datetime, timedelta\n",
    "\n",
    "\n",
    "class CargaFullTabelaRAIS:\n",
    "  def __init__(self, batch_size=1000, size_max=10000):\n",
    "    self.batch_size = batch_size\n",
    "    self.size_max = size_max\n",
    "    self.cnx = mysql.connector.connect(\n",
    "        user='root', password='root', database='projfbd')\n",
    "    self.cursor = self.cnx.cursor()\n",
    "    self.path_file_parquet = \"../output/gold/rais_TODOS_ANOS_comJoin_RAIS_VINC_PUB.parquet.gzip\"\n",
    "\n",
    "  def carregar_CSV(self):\n",
    "      # Mostrar mais colunas\n",
    "    pd.set_option(\"display.max_columns\", 100)\n",
    "    pd.set_option('display.max_colwidth', 100)\n",
    "\n",
    "    df = pd.read_parquet(self.path_file_parquet)\n",
    "\n",
    "    qnt_total = len(df)\n",
    "\n",
    "    print(f\"\"\"\n",
    "      Quantidade de docs carregados: {qnt_total}\n",
    "      \"\"\")\n",
    "    return df\n",
    "\n",
    "  def get_rais_from_pandas(self):\n",
    "      df = self.carregar_CSV()\n",
    "      counts = df[[\n",
    "          \"ocupacao_id\", \"sexo_id\", \"sigla_uf_id\", \"ano\", \"remuneracao_media\", \"desligamento\", \"idade\"]]\n",
    "      lista = counts.values.tolist()\n",
    "      lista = [tuple(x) for x in lista]\n",
    "\n",
    "      return lista\n",
    "\n",
    "  def gerar_batch_insert_rais(self):\n",
    "    print(f\"\"\"\n",
    "      Inserindo os dados...\n",
    "      \"\"\")\n",
    "\n",
    "    rais_from_pandas = self.get_rais_from_pandas()\n",
    "\n",
    "    for i in range(0, len(rais_from_pandas[:self.size_max]), self.batch_size):\n",
    "      add_query = (\"INSERT INTO EMPREGADO \"\n",
    "                   \"(id_ocupacao, id_sexo, id_uf, ano, remuneracao_media, desligamento, idade) \"\n",
    "                   \"VALUES \")\n",
    "\n",
    "      vals = \", \".join((f\"({str(id_ocupacao)}, {str(id_sexo)}, {str(id_uf)}, {str(ano)}, {str(remuneracao_media)}, {str(desligamento)}, {str(idade)})\")\n",
    "                       for id_ocupacao, id_sexo, id_uf, ano, remuneracao_media, desligamento, idade in rais_from_pandas[i:i+self.batch_size])\n",
    "      print(f\"\\n\\n -- ====  INSERT a partir do dado {i}\")\n",
    "      # print(add_query + vals)\n",
    "      try:\n",
    "        self.cursor.execute(add_query + vals)\n",
    "      except Exception as e:\n",
    "        print(e)\n",
    "        print(i)\n",
    "\n",
    "    # ============ COMMIT ============\n",
    "    self.cnx.commit()\n",
    "\n",
    "  def init(self):\n",
    "    self.gerar_batch_insert_rais()\n",
    "\n",
    "  def __del__(self):\n",
    "    self.cursor.close()\n",
    "    self.cnx.close()\n",
    "\n",
    "\n",
    "# ================= INICIANDO\n",
    "\n",
    "CargaFullTabelaRAIS(batch_size=500000, size_max=2000000).init()\n"
   ]
  },
  {
   "attachments": {},
   "cell_type": "markdown",
   "metadata": {},
   "source": [
    "# 5. Utilização de pelo menos uma View."
   ]
  },
  {
   "attachments": {},
   "cell_type": "markdown",
   "metadata": {},
   "source": [
    "Criação da View \"VW_RAIS_FULL\" com JOIN da tabela EMPREGADO, como a central, e as demais tabelas conectadas a ela.\n",
    "- Arquivo: [querys_sql/VIEW.sql](querys_sql/VIEW.sql)\n",
    "\n",
    "<img src=\"querys_sql/prints/view.PNG\"  />"
   ]
  },
  {
   "attachments": {},
   "cell_type": "markdown",
   "metadata": {},
   "source": [
    "# 6. Utilização de pelo menos uma Procedure (com comandos condicionais)."
   ]
  },
  {
   "attachments": {},
   "cell_type": "markdown",
   "metadata": {},
   "source": [
    "Conteúdo de: [querys_sql/PROCEDURE.sql](querys_sql/PROCEDURE.sql)\n",
    "\n",
    "<img src=\"querys_sql/prints/procedure.PNG\"  />"
   ]
  },
  {
   "attachments": {},
   "cell_type": "markdown",
   "metadata": {},
   "source": [
    "# 7. Utilização de pelo menos um trigger (com comandos condicionais)."
   ]
  },
  {
   "attachments": {},
   "cell_type": "markdown",
   "metadata": {},
   "source": [
    "Conteúdo de: [querys_sql/TRIGGER.sql](querys_sql/TRIGGER.sql)\n",
    "\n",
    "<img src=\"querys_sql/prints/trigger.PNG\"  />\n"
   ]
  },
  {
   "attachments": {},
   "cell_type": "markdown",
   "metadata": {},
   "source": [
    "# 8.  No mínimo 5 Consultas SQL (a complexidade da consulta será avaliada)."
   ]
  },
  {
   "attachments": {},
   "cell_type": "markdown",
   "metadata": {},
   "source": [
    "Conteúdo de: [querys_sql/CONSULTAS_COMPLEXAS.sql](querys_sql/CONSULTAS_COMPLEXAS.sql)\n"
   ]
  },
  {
   "attachments": {},
   "cell_type": "markdown",
   "metadata": {},
   "source": [
    "- Consulta complexa 1\n",
    "\n",
    "<img src=\"querys_sql/prints/consulta-complexa-1.PNG\"  />"
   ]
  },
  {
   "attachments": {},
   "cell_type": "markdown",
   "metadata": {},
   "source": [
    "- Consulta complexa 2\n",
    "\n",
    "<img src=\"querys_sql/prints/consulta-complexa-2.PNG\"  />"
   ]
  },
  {
   "attachments": {},
   "cell_type": "markdown",
   "metadata": {},
   "source": [
    "- Consulta complexa 3\n",
    "\n",
    "<img src=\"querys_sql/prints/consulta-complexa-3.PNG\"  />"
   ]
  },
  {
   "attachments": {},
   "cell_type": "markdown",
   "metadata": {},
   "source": [
    "- Consulta complexa 4\n",
    "\n",
    "<img src=\"querys_sql/prints/consulta-complexa-4.PNG\"  />"
   ]
  },
  {
   "attachments": {},
   "cell_type": "markdown",
   "metadata": {},
   "source": [
    "- Consulta complexa 5\n",
    "\n",
    "<img src=\"querys_sql/prints/consulta-complexa-5.PNG\"  />"
   ]
  }
 ],
 "metadata": {
  "kernelspec": {
   "display_name": "base",
   "language": "python",
   "name": "python3"
  },
  "language_info": {
   "codemirror_mode": {
    "name": "ipython",
    "version": 3
   },
   "file_extension": ".py",
   "mimetype": "text/x-python",
   "name": "python",
   "nbconvert_exporter": "python",
   "pygments_lexer": "ipython3",
   "version": "3.11.1"
  },
  "orig_nbformat": 4
 },
 "nbformat": 4,
 "nbformat_minor": 2
}
