{
 "cells": [
  {
   "attachments": {},
   "cell_type": "markdown",
   "metadata": {},
   "source": [
    "# Fundamentos de BD (Márcio Victorino)\n",
    "\n",
    "## Partes do Projeto:\n",
    "1. Introdução.\n",
    "1. Modelo de dados Relacional.\n",
    "1. O script SQL que gerou o banco de dados.\n",
    "1. Apresentar o processo de ETL (Extract, Transform, Load) para importação dos\n",
    "dados para o banco de dados.\n",
    "1. Utilização de pelo menos uma View.\n",
    "1. Utilização de pelo menos uma Procedure (com comandos condicionais).\n",
    "1. Utilização de pelo menos um trigger (com comandos condicionais).\n",
    "1. No mínimo 5 Consultas SQL (a complexidade da consulta será avaliada).\n",
    "\n",
    "**Data Limite para a Entrega da Parte Escrita: 02/06/2023**\n",
    "\n",
    "## Observações\n",
    "\n",
    "- Dados abertos (ex: FNDE, bolsa família)\n",
    "- Linkar com o Artigo da matéria do Ladeira MD\n",
    "- Joga em um CSV e alimenta o BD SQL\n",
    "- No mínimo milhares de dezenas de linhas\n",
    "- Não executar a consulta na apresentação\n",
    "- Printar os resultados e mostrar na apresentação\n",
    "\n",
    "## Alunos: \n",
    "\n",
    "Marcelo Anselmo de Souza Filho\n",
    "- Matrícula: **231109719**\n",
    "- Email: **marcelofilho@mpf.mp.br**\n",
    "\n",
    "Arivaldo Gonçalves de Freitas Junior\n",
    "- Matrícula: **231109620**\n",
    "- Email: **arivaldofreitas@correios.com.br**\n",
    "\n",
    "Luciana Maria de Araujo Freitas\n",
    "- Matrícula: **231109700**\n",
    "- Email: **luciana@mpdft.mp.br**\n",
    "\n",
    "____"
   ]
  },
  {
   "attachments": {},
   "cell_type": "markdown",
   "metadata": {},
   "source": [
    "# 1. Introdução"
   ]
  },
  {
   "attachments": {},
   "cell_type": "markdown",
   "metadata": {},
   "source": [
    "Este estudo aborda a diferença salarial entre homens e mulheres na área de TI durante a pandemia. Ele também explora possíveis cenários para analisara disparidade salarial e de desligamento entre gêneros na área de tecnologia, antes e após a pandemia.\tUtilizou-se dados no nível do indivíduo, de 2019 e 2020, obtidos da Relação Anual de Informações Sociais (Rais), que proporciona dados oficiais sobre o mercado de trabalho no Brasil. No geral, constatou-se a remuneração média das mulheres é menor que a dos homens em todas as regiões do Brasil, tanto em 2019 quanto em 2020. Além disso, a quantidade de desligamento de homens é maior que a de mulheres em todas as regiões do Brasil, tanto em 2019 quanto em 2020."
   ]
  },
  {
   "attachments": {},
   "cell_type": "markdown",
   "metadata": {},
   "source": [
    "# 2. Modelo de dados Relacional"
   ]
  },
  {
   "attachments": {},
   "cell_type": "markdown",
   "metadata": {},
   "source": [
    "## Carregar dados"
   ]
  },
  {
   "cell_type": "code",
   "execution_count": null,
   "metadata": {},
   "outputs": [],
   "source": [
    "import pandas as pd\n",
    "\n",
    "# # Mostrar mais colunas\n",
    "pd.set_option(\"display.max_columns\", 100)\n",
    "pd.set_option('display.max_colwidth', 100)\n",
    "\n",
    "df = pd.read_parquet(\n",
    "    \"../output/gold/rais_TODOS_ANOS_comJoin_RAIS_VINC_PUB.parquet.gzip\")\n",
    "\n",
    "qnt_full = len(df)\n",
    "print(f\"\"\"\n",
    "Quantidade docs: {qnt_full}\n",
    "\"\"\")\n",
    "\n",
    "df.head(2)\n"
   ]
  },
  {
   "attachments": {},
   "cell_type": "markdown",
   "metadata": {},
   "source": [
    "## Modelo Entidade Relacionamento"
   ]
  },
  {
   "attachments": {},
   "cell_type": "markdown",
   "metadata": {},
   "source": [
    "https://mermaid.js.org/syntax/entityRelationshipDiagram.html\n",
    "\n",
    "Integrando jupyter com mermaid: https://mermaid.js.org/config/Tutorials.html#jupyter-integration-with-mermaid-js"
   ]
  },
  {
   "cell_type": "code",
   "execution_count": 75,
   "metadata": {},
   "outputs": [],
   "source": [
    "import base64\n",
    "from IPython.display import Image, display\n",
    "\n",
    "\n",
    "def mm(graph):\n",
    "  graph = graph.replace(\"\\n\", \" \")\n",
    "  graphbytes = graph.encode(\"ascii\")\n",
    "  base64_bytes = base64.b64encode(graphbytes)\n",
    "  base64_string = base64_bytes.decode(\"ascii\")\n",
    "  display(Image(url=\"https://mermaid.ink/img/\" + base64_string))\n",
    "\n"
   ]
  },
  {
   "cell_type": "code",
   "execution_count": 77,
   "metadata": {},
   "outputs": [
    {
     "data": {
      "text/html": [
       "<img src=\"https://mermaid.ink/img/IGVyRGlhZ3JhbSAgICAgICAgIFJBSVMgfHwtLXx8IE9DVVBBQ0FPIDogY29udGVtICAgICBSQUlTIHx8LS18fCBPQ1VQQUNBTyA6IGNvbnRlbSAgICAgUkFJUyB8fC0tfHwgU0VYTyA6IGNvbnRlbSAgICAgUkFJUyB8fC0tfHwgVUYgOiBjb250ZW0gICAgIFVGIHx8LS18fCBSRUdJQU8gOiBmYXpfcGFydGUgICAgIFJBSVMgeyAgICAgICAgIGludCBpZCBQSyAgICAgICAgIGludCBpZF9vY3VwYWNhbyBGSyAgICAgICAgIGludCBpZF9zZXhvIEZLICAgICAgICAgaW50IGlkX3VmIEZLICAgICAgICAgaW50IGFubyAgICAgICAgIGZsb2F0IHJlbXVuZXJhY2FvX21lZGlhICAgICAgICAgaW50IGRlc2xpZ2FtZW50byAgICAgICAgIGludCBpZGFkZSAgICAgfSAgICAgT0NVUEFDQU8geyAgICAgICAgIGludCBpZCBQSyAgICAgICAgIHN0cmluZyBub21lICAgICB9ICAgICBTRVhPIHsgICAgICAgICBpbnQgaWQgUEsgICAgICAgICBzdHJpbmcgbm9tZSAgICAgfSAgICAgVUYgeyAgICAgICAgIGludCBpZCBQSyAgICAgICAgIGludCBpZF9yZWdpYW8gRksgICAgICAgICBzdHJpbmcgc2lnbGFfdWYgICAgIH0gICAgIFJFR0lBTyB7ICAgICAgICAgaW50IGlkIFBLICAgICAgICAgc3RyaW5nIG5vbWUgICAgIH0g\"/>"
      ],
      "text/plain": [
       "<IPython.core.display.Image object>"
      ]
     },
     "metadata": {},
     "output_type": "display_data"
    }
   ],
   "source": [
    "mm(\"\"\"\n",
    "erDiagram    \n",
    "    RAIS ||--|| OCUPACAO : contem\n",
    "    RAIS ||--|| OCUPACAO : contem\n",
    "    RAIS ||--|| SEXO : contem\n",
    "    RAIS ||--|| UF : contem\n",
    "    UF ||--|| REGIAO : faz_parte\n",
    "    RAIS {\n",
    "        int id PK\n",
    "        int id_ocupacao FK\n",
    "        int id_sexo FK\n",
    "        int id_uf FK\n",
    "        int ano\n",
    "        float remuneracao_media\n",
    "        int desligamento\n",
    "        int idade\n",
    "    }\n",
    "    OCUPACAO {\n",
    "        int id PK\n",
    "        string nome\n",
    "    }\n",
    "    SEXO {\n",
    "        int id PK\n",
    "        string nome\n",
    "    }\n",
    "    UF {\n",
    "        int id PK\n",
    "        int id_regiao FK\n",
    "        string sigla_uf\n",
    "    }\n",
    "    REGIAO {\n",
    "        int id PK\n",
    "        string nome\n",
    "    }\n",
    "\"\"\")"
   ]
  },
  {
   "attachments": {},
   "cell_type": "markdown",
   "metadata": {},
   "source": [
    "## Normalização"
   ]
  },
  {
   "attachments": {},
   "cell_type": "markdown",
   "metadata": {},
   "source": [
    "# 3. O script SQL que gerou o banco de dados."
   ]
  },
  {
   "attachments": {},
   "cell_type": "markdown",
   "metadata": {},
   "source": [
    "Conteúdo de: [querys_sql/GERAR_BD.sql](querys_sql/GERAR_BD.sql)"
   ]
  },
  {
   "attachments": {},
   "cell_type": "markdown",
   "metadata": {},
   "source": [
    "## Inserindo a RAIS (Tabela principal)"
   ]
  },
  {
   "cell_type": "code",
   "execution_count": 2,
   "metadata": {},
   "outputs": [
    {
     "name": "stdout",
     "output_type": "stream",
     "text": [
      "\n",
      "      Inserindo os dados...\n",
      "      \n",
      "\n",
      "      Quantidade de docs carregados: 1543009\n",
      "      \n",
      "\n",
      "\n",
      " -- ====  INSERT a partir do dado 0\n",
      "\n",
      "\n",
      " -- ====  INSERT a partir do dado 500000\n",
      "\n",
      "\n",
      " -- ====  INSERT a partir do dado 1000000\n",
      "\n",
      "\n",
      " -- ====  INSERT a partir do dado 1500000\n"
     ]
    }
   ],
   "source": [
    "from __future__ import print_function\n",
    "import pandas as pd\n",
    "import mysql.connector\n",
    "from datetime import date, datetime, timedelta\n",
    "\n",
    "\n",
    "class CargaFullTabelaRAIS:\n",
    "  def __init__(self, batch_size=1000, size_max=10000):\n",
    "    self.batch_size = batch_size\n",
    "    self.size_max = size_max\n",
    "    self.cnx = mysql.connector.connect(\n",
    "        user='root', password='root', database='projfbd')\n",
    "    self.cursor = self.cnx.cursor()\n",
    "    self.path_file_parquet = \"../output/gold/rais_TODOS_ANOS_comJoin_RAIS_VINC_PUB.parquet.gzip\"\n",
    "\n",
    "  def carregar_CSV(self):\n",
    "      # Mostrar mais colunas\n",
    "    pd.set_option(\"display.max_columns\", 100)\n",
    "    pd.set_option('display.max_colwidth', 100)\n",
    "\n",
    "    df = pd.read_parquet(self.path_file_parquet)\n",
    "\n",
    "    qnt_total = len(df)\n",
    "\n",
    "    print(f\"\"\"\n",
    "      Quantidade de docs carregados: {qnt_total}\n",
    "      \"\"\")\n",
    "    return df\n",
    "\n",
    "  def get_rais_from_pandas(self):\n",
    "      df = self.carregar_CSV()\n",
    "      counts = df[[\n",
    "          \"ocupacao_id\", \"sexo_id\", \"sigla_uf_id\", \"ano\", \"remuneracao_media\", \"desligamento\", \"idade\"]]\n",
    "      lista = counts.values.tolist()\n",
    "      lista = [tuple(x) for x in lista]\n",
    "\n",
    "      return lista\n",
    "\n",
    "  def gerar_batch_insert_rais(self):\n",
    "    print(f\"\"\"\n",
    "      Inserindo os dados...\n",
    "      \"\"\")\n",
    "\n",
    "    rais_from_pandas = self.get_rais_from_pandas()\n",
    "\n",
    "    for i in range(0, len(rais_from_pandas[:self.size_max]), self.batch_size):\n",
    "      add_query = (\"INSERT INTO RAIS \"\n",
    "                   \"(id_ocupacao, id_sexo, id_uf, ano, remuneracao_media, desligamento, idade) \"\n",
    "                   \"VALUES \")\n",
    "\n",
    "      vals = \", \".join((f\"({str(id_ocupacao)}, {str(id_sexo)}, {str(id_uf)}, {str(ano)}, {str(remuneracao_media)}, {str(desligamento)}, {str(idade)})\")\n",
    "                       for id_ocupacao, id_sexo, id_uf, ano, remuneracao_media, desligamento, idade in rais_from_pandas[i:i+self.batch_size])\n",
    "      print(f\"\\n\\n -- ====  INSERT a partir do dado {i}\")\n",
    "      # print(add_query + vals)\n",
    "      try:\n",
    "        self.cursor.execute(add_query + vals)\n",
    "      except Exception as e:\n",
    "        print(e)\n",
    "        print(i)\n",
    "\n",
    "    # ============ COMMIT ============\n",
    "    self.cnx.commit()\n",
    "\n",
    "  def init(self):\n",
    "    self.gerar_batch_insert_rais()\n",
    "\n",
    "  def __del__(self):\n",
    "    self.cursor.close()\n",
    "    self.cnx.close()\n",
    "\n",
    "\n",
    "# ================= INICIANDO\n",
    "\n",
    "CargaFullTabelaRAIS(batch_size=500000, size_max=2000000).init()\n"
   ]
  },
  {
   "attachments": {},
   "cell_type": "markdown",
   "metadata": {},
   "source": [
    "# 4. Apresentar o processo de ETL (Extract, Transform, Load) para importação dos dados para o banco de dados."
   ]
  },
  {
   "attachments": {},
   "cell_type": "markdown",
   "metadata": {},
   "source": [
    "- Conteúdo de: [03_juntando_todos_anos.ipynb](../03_juntando_todos_anos.ipynb)\n",
    "- Conteúdo de: [04_fazendo_join_ocup_sexo_raca.ipynb](../04_fazendo_join_ocup_sexo_raca.ipynb)"
   ]
  },
  {
   "attachments": {},
   "cell_type": "markdown",
   "metadata": {},
   "source": [
    "# 5. Utilização de pelo menos uma View."
   ]
  },
  {
   "attachments": {},
   "cell_type": "markdown",
   "metadata": {},
   "source": [
    "Conteúdo de: [querys_sql/VIEW.sql](querys_sql/VIEW.sql)"
   ]
  },
  {
   "attachments": {},
   "cell_type": "markdown",
   "metadata": {},
   "source": [
    "# 6. Utilização de pelo menos uma Procedure (com comandos condicionais)."
   ]
  },
  {
   "attachments": {},
   "cell_type": "markdown",
   "metadata": {},
   "source": [
    "Conteúdo de: [querys_sql/PROCEDURE.sql](querys_sql/PROCEDURE.sql)"
   ]
  },
  {
   "attachments": {},
   "cell_type": "markdown",
   "metadata": {},
   "source": [
    "# 7. Utilização de pelo menos um trigger (com comandos condicionais)."
   ]
  },
  {
   "attachments": {},
   "cell_type": "markdown",
   "metadata": {},
   "source": [
    "Conteúdo de: [querys_sql/TRIGGER.sql](querys_sql/TRIGGER.sql)\n"
   ]
  },
  {
   "attachments": {},
   "cell_type": "markdown",
   "metadata": {},
   "source": [
    "# 8.  No mínimo 5 Consultas SQL (a complexidade da consulta será avaliada)."
   ]
  },
  {
   "attachments": {},
   "cell_type": "markdown",
   "metadata": {},
   "source": [
    "Conteúdo de: [querys_sql/CONSULTAS_COMPLEXAS.sql](querys_sql/CONSULTAS_COMPLEXAS.sql)\n"
   ]
  }
 ],
 "metadata": {
  "kernelspec": {
   "display_name": "base",
   "language": "python",
   "name": "python3"
  },
  "language_info": {
   "codemirror_mode": {
    "name": "ipython",
    "version": 3
   },
   "file_extension": ".py",
   "mimetype": "text/x-python",
   "name": "python",
   "nbconvert_exporter": "python",
   "pygments_lexer": "ipython3",
   "version": "3.11.1"
  },
  "orig_nbformat": 4
 },
 "nbformat": 4,
 "nbformat_minor": 2
}
