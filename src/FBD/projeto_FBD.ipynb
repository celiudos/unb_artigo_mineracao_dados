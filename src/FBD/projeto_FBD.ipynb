{
 "cells": [
  {
   "attachments": {},
   "cell_type": "markdown",
   "metadata": {},
   "source": [
    "# Fundamentos de BD (Márcio Victorino)\n",
    "\n",
    "## Partes do Projeto:\n",
    "1. Introdução.\n",
    "1. Modelo de dados Relacional.\n",
    "1. O script SQL que gerou o banco de dados.\n",
    "1. Apresentar o processo de ETL (Extract, Transform, Load) para importação dos\n",
    "dados para o banco de dados.\n",
    "1. Utilização de pelo menos uma View.\n",
    "1. Utilização de pelo menos uma Procedure (com comandos condicionais).\n",
    "1. Utilização de pelo menos um trigger (com comandos condicionais).\n",
    "1. No mínimo 5 Consultas SQL (a complexidade da consulta será avaliada).\n",
    "\n",
    "**Data Limite para a Entrega da Parte Escrita: 02/06/2023**\n",
    "\n",
    "## Observações\n",
    "\n",
    "- Dados abertos (ex: FNDE, bolsa família)\n",
    "- Linkar com o Artigo da matéria do Ladeira MD\n",
    "- Joga em um CSV e alimenta o BD SQL\n",
    "- No mínimo milhares de dezenas de linhas\n",
    "- Não executar a consulta na apresentação\n",
    "- Printar os resultados e mostrar na apresentação\n",
    "\n",
    "## Alunos: \n",
    "\n",
    "Marcelo Anselmo de Souza Filho\n",
    "- Matrícula: **231109719**\n",
    "- Email: **marcelofilho@mpf.mp.br**\n",
    "\n",
    "Arivaldo Gonçalves\n",
    "- Matrícula: **231109620**\n",
    "- Email: **arivaldofreitas@correios.com.br**\n",
    "\n",
    "Luciana Maria\n",
    "- Matrícula: **231109700**\n",
    "- Email: **luciana@mpdft.mp.br**\n",
    "\n",
    "____"
   ]
  },
  {
   "attachments": {},
   "cell_type": "markdown",
   "metadata": {},
   "source": [
    "# 1. Introdução"
   ]
  },
  {
   "attachments": {},
   "cell_type": "markdown",
   "metadata": {},
   "source": [
    "Este estudo aborda a diferença salarial entre homens e mulheres na área de TI durante a pandemia. Ele também explora possíveis cenários para analisara disparidade salarial e de desligamento entre gêneros na área de tecnologia, antes e após a pandemia.\tUtilizou-se dados no nível do indivíduo, de 2019 e 2020, obtidos da Relação Anual de Informações Sociais (Rais), que proporciona dados oficiais sobre o mercado de trabalho no Brasil. No geral, constatou-se a remuneração média das mulheres é menor que a dos homens em todas as regiões do Brasil, tanto em 2019 quanto em 2020. Além disso, a quantidade de desligamento de homens é maior que a de mulheres em todas as regiões do Brasil, tanto em 2019 quanto em 2020."
   ]
  },
  {
   "attachments": {},
   "cell_type": "markdown",
   "metadata": {},
   "source": [
    "# 2. Modelo de dados Relacional"
   ]
  },
  {
   "attachments": {},
   "cell_type": "markdown",
   "metadata": {},
   "source": [
    "## Carregar dados"
   ]
  },
  {
   "cell_type": "code",
   "execution_count": null,
   "metadata": {},
   "outputs": [],
   "source": [
    "import pandas as pd\n",
    "\n",
    "# # Mostrar mais colunas\n",
    "pd.set_option(\"display.max_columns\", 100)\n",
    "pd.set_option('display.max_colwidth', 100)\n",
    "\n",
    "df = pd.read_parquet(\n",
    "    \"../output/gold/rais_TODOS_ANOS_comJoin_RAIS_VINC_PUB.parquet.gzip\")\n",
    "\n",
    "qnt_full = len(df)\n",
    "print(f\"\"\"\n",
    "Quantidade docs: {qnt_full}\n",
    "\"\"\")\n",
    "\n",
    "df.head(2)\n"
   ]
  },
  {
   "cell_type": "code",
   "execution_count": null,
   "metadata": {},
   "outputs": [],
   "source": [
    "# df.info()"
   ]
  },
  {
   "attachments": {},
   "cell_type": "markdown",
   "metadata": {},
   "source": [
    "## Modelo Entidade Relacionamento"
   ]
  },
  {
   "attachments": {},
   "cell_type": "markdown",
   "metadata": {},
   "source": [
    "https://mermaid.js.org/syntax/entityRelationshipDiagram.html"
   ]
  },
  {
   "attachments": {},
   "cell_type": "markdown",
   "metadata": {},
   "source": [
    "```mermaid\n",
    "---\n",
    "title: Modelo Entidade Relacionamento\n",
    "---\n",
    "erDiagram\n",
    "    RAIS {\n",
    "        int id PK\n",
    "        int id_ocupacao FK\n",
    "        int id_sexo FK\n",
    "        int id_uf FK\n",
    "        int ano\n",
    "        float remuneracao_media\n",
    "        int desligamento\n",
    "        int idade\n",
    "    }\n",
    "    OCUPACAO {\n",
    "        int id PK\n",
    "        string nome\n",
    "    }\n",
    "    SEXO {\n",
    "        int id PK\n",
    "        string nome\n",
    "    }\n",
    "    UF {\n",
    "        int id PK\n",
    "        int id_regiao FK\n",
    "        string sigla_uf\n",
    "    }\n",
    "    REGIAO {\n",
    "        int id PK\n",
    "        string nome\n",
    "    }\n",
    "    RAIS ||--|| OCUPACAO : contem\n",
    "    RAIS ||--|| SEXO : contem\n",
    "    RAIS ||--|| UF : contem\n",
    "    UF ||--|| REGIAO : faz_parte\n",
    "    \n",
    "```"
   ]
  },
  {
   "attachments": {},
   "cell_type": "markdown",
   "metadata": {},
   "source": [
    "# Criando DB"
   ]
  },
  {
   "attachments": {},
   "cell_type": "markdown",
   "metadata": {},
   "source": [
    "https://dev.mysql.com/doc/connector-python/en/connector-python-example-ddl.html"
   ]
  },
  {
   "cell_type": "code",
   "execution_count": null,
   "metadata": {},
   "outputs": [],
   "source": [
    "# !pip install mysql-connector-python"
   ]
  },
  {
   "cell_type": "code",
   "execution_count": null,
   "metadata": {},
   "outputs": [],
   "source": [
    "from __future__ import print_function\n",
    "\n",
    "import mysql.connector\n",
    "from mysql.connector import errorcode\n",
    "\n",
    "cnx = mysql.connector.connect(user='test', password='test')\n",
    "cursor = cnx.cursor()\n",
    "\n",
    "DB_NAME = 'test'\n",
    "\n",
    "TABLES = {\n",
    "    \"OCUPACAO\": (\"\"\"\n",
    "        CREATE TABLE OCUPACAO (\n",
    "            id INT NOT NULL,\n",
    "            nome VARCHAR(255) NOT NULL,\n",
    "            PRIMARY KEY (id)\n",
    "        ) ENGINE=InnoDB\n",
    "    \"\"\"),\n",
    "    \"SEXO\": (\"\"\"\n",
    "        CREATE TABLE SEXO (\n",
    "            id INT NOT NULL,\n",
    "            nome VARCHAR(255) NOT NULL,\n",
    "            PRIMARY KEY (id)\n",
    "        ) ENGINE=InnoDB\n",
    "    \"\"\"),\n",
    "    \"REGIAO\": (\"\"\"\n",
    "        CREATE TABLE REGIAO (\n",
    "            id INT NOT NULL,\n",
    "            nome VARCHAR(255) NOT NULL,\n",
    "            PRIMARY KEY (id)\n",
    "        ) ENGINE=InnoDB\n",
    "    \"\"\"),\n",
    "    \"UF\": (\"\"\"\n",
    "        CREATE TABLE UF (\n",
    "            id INT NOT NULL,\n",
    "            id_regiao INT NOT NULL,\n",
    "            nome VARCHAR(255) NOT NULL,\n",
    "            PRIMARY KEY (id),\n",
    "            FOREIGN KEY (id_regiao) REFERENCES REGIAO(id)\n",
    "        ) ENGINE=InnoDB\n",
    "    \"\"\"),\n",
    "    \"RAIS\": (\"\"\"\n",
    "        CREATE TABLE RAIS (\n",
    "            id INT NOT NULL AUTO_INCREMENT,\n",
    "            id_ocupacao INT NOT NULL,\n",
    "            id_sexo INT NOT NULL,\n",
    "            id_uf INT NOT NULL,\n",
    "            ano INT NOT NULL,\n",
    "            remuneracao_media FLOAT NOT NULL,\n",
    "            desligamento INT NOT NULL,\n",
    "            idade INT NOT NULL,\n",
    "            PRIMARY KEY (id),\n",
    "            FOREIGN KEY (id_ocupacao) REFERENCES OCUPACAO(id),\n",
    "            FOREIGN KEY (id_sexo) REFERENCES SEXO(id),\n",
    "            FOREIGN KEY (id_uf) REFERENCES UF(id)\n",
    "        ) ENGINE=InnoDB\n",
    "    \"\"\"),\n",
    "}\n",
    "\n"
   ]
  },
  {
   "cell_type": "code",
   "execution_count": null,
   "metadata": {},
   "outputs": [],
   "source": [
    "# def conectando_bd():\n",
    "#   cnx = mysql.connector.connect(user='test', password='test')\n",
    "#   return cnx.cursor()\n",
    "\n",
    "# cursor = conectando_bd()\n"
   ]
  },
  {
   "cell_type": "code",
   "execution_count": null,
   "metadata": {},
   "outputs": [],
   "source": [
    "def create_database(cursor):\n",
    "    try:\n",
    "        cursor.execute(\n",
    "            \"DROP DATABASE IF EXISTS {}\".format(DB_NAME))\n",
    "        cursor.execute(\n",
    "            \"CREATE DATABASE {} DEFAULT CHARACTER SET 'utf8'\".format(DB_NAME))\n",
    "    except mysql.connector.Error as err:\n",
    "        print(\"Failed creating database: {}\".format(err))\n",
    "        exit(1)\n",
    "\n",
    "create_database(cursor)\n",
    "print(\"Database {} created successfully.\".format(DB_NAME))\n",
    "cnx.database = DB_NAME"
   ]
  },
  {
   "cell_type": "code",
   "execution_count": null,
   "metadata": {},
   "outputs": [],
   "source": [
    "for table_name in TABLES:\n",
    "    table_description = TABLES[table_name]\n",
    "    try:\n",
    "        print(\"Creating table {}: \".format(table_name), end='')\n",
    "        cursor.execute(table_description)\n",
    "    except mysql.connector.Error as err:\n",
    "        if err.errno == errorcode.ER_TABLE_EXISTS_ERROR:\n",
    "            print(\"already exists.\")\n",
    "        else:\n",
    "            print(err.msg)\n",
    "    else:\n",
    "        print(\"OK\")\n"
   ]
  },
  {
   "attachments": {},
   "cell_type": "markdown",
   "metadata": {},
   "source": [
    "# Inserindo Dados"
   ]
  },
  {
   "attachments": {},
   "cell_type": "markdown",
   "metadata": {},
   "source": [
    "### Carregando dados do CSV"
   ]
  },
  {
   "cell_type": "code",
   "execution_count": null,
   "metadata": {},
   "outputs": [],
   "source": [
    "import pandas as pd\n",
    "\n",
    "# # Mostrar mais colunas\n",
    "pd.set_option(\"display.max_columns\", 100)\n",
    "pd.set_option('display.max_colwidth', 100)\n",
    "\n",
    "df = pd.read_parquet(\n",
    "    \"../output/gold/rais_TODOS_ANOS_comJoin_RAIS_VINC_PUB.parquet.gzip\")\n",
    "\n",
    "qnt_total = len(df)\n",
    "\n",
    "print(f\"\"\"\n",
    "Quantidade docs: {qnt_total}\n",
    "\"\"\")\n",
    "\n",
    "df.head(2)\n"
   ]
  },
  {
   "cell_type": "code",
   "execution_count": null,
   "metadata": {},
   "outputs": [],
   "source": [
    "df[\"ocupacao_id\"].value_counts()\n"
   ]
  },
  {
   "attachments": {},
   "cell_type": "markdown",
   "metadata": {},
   "source": [
    "### Inserindo no BD"
   ]
  },
  {
   "cell_type": "code",
   "execution_count": null,
   "metadata": {},
   "outputs": [],
   "source": [
    "# cursor = cnx.cursor()\n",
    "# cursor.execute('SET NAMES utf8;')\n",
    "# cursor.execute('SET CHARACTER SET utf8;')\n",
    "# cursor.execute('SET character_set_connection=utf8;')\n"
   ]
  },
  {
   "cell_type": "code",
   "execution_count": null,
   "metadata": {},
   "outputs": [],
   "source": [
    "def get_coluna_id_valor(coluna_id, coluna_valor):\n",
    "    counts = df[[coluna_id, coluna_valor]].value_counts()\n",
    "    return counts.index.tolist()\n",
    "    \n",
    "get_coluna_id_valor(\"sexo_id\", \"sexo\")"
   ]
  },
  {
   "cell_type": "code",
   "execution_count": null,
   "metadata": {},
   "outputs": [],
   "source": [
    "def get_uf_and_regiao_id():\n",
    "    counts = df[[\"sigla_uf_id\", \"regiao_id\", \"sigla_uf\"]].value_counts()\n",
    "    return counts.index.tolist()\n",
    "\n",
    "get_uf_and_regiao_id()[:2]\n"
   ]
  },
  {
   "cell_type": "code",
   "execution_count": null,
   "metadata": {},
   "outputs": [],
   "source": [
    "from __future__ import print_function\n",
    "from datetime import date, datetime, timedelta\n",
    "import mysql.connector\n",
    "\n",
    "cnx = mysql.connector.connect(user='test', password='test', database='test')\n",
    "cursor = cnx.cursor()\n",
    "\n",
    "# === OCUPACAO ===\n",
    "\n",
    "add_query = (\"INSERT INTO OCUPACAO \"\n",
    "            \"(id, nome) \"\n",
    "            \"VALUES (%s, %s)\")\n",
    "\n",
    "[cursor.execute(add_query, (id, valor))\n",
    " for id, valor in get_coluna_id_valor(\"ocupacao_id\", \"ocupacao\")]\n",
    " \n",
    "# === SEXO ===\n",
    "\n",
    "add_query = (\"INSERT INTO SEXO \"\n",
    "            \"(id, nome) \"\n",
    "            \"VALUES (%s, %s)\")\n",
    "\n",
    "[cursor.execute(add_query, (id, valor))\n",
    " for id, valor in get_coluna_id_valor(\"sexo_id\", \"sexo\")]\n",
    "\n",
    "# === REGIAO ===\n",
    "\n",
    "add_query = (\"INSERT INTO REGIAO \"\n",
    "            \"(id, nome) \"\n",
    "            \"VALUES (%s, %s)\")\n",
    "\n",
    "[cursor.execute(add_query, (id, valor))\n",
    " for id, valor in get_coluna_id_valor(\"regiao_id\", \"regiao\")]\n",
    "\n",
    "# ============ COMMIT ============\n",
    "cnx.commit()\n",
    "\n"
   ]
  },
  {
   "cell_type": "code",
   "execution_count": null,
   "metadata": {},
   "outputs": [],
   "source": [
    "\n",
    "# === UF ===\n",
    "\n",
    "add_query = (\"INSERT INTO UF \"\n",
    "             \"(id, id_regiao, nome) \"\n",
    "             \"VALUES (%s, %s, %s)\")\n",
    "\n",
    "[cursor.execute(add_query, (id, id_regiao, valor))\n",
    " for id, id_regiao, valor in get_uf_and_regiao_id()]\n",
    "\n",
    "# ============ COMMIT ============\n",
    "cnx.commit()\n"
   ]
  },
  {
   "attachments": {},
   "cell_type": "markdown",
   "metadata": {},
   "source": [
    "## Exibindo linhas para inserir"
   ]
  },
  {
   "cell_type": "code",
   "execution_count": null,
   "metadata": {},
   "outputs": [],
   "source": [
    "add_query = (\"INSERT INTO OCUPACAO \"\n",
    "             \"(id, nome) \"\n",
    "             \"VALUES \")\n",
    "\n",
    "vals = \", \".join((f\"({str(id)}, '{str(valor)}')\")\n",
    "                 for id, valor in get_coluna_id_valor(\"ocupacao_id\", \"ocupacao\"))\n",
    "print(add_query + vals)\n"
   ]
  },
  {
   "cell_type": "code",
   "execution_count": null,
   "metadata": {},
   "outputs": [],
   "source": [
    "add_query = (\"INSERT INTO SEXO \"\n",
    "             \"(id, nome) \"\n",
    "             \"VALUES \")\n",
    "\n",
    "vals = \", \".join((f\"({str(id)}, '{str(valor)}')\")\n",
    "                 for id, valor in get_coluna_id_valor(\"sexo_id\", \"sexo\"))\n",
    "print(add_query + vals)\n"
   ]
  },
  {
   "cell_type": "code",
   "execution_count": null,
   "metadata": {},
   "outputs": [],
   "source": [
    "add_query = (\"INSERT INTO REGIAO \"\n",
    "             \"(id, nome) \"\n",
    "             \"VALUES \")\n",
    "\n",
    "vals = \", \".join((f\"({str(id)}, '{str(valor)}')\")\n",
    "                 for id, valor in get_coluna_id_valor(\"regiao_id\", \"regiao\"))\n",
    "print(add_query + vals)"
   ]
  },
  {
   "cell_type": "code",
   "execution_count": null,
   "metadata": {},
   "outputs": [],
   "source": [
    "add_query = (\"INSERT INTO UF \"\n",
    "             \"(id, id_regiao, nome) \"\n",
    "             \"VALUES \")\n",
    "\n",
    "vals = \", \".join((f\"({str(id)}, {str(id_regiao)}, '{str(valor)}')\")\n",
    "                 for id, id_regiao, valor in get_uf_and_regiao_id())\n",
    "print(add_query + vals)"
   ]
  },
  {
   "cell_type": "code",
   "execution_count": null,
   "metadata": {},
   "outputs": [],
   "source": [
    "df.head(1)"
   ]
  },
  {
   "attachments": {},
   "cell_type": "markdown",
   "metadata": {},
   "source": [
    "## RAIS"
   ]
  },
  {
   "cell_type": "code",
   "execution_count": 1,
   "metadata": {},
   "outputs": [
    {
     "name": "stdout",
     "output_type": "stream",
     "text": [
      "\n",
      "Quantidade docs: 1543009\n",
      "\n"
     ]
    },
    {
     "data": {
      "text/html": [
       "<div>\n",
       "<style scoped>\n",
       "    .dataframe tbody tr th:only-of-type {\n",
       "        vertical-align: middle;\n",
       "    }\n",
       "\n",
       "    .dataframe tbody tr th {\n",
       "        vertical-align: top;\n",
       "    }\n",
       "\n",
       "    .dataframe thead th {\n",
       "        text-align: right;\n",
       "    }\n",
       "</style>\n",
       "<table border=\"1\" class=\"dataframe\">\n",
       "  <thead>\n",
       "    <tr style=\"text-align: right;\">\n",
       "      <th></th>\n",
       "      <th>ano</th>\n",
       "      <th>sigla_uf_id</th>\n",
       "      <th>regiao</th>\n",
       "      <th>regiao_id</th>\n",
       "      <th>sigla_uf</th>\n",
       "      <th>remuneracao_media</th>\n",
       "      <th>desligamento</th>\n",
       "      <th>idade</th>\n",
       "      <th>ocupacao_id</th>\n",
       "      <th>ocupacao</th>\n",
       "      <th>sexo_id</th>\n",
       "      <th>sexo</th>\n",
       "    </tr>\n",
       "  </thead>\n",
       "  <tbody>\n",
       "    <tr>\n",
       "      <th>0</th>\n",
       "      <td>2019</td>\n",
       "      <td>11</td>\n",
       "      <td>Centro-Oeste</td>\n",
       "      <td>0</td>\n",
       "      <td>MS</td>\n",
       "      <td>997.99</td>\n",
       "      <td>0</td>\n",
       "      <td>17</td>\n",
       "      <td>317210</td>\n",
       "      <td>Tecnico de Apoio ao Usuario de Informatica (Helpdesk)</td>\n",
       "      <td>1</td>\n",
       "      <td>Masculino</td>\n",
       "    </tr>\n",
       "    <tr>\n",
       "      <th>1</th>\n",
       "      <td>2019</td>\n",
       "      <td>11</td>\n",
       "      <td>Centro-Oeste</td>\n",
       "      <td>0</td>\n",
       "      <td>MS</td>\n",
       "      <td>0.00</td>\n",
       "      <td>0</td>\n",
       "      <td>36</td>\n",
       "      <td>212420</td>\n",
       "      <td>Analista de Suporte Computacional</td>\n",
       "      <td>1</td>\n",
       "      <td>Masculino</td>\n",
       "    </tr>\n",
       "  </tbody>\n",
       "</table>\n",
       "</div>"
      ],
      "text/plain": [
       "    ano  sigla_uf_id        regiao  regiao_id sigla_uf  remuneracao_media   \n",
       "0  2019           11  Centro-Oeste          0       MS             997.99  \\\n",
       "1  2019           11  Centro-Oeste          0       MS               0.00   \n",
       "\n",
       "   desligamento  idade  ocupacao_id   \n",
       "0             0     17       317210  \\\n",
       "1             0     36       212420   \n",
       "\n",
       "                                                ocupacao  sexo_id       sexo  \n",
       "0  Tecnico de Apoio ao Usuario de Informatica (Helpdesk)        1  Masculino  \n",
       "1                      Analista de Suporte Computacional        1  Masculino  "
      ]
     },
     "execution_count": 1,
     "metadata": {},
     "output_type": "execute_result"
    }
   ],
   "source": [
    "import pandas as pd\n",
    "\n",
    "# # Mostrar mais colunas\n",
    "pd.set_option(\"display.max_columns\", 100)\n",
    "pd.set_option('display.max_colwidth', 100)\n",
    "\n",
    "df = pd.read_parquet(\n",
    "    \"../output/gold/rais_TODOS_ANOS_comJoin_RAIS_VINC_PUB.parquet.gzip\")\n",
    "\n",
    "qnt_total = len(df)\n",
    "\n",
    "print(f\"\"\"\n",
    "Quantidade docs: {qnt_total}\n",
    "\"\"\")\n",
    "\n",
    "df.head(2)\n"
   ]
  },
  {
   "cell_type": "code",
   "execution_count": 14,
   "metadata": {},
   "outputs": [
    {
     "data": {
      "text/plain": [
       "array([], dtype=object)"
      ]
     },
     "execution_count": 14,
     "metadata": {},
     "output_type": "execute_result"
    }
   ],
   "source": [
    "# df[df[\"regiao_id\"] == -1][\"regiao\"].values"
   ]
  },
  {
   "cell_type": "code",
   "execution_count": 6,
   "metadata": {},
   "outputs": [
    {
     "data": {
      "text/html": [
       "<div>\n",
       "<style scoped>\n",
       "    .dataframe tbody tr th:only-of-type {\n",
       "        vertical-align: middle;\n",
       "    }\n",
       "\n",
       "    .dataframe tbody tr th {\n",
       "        vertical-align: top;\n",
       "    }\n",
       "\n",
       "    .dataframe thead th {\n",
       "        text-align: right;\n",
       "    }\n",
       "</style>\n",
       "<table border=\"1\" class=\"dataframe\">\n",
       "  <thead>\n",
       "    <tr style=\"text-align: right;\">\n",
       "      <th></th>\n",
       "      <th>ano</th>\n",
       "      <th>sigla_uf_id</th>\n",
       "      <th>regiao</th>\n",
       "      <th>regiao_id</th>\n",
       "      <th>sigla_uf</th>\n",
       "      <th>remuneracao_media</th>\n",
       "      <th>desligamento</th>\n",
       "      <th>idade</th>\n",
       "      <th>ocupacao_id</th>\n",
       "      <th>ocupacao</th>\n",
       "      <th>sexo_id</th>\n",
       "      <th>sexo</th>\n",
       "    </tr>\n",
       "  </thead>\n",
       "  <tbody>\n",
       "  </tbody>\n",
       "</table>\n",
       "</div>"
      ],
      "text/plain": [
       "Empty DataFrame\n",
       "Columns: [ano, sigla_uf_id, regiao, regiao_id, sigla_uf, remuneracao_media, desligamento, idade, ocupacao_id, ocupacao, sexo_id, sexo]\n",
       "Index: []"
      ]
     },
     "execution_count": 6,
     "metadata": {},
     "output_type": "execute_result"
    }
   ],
   "source": [
    "# print rows that contains nan\n",
    "df[\"remuneracao_media\"].fillna(0, inplace=True)\n",
    "# df.loc[df[\"regiao\"] == \"None\", \"regiao\"] =\n",
    "df[df.isna().any(axis=1)]\n"
   ]
  },
  {
   "cell_type": "code",
   "execution_count": 2,
   "metadata": {},
   "outputs": [
    {
     "data": {
      "text/plain": [
       "[(317210.0, 1.0, 11.0, 2019.0, 997.99, 0.0, 17.0),\n",
       " (212420.0, 1.0, 11.0, 2019.0, 0.0, 0.0, 36.0)]"
      ]
     },
     "execution_count": 2,
     "metadata": {},
     "output_type": "execute_result"
    }
   ],
   "source": [
    "def get_rais():\n",
    "    counts = df[[\n",
    "        \"ocupacao_id\", \"sexo_id\", \"sigla_uf_id\", \"ano\", \"remuneracao_media\", \"desligamento\", \"idade\"]]\n",
    "    # counts.values to tuples\n",
    "    lista = counts.values.tolist()\n",
    "\n",
    "    # lista as tuples\n",
    "    lista = [tuple(x) for x in lista]\n",
    "    return lista\n",
    "    \n",
    "\n",
    "\n",
    "\n",
    "get_rais()[:2]\n"
   ]
  },
  {
   "cell_type": "code",
   "execution_count": null,
   "metadata": {},
   "outputs": [],
   "source": [
    "def generate_batch_insert_rais(batch_size= 100, size_max = 1000):\n",
    "  query_final = \"\"\n",
    "\n",
    "  for i in range(0, len(get_rais()[:size_max]), batch_size):\n",
    "    add_query = (\"INSERT INTO RAIS \"\n",
    "            \"(id_ocupacao, id_sexo, id_uf, ano, remuneracao_media, desligamento, idade) \"\n",
    "            \"VALUES \")\n",
    "\n",
    "    vals = \", \".join((f\"({str(id_ocupacao)}, {str(id_sexo)}, {str(id_uf)}, {str(ano)}, {str(remuneracao_media)}, {str(desligamento)}, {str(idade)})\")\n",
    "                    for id_ocupacao, id_sexo, id_uf, ano, remuneracao_media, desligamento, idade in get_rais()[i:i+batch_size])\n",
    "    query_final += add_query + vals + \"; \\n\"\n",
    "    print(f\"\\n\\n -- ====  Rodada {i}\")\n",
    "    print(add_query + vals)\n",
    "  return query_final\n",
    "\n",
    "\n",
    "qf = generate_batch_insert_rais(10, 30)\n",
    "qf\n",
    "# save to local txt file\n",
    "# with open(\"./querys_sql/insert-rais.txt\", \"w\") as f:\n",
    "#     f.write(qf)\n"
   ]
  },
  {
   "cell_type": "code",
   "execution_count": 17,
   "metadata": {},
   "outputs": [
    {
     "data": {
      "text/plain": [
       "1543009"
      ]
     },
     "execution_count": 17,
     "metadata": {},
     "output_type": "execute_result"
    }
   ],
   "source": [
    "len(get_rais())"
   ]
  },
  {
   "cell_type": "code",
   "execution_count": 3,
   "metadata": {},
   "outputs": [
    {
     "name": "stdout",
     "output_type": "stream",
     "text": [
      "\n",
      "\n",
      " -- ====  Rodada 0\n",
      "1054 (42S22): Unknown column 'nan' in 'field list'\n",
      "0\n",
      "\n",
      "\n",
      " -- ====  Rodada 500000\n",
      "1054 (42S22): Unknown column 'nan' in 'field list'\n",
      "500000\n"
     ]
    }
   ],
   "source": [
    "from __future__ import print_function\n",
    "from datetime import date, datetime, timedelta\n",
    "import mysql.connector\n",
    "\n",
    "cnx = mysql.connector.connect(user='fbd', password='fbd', database='projfbd')\n",
    "cursor = cnx.cursor()\n",
    "\n",
    "# === OCUPACAO ===\n",
    "\n",
    "# open file\n",
    "# with open(\"./querys_sql/insert-rais.txt\", \"r\") as f:\n",
    "#     query_final = f.read()\n",
    "\n",
    "# cursor.execute(qf)\n",
    "\n",
    "def generate_batch_insert_rais(batch_size=1000, size_max=10000):\n",
    "  for i in range(0, len(get_rais()[:size_max]), batch_size):\n",
    "    add_query = (\"INSERT INTO RAIS \"\n",
    "                 \"(id_ocupacao, id_sexo, id_uf, ano, remuneracao_media, desligamento, idade) \"\n",
    "                 \"VALUES \")\n",
    "\n",
    "    vals = \", \".join((f\"({str(id_ocupacao)}, {str(id_sexo)}, {str(id_uf)}, {str(ano)}, {str(remuneracao_media)}, {str(desligamento)}, {str(idade)})\")\n",
    "                     for id_ocupacao, id_sexo, id_uf, ano, remuneracao_media, desligamento, idade in get_rais()[i:i+batch_size])\n",
    "    print(f\"\\n\\n -- ====  Rodada {i}\")\n",
    "    # print(add_query + vals)\n",
    "    try:\n",
    "      cursor.execute(add_query + vals)\n",
    "    except Exception as e:\n",
    "      print(e)\n",
    "      print(i)\n",
    "      # print(vals)\n",
    "    \n",
    "\n",
    "generate_batch_insert_rais(500000, 1000000)\n",
    "\n",
    "# ============ COMMIT ============\n",
    "cnx.commit()\n"
   ]
  },
  {
   "attachments": {},
   "cell_type": "markdown",
   "metadata": {},
   "source": [
    "___________"
   ]
  },
  {
   "cell_type": "code",
   "execution_count": null,
   "metadata": {},
   "outputs": [],
   "source": [
    "# df[df[\"ocupacao\"] == \"Analista de Sistemas de Automacao\"]\n",
    "df[\"ocupacao\"].value_counts()"
   ]
  },
  {
   "cell_type": "code",
   "execution_count": null,
   "metadata": {},
   "outputs": [],
   "source": [
    "import mysql.connector\n",
    "from mysql.connector import errorcode\n",
    "\n",
    "cnx = mysql.connector.connect(user='test', password='test', database='test')\n",
    "cursor = cnx.cursor()\n",
    "\n",
    "# from each line in df create a sql insert statement\n",
    "def create_insert_sql(row):\n",
    "    print(f\"\"\"{row['ocupacao_id']},\n",
    "                {row['sexo_id']},\n",
    "                {row['sigla_uf_id']},\n",
    "                {row['ano']},\n",
    "                {row['remuneracao_media']},\n",
    "                {row['desligamento']},\n",
    "                {row['idade']}\"\"\")\n",
    "\n",
    "    add = (\"INSERT INTO RAIS \"\n",
    "                \"(id_ocupacao, id_sexo, id_uf, ano, remuneracao_media, desligamento, idade) \"\n",
    "                \"VALUES (%s, %s, %s, %s, %s, %s, %s)\")\n",
    "\n",
    "    data = ({row['ocupacao_id']},\n",
    "            {row['sexo_id']},\n",
    "            {row['sigla_uf_id']},\n",
    "            {row['ano']},\n",
    "            {row['remuneracao_media']},\n",
    "            {row['desligamento']},\n",
    "            {row['idade']})\n",
    "\n",
    "    # Insert new employee\n",
    "    cursor.execute(add, data)\n",
    "\n",
    "# df[:1].apply(create_insert_sql, axis=1)\n",
    "# df[:3].apply(cursor.execute(create_insert_sql), axis=1)\n",
    "df[:3].apply(create_insert_sql, axis=1)\n"
   ]
  },
  {
   "cell_type": "code",
   "execution_count": null,
   "metadata": {},
   "outputs": [],
   "source": [
    "from __future__ import print_function\n",
    "from datetime import date, datetime, timedelta\n",
    "import mysql.connector\n",
    "\n",
    "cnx = mysql.connector.connect(user='test', password='test', database='test')\n",
    "cursor = cnx.cursor()\n",
    "\n",
    "\n",
    "# cursor.execute(\"INSERT INTO RAIS ( id_ocupacao, id_sexo, id_uf, ano, remuneracao_media, desligamento, idade ) VALUES ( 317110, 1, 11, 2019, 1547, 0, 21 )\")\n",
    "# cursor.execute((\"INSERT INTO SEXO (id, nome) VALUES (%s, %s)\", (1, 'Feminino')))\n",
    "# cursor.execute(\"INSERT INTO SEXO (nome) VALUES (%s)\", ('Feminino', 'Masculino'))\n",
    "\n",
    "add_employee = (\"INSERT INTO SEXO \"\n",
    "                \"(id, nome) \"\n",
    "                \"VALUES (%s, %s)\")\n",
    "data_employee = (1, 'Feminino')\n",
    "\n",
    "# Insert new employee\n",
    "cursor.execute(add_employee, data_employee)\n",
    "\n",
    "# Make sure data is committed to the database\n",
    "cnx.commit()\n"
   ]
  },
  {
   "cell_type": "code",
   "execution_count": null,
   "metadata": {},
   "outputs": [],
   "source": [
    "from __future__ import print_function\n",
    "from datetime import date, datetime, timedelta\n",
    "import mysql.connector\n",
    "\n",
    "cnx = mysql.connector.connect(user='test', password='test', database='test')\n",
    "cursor = cnx.cursor()\n",
    "\n",
    "tomorrow = datetime.now().date() + timedelta(days=1)\n",
    "\n",
    "add_employee = (\"INSERT INTO employees \"\n",
    "                \"(first_name, last_name, hire_date, gender, birth_date) \"\n",
    "                \"VALUES (%s, %s, %s, %s, %s)\")\n",
    "add_salary = (\"INSERT INTO salaries \"\n",
    "              \"(emp_no, salary, from_date, to_date) \"\n",
    "              \"VALUES (%(emp_no)s, %(salary)s, %(from_date)s, %(to_date)s)\")\n",
    "\n",
    "data_employee = ('Geert', 'Vanderkelen', tomorrow, 'M', date(1977, 6, 14))\n",
    "\n",
    "# Insert new employee\n",
    "cursor.execute(add_employee, data_employee)\n",
    "emp_no = cursor.lastrowid\n",
    "\n",
    "# Insert salary information\n",
    "data_salary = {\n",
    "    'emp_no': emp_no,\n",
    "    'salary': 50000,\n",
    "    'from_date': tomorrow,\n",
    "    'to_date': date(9999, 1, 1),\n",
    "}\n",
    "cursor.execute(add_salary, data_salary)\n",
    "\n",
    "# Make sure data is committed to the database\n",
    "cnx.commit()\n",
    "\n",
    "cursor.close()\n",
    "cnx.close()\n"
   ]
  },
  {
   "cell_type": "code",
   "execution_count": null,
   "metadata": {},
   "outputs": [],
   "source": [
    "cursor.close()\n",
    "cnx.close()"
   ]
  }
 ],
 "metadata": {
  "kernelspec": {
   "display_name": "base",
   "language": "python",
   "name": "python3"
  },
  "language_info": {
   "codemirror_mode": {
    "name": "ipython",
    "version": 3
   },
   "file_extension": ".py",
   "mimetype": "text/x-python",
   "name": "python",
   "nbconvert_exporter": "python",
   "pygments_lexer": "ipython3",
   "version": "3.8.16"
  },
  "orig_nbformat": 4
 },
 "nbformat": 4,
 "nbformat_minor": 2
}
