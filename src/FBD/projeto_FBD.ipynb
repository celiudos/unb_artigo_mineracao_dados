{
 "cells": [
  {
   "attachments": {},
   "cell_type": "markdown",
   "metadata": {},
   "source": [
    "# Fundamentos de BD (Márcio Victorino)\n",
    "\n",
    "## Partes do Projeto:\n",
    "1. Introdução.\n",
    "1. Modelo de dados Relacional.\n",
    "1. O script SQL que gerou o banco de dados.\n",
    "1. Apresentar o processo de ETL (Extract, Transform, Load) para importação dos\n",
    "dados para o banco de dados.\n",
    "1. Utilização de pelo menos uma View.\n",
    "1. Utilização de pelo menos uma Procedure (com comandos condicionais).\n",
    "1. Utilização de pelo menos um trigger (com comandos condicionais).\n",
    "1. No mínimo 5 Consultas SQL (a complexidade da consulta será avaliada).\n",
    "\n",
    "**Data Limite para a Entrega da Parte Escrita: 02/06/2023**\n",
    "\n",
    "## Observações\n",
    "\n",
    "- Dados abertos (ex: FNDE, bolsa família)\n",
    "- Linkar com o Artigo da matéria do Ladeira MD\n",
    "- Joga em um CSV e alimenta o BD SQL\n",
    "- No mínimo milhares de dezenas de linhas\n",
    "- Não executar a consulta na apresentação\n",
    "- Printar os resultados e mostrar na apresentação\n",
    "\n",
    "## Alunos: \n",
    "\n",
    "Marcelo Anselmo de Souza Filho\n",
    "- Matrícula: **231109719**\n",
    "- Email: **marcelofilho@mpf.mp.br**\n",
    "\n",
    "Arivaldo Gonçalves\n",
    "- Matrícula: **231109620**\n",
    "- Email: **arivaldofreitas@correios.com.br**\n",
    "\n",
    "Luciana Maria\n",
    "- Matrícula: **231109700**\n",
    "- Email: **luciana@mpdft.mp.br**\n",
    "\n",
    "____"
   ]
  },
  {
   "attachments": {},
   "cell_type": "markdown",
   "metadata": {},
   "source": [
    "# 1. Introdução"
   ]
  },
  {
   "attachments": {},
   "cell_type": "markdown",
   "metadata": {},
   "source": [
    "Este estudo aborda a diferença salarial entre homens e mulheres na área de TI durante a pandemia. Ele também explora possíveis cenários para analisara disparidade salarial e de desligamento entre gêneros na área de tecnologia, antes e após a pandemia.\tUtilizou-se dados no nível do indivíduo, de 2019 e 2020, obtidos da Relação Anual de Informações Sociais (Rais), que proporciona dados oficiais sobre o mercado de trabalho no Brasil. No geral, constatou-se a remuneração média das mulheres é menor que a dos homens em todas as regiões do Brasil, tanto em 2019 quanto em 2020. Além disso, a quantidade de desligamento de homens é maior que a de mulheres em todas as regiões do Brasil, tanto em 2019 quanto em 2020."
   ]
  },
  {
   "attachments": {},
   "cell_type": "markdown",
   "metadata": {},
   "source": [
    "# 2. Modelo de dados Relacional"
   ]
  },
  {
   "attachments": {},
   "cell_type": "markdown",
   "metadata": {},
   "source": [
    "## Carregar dados"
   ]
  },
  {
   "cell_type": "code",
   "execution_count": 1,
   "metadata": {},
   "outputs": [
    {
     "name": "stdout",
     "output_type": "stream",
     "text": [
      "\n",
      "Quantidade docs: 1543009\n",
      "\n"
     ]
    },
    {
     "data": {
      "text/html": [
       "<div>\n",
       "<style scoped>\n",
       "    .dataframe tbody tr th:only-of-type {\n",
       "        vertical-align: middle;\n",
       "    }\n",
       "\n",
       "    .dataframe tbody tr th {\n",
       "        vertical-align: top;\n",
       "    }\n",
       "\n",
       "    .dataframe thead th {\n",
       "        text-align: right;\n",
       "    }\n",
       "</style>\n",
       "<table border=\"1\" class=\"dataframe\">\n",
       "  <thead>\n",
       "    <tr style=\"text-align: right;\">\n",
       "      <th></th>\n",
       "      <th>ano</th>\n",
       "      <th>sigla_uf_id</th>\n",
       "      <th>regiao</th>\n",
       "      <th>regiao_id</th>\n",
       "      <th>sigla_uf</th>\n",
       "      <th>remuneracao_media</th>\n",
       "      <th>desligamento</th>\n",
       "      <th>idade</th>\n",
       "      <th>ocupacao_id</th>\n",
       "      <th>ocupacao</th>\n",
       "      <th>sexo_id</th>\n",
       "      <th>sexo</th>\n",
       "    </tr>\n",
       "  </thead>\n",
       "  <tbody>\n",
       "    <tr>\n",
       "      <th>0</th>\n",
       "      <td>2019</td>\n",
       "      <td>11</td>\n",
       "      <td>Centro-Oeste</td>\n",
       "      <td>0</td>\n",
       "      <td>MS</td>\n",
       "      <td>997.99</td>\n",
       "      <td>0</td>\n",
       "      <td>17</td>\n",
       "      <td>317210</td>\n",
       "      <td>Analista de service desk</td>\n",
       "      <td>1</td>\n",
       "      <td>Masculino</td>\n",
       "    </tr>\n",
       "    <tr>\n",
       "      <th>1</th>\n",
       "      <td>2019</td>\n",
       "      <td>11</td>\n",
       "      <td>Centro-Oeste</td>\n",
       "      <td>0</td>\n",
       "      <td>MS</td>\n",
       "      <td>0.00</td>\n",
       "      <td>0</td>\n",
       "      <td>36</td>\n",
       "      <td>212420</td>\n",
       "      <td>Analista de suporte</td>\n",
       "      <td>1</td>\n",
       "      <td>Masculino</td>\n",
       "    </tr>\n",
       "  </tbody>\n",
       "</table>\n",
       "</div>"
      ],
      "text/plain": [
       "    ano  sigla_uf_id        regiao  regiao_id sigla_uf  remuneracao_media  \\\n",
       "0  2019           11  Centro-Oeste          0       MS             997.99   \n",
       "1  2019           11  Centro-Oeste          0       MS               0.00   \n",
       "\n",
       "   desligamento  idade  ocupacao_id                  ocupacao  sexo_id  \\\n",
       "0             0     17       317210  Analista de service desk        1   \n",
       "1             0     36       212420       Analista de suporte        1   \n",
       "\n",
       "        sexo  \n",
       "0  Masculino  \n",
       "1  Masculino  "
      ]
     },
     "execution_count": 1,
     "metadata": {},
     "output_type": "execute_result"
    }
   ],
   "source": [
    "import pandas as pd\n",
    "\n",
    "# # Mostrar mais colunas\n",
    "pd.set_option(\"display.max_columns\", 100)\n",
    "pd.set_option('display.max_colwidth', 100)\n",
    "\n",
    "df = pd.read_parquet(\n",
    "    \"../output/gold/rais_TODOS_ANOS_comJoin_RAIS_VINC_PUB.parquet.gzip\")\n",
    "\n",
    "qnt_full = len(df)\n",
    "print(f\"\"\"\n",
    "Quantidade docs: {qnt_full}\n",
    "\"\"\")\n",
    "\n",
    "df.head(2)\n"
   ]
  },
  {
   "cell_type": "code",
   "execution_count": 2,
   "metadata": {},
   "outputs": [],
   "source": [
    "# df.info()"
   ]
  },
  {
   "attachments": {},
   "cell_type": "markdown",
   "metadata": {},
   "source": [
    "## Modelo Entidade Relacionamento"
   ]
  },
  {
   "attachments": {},
   "cell_type": "markdown",
   "metadata": {},
   "source": [
    "https://mermaid.js.org/syntax/entityRelationshipDiagram.html"
   ]
  },
  {
   "attachments": {},
   "cell_type": "markdown",
   "metadata": {},
   "source": [
    "```mermaid\n",
    "---\n",
    "title: Modelo Entidade Relacionamento\n",
    "---\n",
    "erDiagram\n",
    "    RAIS {\n",
    "        int id PK\n",
    "        int id_ocupacao FK\n",
    "        int id_sexo FK\n",
    "        int id_uf FK\n",
    "        int ano\n",
    "        float remuneracao_media\n",
    "        int desligamento\n",
    "        int idade\n",
    "    }\n",
    "    OCUPACAO {\n",
    "        int id PK\n",
    "        string nome\n",
    "    }\n",
    "    SEXO {\n",
    "        int id PK\n",
    "        string nome\n",
    "    }\n",
    "    UF {\n",
    "        int id PK\n",
    "        int id_regiao FK\n",
    "        string sigla_uf\n",
    "    }\n",
    "    REGIAO {\n",
    "        int id PK\n",
    "        string nome\n",
    "    }\n",
    "    RAIS ||--|| OCUPACAO : contem\n",
    "    RAIS ||--|| SEXO : contem\n",
    "    RAIS ||--|| UF : contem\n",
    "    UF ||--|| REGIAO : faz_parte\n",
    "    \n",
    "```"
   ]
  },
  {
   "attachments": {},
   "cell_type": "markdown",
   "metadata": {},
   "source": [
    "# Criando DB"
   ]
  },
  {
   "attachments": {},
   "cell_type": "markdown",
   "metadata": {},
   "source": [
    "https://dev.mysql.com/doc/connector-python/en/connector-python-example-ddl.html"
   ]
  },
  {
   "cell_type": "code",
   "execution_count": 6,
   "metadata": {},
   "outputs": [],
   "source": [
    "# !pip install mysql-connector-python"
   ]
  },
  {
   "cell_type": "code",
   "execution_count": 7,
   "metadata": {},
   "outputs": [],
   "source": [
    "from __future__ import print_function\n",
    "\n",
    "import mysql.connector\n",
    "from mysql.connector import errorcode\n",
    "\n",
    "cnx = mysql.connector.connect(user='test', password='test')\n",
    "cursor = cnx.cursor()\n",
    "\n",
    "DB_NAME = 'test'\n",
    "\n",
    "TABLES = {\n",
    "    \"OCUPACAO\": (\"\"\"\n",
    "        CREATE TABLE OCUPACAO (\n",
    "            id INT NOT NULL,\n",
    "            nome VARCHAR(255) NOT NULL,\n",
    "            PRIMARY KEY (id)\n",
    "        ) ENGINE=InnoDB\n",
    "    \"\"\"),\n",
    "    \"SEXO\": (\"\"\"\n",
    "        CREATE TABLE SEXO (\n",
    "            id INT NOT NULL,\n",
    "            nome VARCHAR(255) NOT NULL,\n",
    "            PRIMARY KEY (id)\n",
    "        ) ENGINE=InnoDB\n",
    "    \"\"\"),\n",
    "    \"REGIAO\": (\"\"\"\n",
    "        CREATE TABLE REGIAO (\n",
    "            id INT NOT NULL,\n",
    "            nome VARCHAR(255) NOT NULL,\n",
    "            PRIMARY KEY (id)\n",
    "        ) ENGINE=InnoDB\n",
    "    \"\"\"),\n",
    "    \"UF\": (\"\"\"\n",
    "        CREATE TABLE UF (\n",
    "            id INT NOT NULL,\n",
    "            id_regiao INT NOT NULL,\n",
    "            nome VARCHAR(255) NOT NULL,\n",
    "            PRIMARY KEY (id),\n",
    "            FOREIGN KEY (id_regiao) REFERENCES REGIAO(id)\n",
    "        ) ENGINE=InnoDB\n",
    "    \"\"\"),\n",
    "    \"RAIS\": (\"\"\"\n",
    "        CREATE TABLE RAIS (\n",
    "            id INT NOT NULL AUTO_INCREMENT,\n",
    "            id_ocupacao INT NOT NULL,\n",
    "            id_sexo INT NOT NULL,\n",
    "            id_uf INT NOT NULL,\n",
    "            ano INT NOT NULL,\n",
    "            remuneracao_media FLOAT NOT NULL,\n",
    "            desligamento INT NOT NULL,\n",
    "            idade INT NOT NULL,\n",
    "            PRIMARY KEY (id),\n",
    "            FOREIGN KEY (id_ocupacao) REFERENCES OCUPACAO(id),\n",
    "            FOREIGN KEY (id_sexo) REFERENCES SEXO(id),\n",
    "            FOREIGN KEY (id_uf) REFERENCES UF(id)\n",
    "        ) ENGINE=InnoDB\n",
    "    \"\"\"),\n",
    "}\n",
    "\n"
   ]
  },
  {
   "cell_type": "code",
   "execution_count": 8,
   "metadata": {},
   "outputs": [],
   "source": [
    "# def conectando_bd():\n",
    "#   cnx = mysql.connector.connect(user='test', password='test')\n",
    "#   return cnx.cursor()\n",
    "\n",
    "# cursor = conectando_bd()\n"
   ]
  },
  {
   "cell_type": "code",
   "execution_count": 9,
   "metadata": {},
   "outputs": [
    {
     "name": "stdout",
     "output_type": "stream",
     "text": [
      "Database test created successfully.\n"
     ]
    }
   ],
   "source": [
    "def create_database(cursor):\n",
    "    try:\n",
    "        cursor.execute(\n",
    "            \"DROP DATABASE IF EXISTS {}\".format(DB_NAME))\n",
    "        cursor.execute(\n",
    "            \"CREATE DATABASE {} DEFAULT CHARACTER SET 'utf8'\".format(DB_NAME))\n",
    "    except mysql.connector.Error as err:\n",
    "        print(\"Failed creating database: {}\".format(err))\n",
    "        exit(1)\n",
    "\n",
    "create_database(cursor)\n",
    "print(\"Database {} created successfully.\".format(DB_NAME))\n",
    "cnx.database = DB_NAME"
   ]
  },
  {
   "cell_type": "code",
   "execution_count": 10,
   "metadata": {},
   "outputs": [
    {
     "name": "stdout",
     "output_type": "stream",
     "text": [
      "Creating table OCUPACAO: OK\n",
      "Creating table SEXO: OK\n",
      "Creating table REGIAO: OK\n",
      "Creating table UF: OK\n",
      "Creating table RAIS: OK\n"
     ]
    }
   ],
   "source": [
    "for table_name in TABLES:\n",
    "    table_description = TABLES[table_name]\n",
    "    try:\n",
    "        print(\"Creating table {}: \".format(table_name), end='')\n",
    "        cursor.execute(table_description)\n",
    "    except mysql.connector.Error as err:\n",
    "        if err.errno == errorcode.ER_TABLE_EXISTS_ERROR:\n",
    "            print(\"already exists.\")\n",
    "        else:\n",
    "            print(err.msg)\n",
    "    else:\n",
    "        print(\"OK\")\n"
   ]
  },
  {
   "attachments": {},
   "cell_type": "markdown",
   "metadata": {},
   "source": [
    "# Inserindo Dados"
   ]
  },
  {
   "attachments": {},
   "cell_type": "markdown",
   "metadata": {},
   "source": [
    "### Carregando dados do CSV"
   ]
  },
  {
   "cell_type": "code",
   "execution_count": 11,
   "metadata": {},
   "outputs": [
    {
     "name": "stdout",
     "output_type": "stream",
     "text": [
      "\n",
      "Quantidade docs: 1543009\n",
      "\n"
     ]
    },
    {
     "data": {
      "text/html": [
       "<div>\n",
       "<style scoped>\n",
       "    .dataframe tbody tr th:only-of-type {\n",
       "        vertical-align: middle;\n",
       "    }\n",
       "\n",
       "    .dataframe tbody tr th {\n",
       "        vertical-align: top;\n",
       "    }\n",
       "\n",
       "    .dataframe thead th {\n",
       "        text-align: right;\n",
       "    }\n",
       "</style>\n",
       "<table border=\"1\" class=\"dataframe\">\n",
       "  <thead>\n",
       "    <tr style=\"text-align: right;\">\n",
       "      <th></th>\n",
       "      <th>ano</th>\n",
       "      <th>sigla_uf_id</th>\n",
       "      <th>regiao</th>\n",
       "      <th>regiao_id</th>\n",
       "      <th>sigla_uf</th>\n",
       "      <th>remuneracao_media</th>\n",
       "      <th>desligamento</th>\n",
       "      <th>idade</th>\n",
       "      <th>ocupacao_id</th>\n",
       "      <th>ocupacao</th>\n",
       "      <th>sexo_id</th>\n",
       "      <th>sexo</th>\n",
       "    </tr>\n",
       "  </thead>\n",
       "  <tbody>\n",
       "    <tr>\n",
       "      <th>0</th>\n",
       "      <td>2019</td>\n",
       "      <td>11</td>\n",
       "      <td>Centro-Oeste</td>\n",
       "      <td>0</td>\n",
       "      <td>MS</td>\n",
       "      <td>997.99</td>\n",
       "      <td>0</td>\n",
       "      <td>17</td>\n",
       "      <td>317210</td>\n",
       "      <td>Analista de service desk</td>\n",
       "      <td>1</td>\n",
       "      <td>Masculino</td>\n",
       "    </tr>\n",
       "    <tr>\n",
       "      <th>1</th>\n",
       "      <td>2019</td>\n",
       "      <td>11</td>\n",
       "      <td>Centro-Oeste</td>\n",
       "      <td>0</td>\n",
       "      <td>MS</td>\n",
       "      <td>0.00</td>\n",
       "      <td>0</td>\n",
       "      <td>36</td>\n",
       "      <td>212420</td>\n",
       "      <td>Analista de suporte</td>\n",
       "      <td>1</td>\n",
       "      <td>Masculino</td>\n",
       "    </tr>\n",
       "  </tbody>\n",
       "</table>\n",
       "</div>"
      ],
      "text/plain": [
       "    ano  sigla_uf_id        regiao  regiao_id sigla_uf  remuneracao_media  \\\n",
       "0  2019           11  Centro-Oeste          0       MS             997.99   \n",
       "1  2019           11  Centro-Oeste          0       MS               0.00   \n",
       "\n",
       "   desligamento  idade  ocupacao_id                  ocupacao  sexo_id  \\\n",
       "0             0     17       317210  Analista de service desk        1   \n",
       "1             0     36       212420       Analista de suporte        1   \n",
       "\n",
       "        sexo  \n",
       "0  Masculino  \n",
       "1  Masculino  "
      ]
     },
     "execution_count": 11,
     "metadata": {},
     "output_type": "execute_result"
    }
   ],
   "source": [
    "import pandas as pd\n",
    "\n",
    "# # Mostrar mais colunas\n",
    "pd.set_option(\"display.max_columns\", 100)\n",
    "pd.set_option('display.max_colwidth', 100)\n",
    "\n",
    "df = pd.read_parquet(\n",
    "    \"../output/gold/rais_TODOS_ANOS_comJoin_RAIS_VINC_PUB.parquet.gzip\")\n",
    "\n",
    "qnt_total = len(df)\n",
    "\n",
    "print(f\"\"\"\n",
    "Quantidade docs: {qnt_total}\n",
    "\"\"\")\n",
    "\n",
    "df.head(2)\n"
   ]
  },
  {
   "attachments": {},
   "cell_type": "markdown",
   "metadata": {},
   "source": [
    "### Inserindo no BD"
   ]
  },
  {
   "cell_type": "code",
   "execution_count": 12,
   "metadata": {},
   "outputs": [],
   "source": [
    "# cursor = cnx.cursor()\n",
    "# cursor.execute('SET NAMES utf8;')\n",
    "# cursor.execute('SET CHARACTER SET utf8;')\n",
    "# cursor.execute('SET character_set_connection=utf8;')\n"
   ]
  },
  {
   "cell_type": "code",
   "execution_count": 13,
   "metadata": {},
   "outputs": [
    {
     "data": {
      "text/plain": [
       "[(1, 'Masculino'), (2, 'Feminino')]"
      ]
     },
     "execution_count": 13,
     "metadata": {},
     "output_type": "execute_result"
    }
   ],
   "source": [
    "def get_coluna_id_valor(coluna_id, coluna_valor):\n",
    "    counts = df[[coluna_id, coluna_valor]].value_counts()\n",
    "    return counts.index.tolist()\n",
    "    \n",
    "get_coluna_id_valor(\"sexo_id\", \"sexo\")"
   ]
  },
  {
   "cell_type": "code",
   "execution_count": 14,
   "metadata": {},
   "outputs": [
    {
     "data": {
      "text/plain": [
       "[(25, 3, 'SP'), (18, 3, 'RJ')]"
      ]
     },
     "execution_count": 14,
     "metadata": {},
     "output_type": "execute_result"
    }
   ],
   "source": [
    "def get_uf_and_regiao_id():\n",
    "    counts = df[[\"sigla_uf_id\", \"regiao_id\", \"sigla_uf\"]].value_counts()\n",
    "    return counts.index.tolist()\n",
    "\n",
    "get_uf_and_regiao_id()[:2]\n"
   ]
  },
  {
   "cell_type": "code",
   "execution_count": 15,
   "metadata": {},
   "outputs": [],
   "source": [
    "from __future__ import print_function\n",
    "from datetime import date, datetime, timedelta\n",
    "import mysql.connector\n",
    "\n",
    "cnx = mysql.connector.connect(user='test', password='test', database='test')\n",
    "cursor = cnx.cursor()\n",
    "\n",
    "# === OCUPACAO ===\n",
    "\n",
    "add_query = (\"INSERT INTO OCUPACAO \"\n",
    "            \"(id, nome) \"\n",
    "            \"VALUES (%s, %s)\")\n",
    "\n",
    "[cursor.execute(add_query, (id, valor))\n",
    " for id, valor in get_coluna_id_valor(\"ocupacao_id\", \"ocupacao\")]\n",
    " \n",
    "# === SEXO ===\n",
    "\n",
    "add_query = (\"INSERT INTO SEXO \"\n",
    "            \"(id, nome) \"\n",
    "            \"VALUES (%s, %s)\")\n",
    "\n",
    "[cursor.execute(add_query, (id, valor))\n",
    " for id, valor in get_coluna_id_valor(\"sexo_id\", \"sexo\")]\n",
    "\n",
    "# === REGIAO ===\n",
    "\n",
    "add_query = (\"INSERT INTO REGIAO \"\n",
    "            \"(id, nome) \"\n",
    "            \"VALUES (%s, %s)\")\n",
    "\n",
    "[cursor.execute(add_query, (id, valor))\n",
    " for id, valor in get_coluna_id_valor(\"regiao_id\", \"regiao\")]\n",
    "\n",
    "# ============ COMMIT ============\n",
    "cnx.commit()\n",
    "\n"
   ]
  },
  {
   "cell_type": "code",
   "execution_count": 16,
   "metadata": {},
   "outputs": [
    {
     "ename": "IntegrityError",
     "evalue": "1452 (23000): Cannot add or update a child row: a foreign key constraint fails (`test`.`UF`, CONSTRAINT `UF_ibfk_1` FOREIGN KEY (`id_regiao`) REFERENCES `REGIAO` (`id`))",
     "output_type": "error",
     "traceback": [
      "\u001b[1;31m---------------------------------------------------------------------------\u001b[0m",
      "\u001b[1;31mMySQLInterfaceError\u001b[0m                       Traceback (most recent call last)",
      "File \u001b[1;32md:\\miniconda3\\envs\\trc\\lib\\site-packages\\mysql\\connector\\connection_cext.py:611\u001b[0m, in \u001b[0;36mCMySQLConnection.cmd_query\u001b[1;34m(self, query, raw, buffered, raw_as_string)\u001b[0m\n\u001b[0;32m    610\u001b[0m         query \u001b[39m=\u001b[39m query\u001b[39m.\u001b[39mencode(\u001b[39m\"\u001b[39m\u001b[39mutf-8\u001b[39m\u001b[39m\"\u001b[39m)\n\u001b[1;32m--> 611\u001b[0m     \u001b[39mself\u001b[39;49m\u001b[39m.\u001b[39;49m_cmysql\u001b[39m.\u001b[39;49mquery(\n\u001b[0;32m    612\u001b[0m         query,\n\u001b[0;32m    613\u001b[0m         raw\u001b[39m=\u001b[39;49mraw,\n\u001b[0;32m    614\u001b[0m         buffered\u001b[39m=\u001b[39;49mbuffered,\n\u001b[0;32m    615\u001b[0m         raw_as_string\u001b[39m=\u001b[39;49mraw_as_string,\n\u001b[0;32m    616\u001b[0m         query_attrs\u001b[39m=\u001b[39;49m\u001b[39mself\u001b[39;49m\u001b[39m.\u001b[39;49m_query_attrs,\n\u001b[0;32m    617\u001b[0m     )\n\u001b[0;32m    618\u001b[0m \u001b[39mexcept\u001b[39;00m MySQLInterfaceError \u001b[39mas\u001b[39;00m err:\n",
      "\u001b[1;31mMySQLInterfaceError\u001b[0m: Cannot add or update a child row: a foreign key constraint fails (`test`.`UF`, CONSTRAINT `UF_ibfk_1` FOREIGN KEY (`id_regiao`) REFERENCES `REGIAO` (`id`))",
      "\nThe above exception was the direct cause of the following exception:\n",
      "\u001b[1;31mIntegrityError\u001b[0m                            Traceback (most recent call last)",
      "\u001b[1;32md:\\projetos\\pessoal\\unb_artigo_mineracao_dados\\src\\FBD\\projeto_FBD.ipynb Cell 26\u001b[0m in \u001b[0;36m<cell line: 7>\u001b[1;34m()\u001b[0m\n\u001b[0;32m      <a href='vscode-notebook-cell:/d%3A/projetos/pessoal/unb_artigo_mineracao_dados/src/FBD/projeto_FBD.ipynb#X34sZmlsZQ%3D%3D?line=0'>1</a>\u001b[0m \u001b[39m# === UF ===\u001b[39;00m\n\u001b[0;32m      <a href='vscode-notebook-cell:/d%3A/projetos/pessoal/unb_artigo_mineracao_dados/src/FBD/projeto_FBD.ipynb#X34sZmlsZQ%3D%3D?line=2'>3</a>\u001b[0m add_query \u001b[39m=\u001b[39m (\u001b[39m\"\u001b[39m\u001b[39mINSERT INTO UF \u001b[39m\u001b[39m\"\u001b[39m\n\u001b[0;32m      <a href='vscode-notebook-cell:/d%3A/projetos/pessoal/unb_artigo_mineracao_dados/src/FBD/projeto_FBD.ipynb#X34sZmlsZQ%3D%3D?line=3'>4</a>\u001b[0m              \u001b[39m\"\u001b[39m\u001b[39m(id, id_regiao, nome) \u001b[39m\u001b[39m\"\u001b[39m\n\u001b[0;32m      <a href='vscode-notebook-cell:/d%3A/projetos/pessoal/unb_artigo_mineracao_dados/src/FBD/projeto_FBD.ipynb#X34sZmlsZQ%3D%3D?line=4'>5</a>\u001b[0m              \u001b[39m\"\u001b[39m\u001b[39mVALUES (\u001b[39m\u001b[39m%s\u001b[39;00m\u001b[39m, \u001b[39m\u001b[39m%s\u001b[39;00m\u001b[39m, \u001b[39m\u001b[39m%s\u001b[39;00m\u001b[39m)\u001b[39m\u001b[39m\"\u001b[39m)\n\u001b[1;32m----> <a href='vscode-notebook-cell:/d%3A/projetos/pessoal/unb_artigo_mineracao_dados/src/FBD/projeto_FBD.ipynb#X34sZmlsZQ%3D%3D?line=6'>7</a>\u001b[0m [cursor\u001b[39m.\u001b[39mexecute(add_query, (\u001b[39mid\u001b[39m, id_regiao, valor))\n\u001b[0;32m      <a href='vscode-notebook-cell:/d%3A/projetos/pessoal/unb_artigo_mineracao_dados/src/FBD/projeto_FBD.ipynb#X34sZmlsZQ%3D%3D?line=7'>8</a>\u001b[0m  \u001b[39mfor\u001b[39;00m \u001b[39mid\u001b[39m, id_regiao, valor \u001b[39min\u001b[39;00m get_uf_and_regiao_id()]\n\u001b[0;32m     <a href='vscode-notebook-cell:/d%3A/projetos/pessoal/unb_artigo_mineracao_dados/src/FBD/projeto_FBD.ipynb#X34sZmlsZQ%3D%3D?line=9'>10</a>\u001b[0m \u001b[39m# ============ COMMIT ============\u001b[39;00m\n\u001b[0;32m     <a href='vscode-notebook-cell:/d%3A/projetos/pessoal/unb_artigo_mineracao_dados/src/FBD/projeto_FBD.ipynb#X34sZmlsZQ%3D%3D?line=10'>11</a>\u001b[0m cnx\u001b[39m.\u001b[39mcommit()\n",
      "\u001b[1;32md:\\projetos\\pessoal\\unb_artigo_mineracao_dados\\src\\FBD\\projeto_FBD.ipynb Cell 26\u001b[0m in \u001b[0;36m<listcomp>\u001b[1;34m(.0)\u001b[0m\n\u001b[0;32m      <a href='vscode-notebook-cell:/d%3A/projetos/pessoal/unb_artigo_mineracao_dados/src/FBD/projeto_FBD.ipynb#X34sZmlsZQ%3D%3D?line=0'>1</a>\u001b[0m \u001b[39m# === UF ===\u001b[39;00m\n\u001b[0;32m      <a href='vscode-notebook-cell:/d%3A/projetos/pessoal/unb_artigo_mineracao_dados/src/FBD/projeto_FBD.ipynb#X34sZmlsZQ%3D%3D?line=2'>3</a>\u001b[0m add_query \u001b[39m=\u001b[39m (\u001b[39m\"\u001b[39m\u001b[39mINSERT INTO UF \u001b[39m\u001b[39m\"\u001b[39m\n\u001b[0;32m      <a href='vscode-notebook-cell:/d%3A/projetos/pessoal/unb_artigo_mineracao_dados/src/FBD/projeto_FBD.ipynb#X34sZmlsZQ%3D%3D?line=3'>4</a>\u001b[0m              \u001b[39m\"\u001b[39m\u001b[39m(id, id_regiao, nome) \u001b[39m\u001b[39m\"\u001b[39m\n\u001b[0;32m      <a href='vscode-notebook-cell:/d%3A/projetos/pessoal/unb_artigo_mineracao_dados/src/FBD/projeto_FBD.ipynb#X34sZmlsZQ%3D%3D?line=4'>5</a>\u001b[0m              \u001b[39m\"\u001b[39m\u001b[39mVALUES (\u001b[39m\u001b[39m%s\u001b[39;00m\u001b[39m, \u001b[39m\u001b[39m%s\u001b[39;00m\u001b[39m, \u001b[39m\u001b[39m%s\u001b[39;00m\u001b[39m)\u001b[39m\u001b[39m\"\u001b[39m)\n\u001b[1;32m----> <a href='vscode-notebook-cell:/d%3A/projetos/pessoal/unb_artigo_mineracao_dados/src/FBD/projeto_FBD.ipynb#X34sZmlsZQ%3D%3D?line=6'>7</a>\u001b[0m [cursor\u001b[39m.\u001b[39;49mexecute(add_query, (\u001b[39mid\u001b[39;49m, id_regiao, valor))\n\u001b[0;32m      <a href='vscode-notebook-cell:/d%3A/projetos/pessoal/unb_artigo_mineracao_dados/src/FBD/projeto_FBD.ipynb#X34sZmlsZQ%3D%3D?line=7'>8</a>\u001b[0m  \u001b[39mfor\u001b[39;00m \u001b[39mid\u001b[39m, id_regiao, valor \u001b[39min\u001b[39;00m get_uf_and_regiao_id()]\n\u001b[0;32m     <a href='vscode-notebook-cell:/d%3A/projetos/pessoal/unb_artigo_mineracao_dados/src/FBD/projeto_FBD.ipynb#X34sZmlsZQ%3D%3D?line=9'>10</a>\u001b[0m \u001b[39m# ============ COMMIT ============\u001b[39;00m\n\u001b[0;32m     <a href='vscode-notebook-cell:/d%3A/projetos/pessoal/unb_artigo_mineracao_dados/src/FBD/projeto_FBD.ipynb#X34sZmlsZQ%3D%3D?line=10'>11</a>\u001b[0m cnx\u001b[39m.\u001b[39mcommit()\n",
      "File \u001b[1;32md:\\miniconda3\\envs\\trc\\lib\\site-packages\\mysql\\connector\\cursor_cext.py:330\u001b[0m, in \u001b[0;36mCMySQLCursor.execute\u001b[1;34m(self, operation, params, multi)\u001b[0m\n\u001b[0;32m    325\u001b[0m             \u001b[39mraise\u001b[39;00m ProgrammingError(\n\u001b[0;32m    326\u001b[0m                 \u001b[39m\"\u001b[39m\u001b[39mNot all parameters were used in the SQL statement\u001b[39m\u001b[39m\"\u001b[39m\n\u001b[0;32m    327\u001b[0m             )\n\u001b[0;32m    329\u001b[0m \u001b[39mtry\u001b[39;00m:\n\u001b[1;32m--> 330\u001b[0m     result \u001b[39m=\u001b[39m \u001b[39mself\u001b[39;49m\u001b[39m.\u001b[39;49m_cnx\u001b[39m.\u001b[39;49mcmd_query(\n\u001b[0;32m    331\u001b[0m         stmt,\n\u001b[0;32m    332\u001b[0m         raw\u001b[39m=\u001b[39;49m\u001b[39mself\u001b[39;49m\u001b[39m.\u001b[39;49m_raw,\n\u001b[0;32m    333\u001b[0m         buffered\u001b[39m=\u001b[39;49m\u001b[39mself\u001b[39;49m\u001b[39m.\u001b[39;49m_buffered,\n\u001b[0;32m    334\u001b[0m         raw_as_string\u001b[39m=\u001b[39;49m\u001b[39mself\u001b[39;49m\u001b[39m.\u001b[39;49m_raw_as_string,\n\u001b[0;32m    335\u001b[0m     )\n\u001b[0;32m    336\u001b[0m \u001b[39mexcept\u001b[39;00m MySQLInterfaceError \u001b[39mas\u001b[39;00m err:\n\u001b[0;32m    337\u001b[0m     \u001b[39mraise\u001b[39;00m get_mysql_exception(\n\u001b[0;32m    338\u001b[0m         msg\u001b[39m=\u001b[39merr\u001b[39m.\u001b[39mmsg, errno\u001b[39m=\u001b[39merr\u001b[39m.\u001b[39merrno, sqlstate\u001b[39m=\u001b[39merr\u001b[39m.\u001b[39msqlstate\n\u001b[0;32m    339\u001b[0m     ) \u001b[39mfrom\u001b[39;00m \u001b[39merr\u001b[39;00m\n",
      "File \u001b[1;32md:\\miniconda3\\envs\\trc\\lib\\site-packages\\mysql\\connector\\connection_cext.py:619\u001b[0m, in \u001b[0;36mCMySQLConnection.cmd_query\u001b[1;34m(self, query, raw, buffered, raw_as_string)\u001b[0m\n\u001b[0;32m    611\u001b[0m     \u001b[39mself\u001b[39m\u001b[39m.\u001b[39m_cmysql\u001b[39m.\u001b[39mquery(\n\u001b[0;32m    612\u001b[0m         query,\n\u001b[0;32m    613\u001b[0m         raw\u001b[39m=\u001b[39mraw,\n\u001b[1;32m   (...)\u001b[0m\n\u001b[0;32m    616\u001b[0m         query_attrs\u001b[39m=\u001b[39m\u001b[39mself\u001b[39m\u001b[39m.\u001b[39m_query_attrs,\n\u001b[0;32m    617\u001b[0m     )\n\u001b[0;32m    618\u001b[0m \u001b[39mexcept\u001b[39;00m MySQLInterfaceError \u001b[39mas\u001b[39;00m err:\n\u001b[1;32m--> 619\u001b[0m     \u001b[39mraise\u001b[39;00m get_mysql_exception(\n\u001b[0;32m    620\u001b[0m         err\u001b[39m.\u001b[39merrno, msg\u001b[39m=\u001b[39merr\u001b[39m.\u001b[39mmsg, sqlstate\u001b[39m=\u001b[39merr\u001b[39m.\u001b[39msqlstate\n\u001b[0;32m    621\u001b[0m     ) \u001b[39mfrom\u001b[39;00m \u001b[39merr\u001b[39;00m\n\u001b[0;32m    622\u001b[0m \u001b[39mexcept\u001b[39;00m \u001b[39mAttributeError\u001b[39;00m \u001b[39mas\u001b[39;00m err:\n\u001b[0;32m    623\u001b[0m     addr \u001b[39m=\u001b[39m (\n\u001b[0;32m    624\u001b[0m         \u001b[39mself\u001b[39m\u001b[39m.\u001b[39m_unix_socket \u001b[39mif\u001b[39;00m \u001b[39mself\u001b[39m\u001b[39m.\u001b[39m_unix_socket \u001b[39melse\u001b[39;00m \u001b[39mf\u001b[39m\u001b[39m\"\u001b[39m\u001b[39m{\u001b[39;00m\u001b[39mself\u001b[39m\u001b[39m.\u001b[39m_host\u001b[39m}\u001b[39;00m\u001b[39m:\u001b[39m\u001b[39m{\u001b[39;00m\u001b[39mself\u001b[39m\u001b[39m.\u001b[39m_port\u001b[39m}\u001b[39;00m\u001b[39m\"\u001b[39m\n\u001b[0;32m    625\u001b[0m     )\n",
      "\u001b[1;31mIntegrityError\u001b[0m: 1452 (23000): Cannot add or update a child row: a foreign key constraint fails (`test`.`UF`, CONSTRAINT `UF_ibfk_1` FOREIGN KEY (`id_regiao`) REFERENCES `REGIAO` (`id`))"
     ]
    }
   ],
   "source": [
    "\n",
    "# === UF ===\n",
    "\n",
    "add_query = (\"INSERT INTO UF \"\n",
    "             \"(id, id_regiao, nome) \"\n",
    "             \"VALUES (%s, %s, %s)\")\n",
    "\n",
    "[cursor.execute(add_query, (id, id_regiao, valor))\n",
    " for id, id_regiao, valor in get_uf_and_regiao_id()]\n",
    "\n",
    "# ============ COMMIT ============\n",
    "cnx.commit()\n"
   ]
  },
  {
   "cell_type": "code",
   "execution_count": null,
   "metadata": {},
   "outputs": [
    {
     "name": "stdout",
     "output_type": "stream",
     "text": [
      "317210,\n",
      "                1,\n",
      "                11,\n",
      "                2019,\n",
      "                997.99,\n",
      "                0,\n",
      "                17\n"
     ]
    },
    {
     "ename": "MySQLInterfaceError",
     "evalue": "Python type set cannot be converted",
     "output_type": "error",
     "traceback": [
      "\u001b[1;31m---------------------------------------------------------------------------\u001b[0m",
      "\u001b[1;31mMySQLInterfaceError\u001b[0m                       Traceback (most recent call last)",
      "Cell \u001b[1;32mIn[108], line 34\u001b[0m\n\u001b[0;32m     30\u001b[0m     cursor\u001b[39m.\u001b[39mexecute(add, data)\n\u001b[0;32m     32\u001b[0m \u001b[39m# df[:1].apply(create_insert_sql, axis=1)\u001b[39;00m\n\u001b[0;32m     33\u001b[0m \u001b[39m# df[:3].apply(cursor.execute(create_insert_sql), axis=1)\u001b[39;00m\n\u001b[1;32m---> 34\u001b[0m df[:\u001b[39m3\u001b[39;49m]\u001b[39m.\u001b[39;49mapply(create_insert_sql, axis\u001b[39m=\u001b[39;49m\u001b[39m1\u001b[39;49m)\n",
      "File \u001b[1;32m~\\AppData\\Roaming\\Python\\Python38\\site-packages\\pandas\\core\\frame.py:9568\u001b[0m, in \u001b[0;36mDataFrame.apply\u001b[1;34m(self, func, axis, raw, result_type, args, **kwargs)\u001b[0m\n\u001b[0;32m   9557\u001b[0m \u001b[39mfrom\u001b[39;00m \u001b[39mpandas\u001b[39;00m\u001b[39m.\u001b[39;00m\u001b[39mcore\u001b[39;00m\u001b[39m.\u001b[39;00m\u001b[39mapply\u001b[39;00m \u001b[39mimport\u001b[39;00m frame_apply\n\u001b[0;32m   9559\u001b[0m op \u001b[39m=\u001b[39m frame_apply(\n\u001b[0;32m   9560\u001b[0m     \u001b[39mself\u001b[39m,\n\u001b[0;32m   9561\u001b[0m     func\u001b[39m=\u001b[39mfunc,\n\u001b[1;32m   (...)\u001b[0m\n\u001b[0;32m   9566\u001b[0m     kwargs\u001b[39m=\u001b[39mkwargs,\n\u001b[0;32m   9567\u001b[0m )\n\u001b[1;32m-> 9568\u001b[0m \u001b[39mreturn\u001b[39;00m op\u001b[39m.\u001b[39;49mapply()\u001b[39m.\u001b[39m__finalize__(\u001b[39mself\u001b[39m, method\u001b[39m=\u001b[39m\u001b[39m\"\u001b[39m\u001b[39mapply\u001b[39m\u001b[39m\"\u001b[39m)\n",
      "File \u001b[1;32m~\\AppData\\Roaming\\Python\\Python38\\site-packages\\pandas\\core\\apply.py:764\u001b[0m, in \u001b[0;36mFrameApply.apply\u001b[1;34m(self)\u001b[0m\n\u001b[0;32m    761\u001b[0m \u001b[39melif\u001b[39;00m \u001b[39mself\u001b[39m\u001b[39m.\u001b[39mraw:\n\u001b[0;32m    762\u001b[0m     \u001b[39mreturn\u001b[39;00m \u001b[39mself\u001b[39m\u001b[39m.\u001b[39mapply_raw()\n\u001b[1;32m--> 764\u001b[0m \u001b[39mreturn\u001b[39;00m \u001b[39mself\u001b[39;49m\u001b[39m.\u001b[39;49mapply_standard()\n",
      "File \u001b[1;32m~\\AppData\\Roaming\\Python\\Python38\\site-packages\\pandas\\core\\apply.py:891\u001b[0m, in \u001b[0;36mFrameApply.apply_standard\u001b[1;34m(self)\u001b[0m\n\u001b[0;32m    890\u001b[0m \u001b[39mdef\u001b[39;00m \u001b[39mapply_standard\u001b[39m(\u001b[39mself\u001b[39m):\n\u001b[1;32m--> 891\u001b[0m     results, res_index \u001b[39m=\u001b[39m \u001b[39mself\u001b[39;49m\u001b[39m.\u001b[39;49mapply_series_generator()\n\u001b[0;32m    893\u001b[0m     \u001b[39m# wrap results\u001b[39;00m\n\u001b[0;32m    894\u001b[0m     \u001b[39mreturn\u001b[39;00m \u001b[39mself\u001b[39m\u001b[39m.\u001b[39mwrap_results(results, res_index)\n",
      "File \u001b[1;32m~\\AppData\\Roaming\\Python\\Python38\\site-packages\\pandas\\core\\apply.py:907\u001b[0m, in \u001b[0;36mFrameApply.apply_series_generator\u001b[1;34m(self)\u001b[0m\n\u001b[0;32m    904\u001b[0m \u001b[39mwith\u001b[39;00m option_context(\u001b[39m\"\u001b[39m\u001b[39mmode.chained_assignment\u001b[39m\u001b[39m\"\u001b[39m, \u001b[39mNone\u001b[39;00m):\n\u001b[0;32m    905\u001b[0m     \u001b[39mfor\u001b[39;00m i, v \u001b[39min\u001b[39;00m \u001b[39menumerate\u001b[39m(series_gen):\n\u001b[0;32m    906\u001b[0m         \u001b[39m# ignore SettingWithCopy here in case the user mutates\u001b[39;00m\n\u001b[1;32m--> 907\u001b[0m         results[i] \u001b[39m=\u001b[39m \u001b[39mself\u001b[39;49m\u001b[39m.\u001b[39;49mf(v)\n\u001b[0;32m    908\u001b[0m         \u001b[39mif\u001b[39;00m \u001b[39misinstance\u001b[39m(results[i], ABCSeries):\n\u001b[0;32m    909\u001b[0m             \u001b[39m# If we have a view on v, we need to make a copy because\u001b[39;00m\n\u001b[0;32m    910\u001b[0m             \u001b[39m#  series_generator will swap out the underlying data\u001b[39;00m\n\u001b[0;32m    911\u001b[0m             results[i] \u001b[39m=\u001b[39m results[i]\u001b[39m.\u001b[39mcopy(deep\u001b[39m=\u001b[39m\u001b[39mFalse\u001b[39;00m)\n",
      "Cell \u001b[1;32mIn[108], line 30\u001b[0m, in \u001b[0;36mcreate_insert_sql\u001b[1;34m(row)\u001b[0m\n\u001b[0;32m     21\u001b[0m data \u001b[39m=\u001b[39m ({row[\u001b[39m'\u001b[39m\u001b[39mocupacao_id\u001b[39m\u001b[39m'\u001b[39m]},\n\u001b[0;32m     22\u001b[0m         {row[\u001b[39m'\u001b[39m\u001b[39msexo_id\u001b[39m\u001b[39m'\u001b[39m]},\n\u001b[0;32m     23\u001b[0m         {row[\u001b[39m'\u001b[39m\u001b[39msigla_uf_id\u001b[39m\u001b[39m'\u001b[39m]},\n\u001b[1;32m   (...)\u001b[0m\n\u001b[0;32m     26\u001b[0m         {row[\u001b[39m'\u001b[39m\u001b[39mdesligamento\u001b[39m\u001b[39m'\u001b[39m]},\n\u001b[0;32m     27\u001b[0m         {row[\u001b[39m'\u001b[39m\u001b[39midade\u001b[39m\u001b[39m'\u001b[39m]})\n\u001b[0;32m     29\u001b[0m \u001b[39m# Insert new employee\u001b[39;00m\n\u001b[1;32m---> 30\u001b[0m cursor\u001b[39m.\u001b[39;49mexecute(add, data)\n",
      "File \u001b[1;32mc:\\Users\\celiudos\\anaconda3\\envs\\trc\\lib\\site-packages\\mysql\\connector\\cursor_cext.py:317\u001b[0m, in \u001b[0;36mCMySQLCursor.execute\u001b[1;34m(self, operation, params, multi)\u001b[0m\n\u001b[0;32m    314\u001b[0m     \u001b[39mraise\u001b[39;00m ProgrammingError(\u001b[39mstr\u001b[39m(err)) \u001b[39mfrom\u001b[39;00m \u001b[39merr\u001b[39;00m\n\u001b[0;32m    316\u001b[0m \u001b[39mif\u001b[39;00m params:\n\u001b[1;32m--> 317\u001b[0m     prepared \u001b[39m=\u001b[39m \u001b[39mself\u001b[39;49m\u001b[39m.\u001b[39;49m_cnx\u001b[39m.\u001b[39;49mprepare_for_mysql(params)\n\u001b[0;32m    318\u001b[0m     \u001b[39mif\u001b[39;00m \u001b[39misinstance\u001b[39m(prepared, \u001b[39mdict\u001b[39m):\n\u001b[0;32m    319\u001b[0m         \u001b[39mfor\u001b[39;00m key, value \u001b[39min\u001b[39;00m prepared\u001b[39m.\u001b[39mitems():\n",
      "File \u001b[1;32mc:\\Users\\celiudos\\anaconda3\\envs\\trc\\lib\\site-packages\\mysql\\connector\\connection_cext.py:780\u001b[0m, in \u001b[0;36mCMySQLConnection.prepare_for_mysql\u001b[1;34m(self, params)\u001b[0m\n\u001b[0;32m    771\u001b[0m         result \u001b[39m=\u001b[39m [\n\u001b[0;32m    772\u001b[0m             \u001b[39mself\u001b[39m\u001b[39m.\u001b[39mconverter\u001b[39m.\u001b[39mquote(\n\u001b[0;32m    773\u001b[0m                 \u001b[39mself\u001b[39m\u001b[39m.\u001b[39mconverter\u001b[39m.\u001b[39mescape(\n\u001b[1;32m   (...)\u001b[0m\n\u001b[0;32m    777\u001b[0m             \u001b[39mfor\u001b[39;00m value \u001b[39min\u001b[39;00m params\n\u001b[0;32m    778\u001b[0m         ]\n\u001b[0;32m    779\u001b[0m     \u001b[39melse\u001b[39;00m:\n\u001b[1;32m--> 780\u001b[0m         result \u001b[39m=\u001b[39m \u001b[39mself\u001b[39;49m\u001b[39m.\u001b[39;49m_cmysql\u001b[39m.\u001b[39;49mconvert_to_mysql(\u001b[39m*\u001b[39;49mparams)\n\u001b[0;32m    781\u001b[0m \u001b[39melif\u001b[39;00m \u001b[39misinstance\u001b[39m(params, \u001b[39mdict\u001b[39m):\n\u001b[0;32m    782\u001b[0m     result \u001b[39m=\u001b[39m {}\n",
      "\u001b[1;31mMySQLInterfaceError\u001b[0m: Python type set cannot be converted"
     ]
    }
   ],
   "source": [
    "import mysql.connector\n",
    "from mysql.connector import errorcode\n",
    "\n",
    "cnx = mysql.connector.connect(user='test', password='test', database='test')\n",
    "cursor = cnx.cursor()\n",
    "\n",
    "# from each line in df create a sql insert statement\n",
    "def create_insert_sql(row):\n",
    "    print(f\"\"\"{row['ocupacao_id']},\n",
    "                {row['sexo_id']},\n",
    "                {row['sigla_uf_id']},\n",
    "                {row['ano']},\n",
    "                {row['remuneracao_media']},\n",
    "                {row['desligamento']},\n",
    "                {row['idade']}\"\"\")\n",
    "\n",
    "    add = (\"INSERT INTO RAIS \"\n",
    "                \"(id_ocupacao, id_sexo, id_uf, ano, remuneracao_media, desligamento, idade) \"\n",
    "                \"VALUES (%s, %s, %s, %s, %s, %s, %s)\")\n",
    "\n",
    "    data = ({row['ocupacao_id']},\n",
    "            {row['sexo_id']},\n",
    "            {row['sigla_uf_id']},\n",
    "            {row['ano']},\n",
    "            {row['remuneracao_media']},\n",
    "            {row['desligamento']},\n",
    "            {row['idade']})\n",
    "\n",
    "    # Insert new employee\n",
    "    cursor.execute(add, data)\n",
    "\n",
    "# df[:1].apply(create_insert_sql, axis=1)\n",
    "# df[:3].apply(cursor.execute(create_insert_sql), axis=1)\n",
    "df[:3].apply(create_insert_sql, axis=1)\n"
   ]
  },
  {
   "cell_type": "code",
   "execution_count": null,
   "metadata": {},
   "outputs": [],
   "source": [
    "from __future__ import print_function\n",
    "from datetime import date, datetime, timedelta\n",
    "import mysql.connector\n",
    "\n",
    "cnx = mysql.connector.connect(user='test', password='test', database='test')\n",
    "cursor = cnx.cursor()\n",
    "\n",
    "\n",
    "# cursor.execute(\"INSERT INTO RAIS ( id_ocupacao, id_sexo, id_uf, ano, remuneracao_media, desligamento, idade ) VALUES ( 317110, 1, 11, 2019, 1547, 0, 21 )\")\n",
    "# cursor.execute((\"INSERT INTO SEXO (id, nome) VALUES (%s, %s)\", (1, 'Feminino')))\n",
    "# cursor.execute(\"INSERT INTO SEXO (nome) VALUES (%s)\", ('Feminino', 'Masculino'))\n",
    "\n",
    "add_employee = (\"INSERT INTO SEXO \"\n",
    "                \"(id, nome) \"\n",
    "                \"VALUES (%s, %s)\")\n",
    "data_employee = (1, 'Feminino')\n",
    "\n",
    "# Insert new employee\n",
    "cursor.execute(add_employee, data_employee)\n",
    "\n",
    "# Make sure data is committed to the database\n",
    "cnx.commit()\n"
   ]
  },
  {
   "cell_type": "code",
   "execution_count": null,
   "metadata": {},
   "outputs": [],
   "source": [
    "from __future__ import print_function\n",
    "from datetime import date, datetime, timedelta\n",
    "import mysql.connector\n",
    "\n",
    "cnx = mysql.connector.connect(user='test', password='test', database='test')\n",
    "cursor = cnx.cursor()\n",
    "\n",
    "tomorrow = datetime.now().date() + timedelta(days=1)\n",
    "\n",
    "add_employee = (\"INSERT INTO employees \"\n",
    "                \"(first_name, last_name, hire_date, gender, birth_date) \"\n",
    "                \"VALUES (%s, %s, %s, %s, %s)\")\n",
    "add_salary = (\"INSERT INTO salaries \"\n",
    "              \"(emp_no, salary, from_date, to_date) \"\n",
    "              \"VALUES (%(emp_no)s, %(salary)s, %(from_date)s, %(to_date)s)\")\n",
    "\n",
    "data_employee = ('Geert', 'Vanderkelen', tomorrow, 'M', date(1977, 6, 14))\n",
    "\n",
    "# Insert new employee\n",
    "cursor.execute(add_employee, data_employee)\n",
    "emp_no = cursor.lastrowid\n",
    "\n",
    "# Insert salary information\n",
    "data_salary = {\n",
    "    'emp_no': emp_no,\n",
    "    'salary': 50000,\n",
    "    'from_date': tomorrow,\n",
    "    'to_date': date(9999, 1, 1),\n",
    "}\n",
    "cursor.execute(add_salary, data_salary)\n",
    "\n",
    "# Make sure data is committed to the database\n",
    "cnx.commit()\n",
    "\n",
    "cursor.close()\n",
    "cnx.close()\n"
   ]
  },
  {
   "cell_type": "code",
   "execution_count": null,
   "metadata": {},
   "outputs": [],
   "source": [
    "cursor.close()\n",
    "cnx.close()"
   ]
  }
 ],
 "metadata": {
  "kernelspec": {
   "display_name": "base",
   "language": "python",
   "name": "python3"
  },
  "language_info": {
   "codemirror_mode": {
    "name": "ipython",
    "version": 3
   },
   "file_extension": ".py",
   "mimetype": "text/x-python",
   "name": "python",
   "nbconvert_exporter": "python",
   "pygments_lexer": "ipython3",
   "version": "3.8.16"
  },
  "orig_nbformat": 4
 },
 "nbformat": 4,
 "nbformat_minor": 2
}
