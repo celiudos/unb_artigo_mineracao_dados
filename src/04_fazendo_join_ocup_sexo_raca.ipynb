{
 "cells": [
  {
   "attachments": {},
   "cell_type": "markdown",
   "metadata": {},
   "source": [
    "# Carregar dados"
   ]
  },
  {
   "cell_type": "code",
   "execution_count": 1,
   "metadata": {},
   "outputs": [
    {
     "name": "stdout",
     "output_type": "stream",
     "text": [
      "\n",
      "Quantidade docs: 384175\n",
      "\n"
     ]
    },
    {
     "data": {
      "text/html": [
       "<div>\n",
       "<style scoped>\n",
       "    .dataframe tbody tr th:only-of-type {\n",
       "        vertical-align: middle;\n",
       "    }\n",
       "\n",
       "    .dataframe tbody tr th {\n",
       "        vertical-align: top;\n",
       "    }\n",
       "\n",
       "    .dataframe thead th {\n",
       "        text-align: right;\n",
       "    }\n",
       "</style>\n",
       "<table border=\"1\" class=\"dataframe\">\n",
       "  <thead>\n",
       "    <tr style=\"text-align: right;\">\n",
       "      <th></th>\n",
       "      <th>ano</th>\n",
       "      <th>id_uf_municipio</th>\n",
       "      <th>remuneracao_media</th>\n",
       "      <th>idade</th>\n",
       "      <th>ocupacao_id</th>\n",
       "      <th>sexo_id</th>\n",
       "      <th>raca_cor_id</th>\n",
       "      <th>sigla_uf</th>\n",
       "      <th>sigla_municipio</th>\n",
       "    </tr>\n",
       "  </thead>\n",
       "  <tbody>\n",
       "    <tr>\n",
       "      <th>0</th>\n",
       "      <td>2019</td>\n",
       "      <td>500240</td>\n",
       "      <td>997.99</td>\n",
       "      <td>17</td>\n",
       "      <td>317210</td>\n",
       "      <td>1</td>\n",
       "      <td>2</td>\n",
       "      <td>MS</td>\n",
       "      <td>Caarapo</td>\n",
       "    </tr>\n",
       "    <tr>\n",
       "      <th>1</th>\n",
       "      <td>2019</td>\n",
       "      <td>500570</td>\n",
       "      <td>0.00</td>\n",
       "      <td>36</td>\n",
       "      <td>212420</td>\n",
       "      <td>1</td>\n",
       "      <td>2</td>\n",
       "      <td>MS</td>\n",
       "      <td>Navirai</td>\n",
       "    </tr>\n",
       "  </tbody>\n",
       "</table>\n",
       "</div>"
      ],
      "text/plain": [
       "    ano  id_uf_municipio  remuneracao_media  idade ocupacao_id  sexo_id   \n",
       "0  2019           500240             997.99     17      317210        1  \\\n",
       "1  2019           500570               0.00     36      212420        1   \n",
       "\n",
       "   raca_cor_id sigla_uf sigla_municipio  \n",
       "0            2       MS         Caarapo  \n",
       "1            2       MS         Navirai  "
      ]
     },
     "execution_count": 1,
     "metadata": {},
     "output_type": "execute_result"
    }
   ],
   "source": [
    "import pandas as pd\n",
    "\n",
    "# # Mostrar mais colunas\n",
    "pd.set_option(\"display.max_columns\", 100)\n",
    "pd.set_option('display.max_colwidth', 100)\n",
    "\n",
    "df = pd.read_parquet(\"./output/silver/rais_TODOS_ANOS_RAIS_VINC_PUB.parquet.gzip\")\n",
    "\n",
    "\n",
    "qnt_full = len(df)\n",
    "print(f\"\"\"\n",
    "Quantidade docs: {qnt_full}\n",
    "\"\"\")\n",
    "\n",
    "df.head(2)\n"
   ]
  },
  {
   "cell_type": "code",
   "execution_count": 2,
   "metadata": {},
   "outputs": [
    {
     "ename": "FileNotFoundError",
     "evalue": "[Errno 2] No such file or directory: './files/dic_raca_cor.csv'",
     "output_type": "error",
     "traceback": [
      "\u001b[1;31m---------------------------------------------------------------------------\u001b[0m",
      "\u001b[1;31mFileNotFoundError\u001b[0m                         Traceback (most recent call last)",
      "Cell \u001b[1;32mIn[2], line 1\u001b[0m\n\u001b[1;32m----> 1\u001b[0m df_raca_cor \u001b[39m=\u001b[39m pd\u001b[39m.\u001b[39;49mread_csv(\u001b[39m\"\u001b[39;49m\u001b[39m./files/dic_raca_cor.csv\u001b[39;49m\u001b[39m\"\u001b[39;49m)\n\u001b[0;32m      2\u001b[0m df_sexo \u001b[39m=\u001b[39m pd\u001b[39m.\u001b[39mread_csv(\u001b[39m\"\u001b[39m\u001b[39m./files/dic_sexo.csv\u001b[39m\u001b[39m\"\u001b[39m)\n\u001b[0;32m      3\u001b[0m df_ordered_sinonimo \u001b[39m=\u001b[39m pd\u001b[39m.\u001b[39mread_csv(\u001b[39m\"\u001b[39m\u001b[39m./files/ordered_sinonimo.csv\u001b[39m\u001b[39m\"\u001b[39m)\n",
      "File \u001b[1;32md:\\Programas\\anaconda3\\envs\\trc\\lib\\site-packages\\pandas\\io\\parsers\\readers.py:912\u001b[0m, in \u001b[0;36mread_csv\u001b[1;34m(filepath_or_buffer, sep, delimiter, header, names, index_col, usecols, dtype, engine, converters, true_values, false_values, skipinitialspace, skiprows, skipfooter, nrows, na_values, keep_default_na, na_filter, verbose, skip_blank_lines, parse_dates, infer_datetime_format, keep_date_col, date_parser, date_format, dayfirst, cache_dates, iterator, chunksize, compression, thousands, decimal, lineterminator, quotechar, quoting, doublequote, escapechar, comment, encoding, encoding_errors, dialect, on_bad_lines, delim_whitespace, low_memory, memory_map, float_precision, storage_options, dtype_backend)\u001b[0m\n\u001b[0;32m    899\u001b[0m kwds_defaults \u001b[39m=\u001b[39m _refine_defaults_read(\n\u001b[0;32m    900\u001b[0m     dialect,\n\u001b[0;32m    901\u001b[0m     delimiter,\n\u001b[1;32m   (...)\u001b[0m\n\u001b[0;32m    908\u001b[0m     dtype_backend\u001b[39m=\u001b[39mdtype_backend,\n\u001b[0;32m    909\u001b[0m )\n\u001b[0;32m    910\u001b[0m kwds\u001b[39m.\u001b[39mupdate(kwds_defaults)\n\u001b[1;32m--> 912\u001b[0m \u001b[39mreturn\u001b[39;00m _read(filepath_or_buffer, kwds)\n",
      "File \u001b[1;32md:\\Programas\\anaconda3\\envs\\trc\\lib\\site-packages\\pandas\\io\\parsers\\readers.py:577\u001b[0m, in \u001b[0;36m_read\u001b[1;34m(filepath_or_buffer, kwds)\u001b[0m\n\u001b[0;32m    574\u001b[0m _validate_names(kwds\u001b[39m.\u001b[39mget(\u001b[39m\"\u001b[39m\u001b[39mnames\u001b[39m\u001b[39m\"\u001b[39m, \u001b[39mNone\u001b[39;00m))\n\u001b[0;32m    576\u001b[0m \u001b[39m# Create the parser.\u001b[39;00m\n\u001b[1;32m--> 577\u001b[0m parser \u001b[39m=\u001b[39m TextFileReader(filepath_or_buffer, \u001b[39m*\u001b[39;49m\u001b[39m*\u001b[39;49mkwds)\n\u001b[0;32m    579\u001b[0m \u001b[39mif\u001b[39;00m chunksize \u001b[39mor\u001b[39;00m iterator:\n\u001b[0;32m    580\u001b[0m     \u001b[39mreturn\u001b[39;00m parser\n",
      "File \u001b[1;32md:\\Programas\\anaconda3\\envs\\trc\\lib\\site-packages\\pandas\\io\\parsers\\readers.py:1407\u001b[0m, in \u001b[0;36mTextFileReader.__init__\u001b[1;34m(self, f, engine, **kwds)\u001b[0m\n\u001b[0;32m   1404\u001b[0m     \u001b[39mself\u001b[39m\u001b[39m.\u001b[39moptions[\u001b[39m\"\u001b[39m\u001b[39mhas_index_names\u001b[39m\u001b[39m\"\u001b[39m] \u001b[39m=\u001b[39m kwds[\u001b[39m\"\u001b[39m\u001b[39mhas_index_names\u001b[39m\u001b[39m\"\u001b[39m]\n\u001b[0;32m   1406\u001b[0m \u001b[39mself\u001b[39m\u001b[39m.\u001b[39mhandles: IOHandles \u001b[39m|\u001b[39m \u001b[39mNone\u001b[39;00m \u001b[39m=\u001b[39m \u001b[39mNone\u001b[39;00m\n\u001b[1;32m-> 1407\u001b[0m \u001b[39mself\u001b[39m\u001b[39m.\u001b[39m_engine \u001b[39m=\u001b[39m \u001b[39mself\u001b[39;49m\u001b[39m.\u001b[39;49m_make_engine(f, \u001b[39mself\u001b[39;49m\u001b[39m.\u001b[39;49mengine)\n",
      "File \u001b[1;32md:\\Programas\\anaconda3\\envs\\trc\\lib\\site-packages\\pandas\\io\\parsers\\readers.py:1661\u001b[0m, in \u001b[0;36mTextFileReader._make_engine\u001b[1;34m(self, f, engine)\u001b[0m\n\u001b[0;32m   1659\u001b[0m     \u001b[39mif\u001b[39;00m \u001b[39m\"\u001b[39m\u001b[39mb\u001b[39m\u001b[39m\"\u001b[39m \u001b[39mnot\u001b[39;00m \u001b[39min\u001b[39;00m mode:\n\u001b[0;32m   1660\u001b[0m         mode \u001b[39m+\u001b[39m\u001b[39m=\u001b[39m \u001b[39m\"\u001b[39m\u001b[39mb\u001b[39m\u001b[39m\"\u001b[39m\n\u001b[1;32m-> 1661\u001b[0m \u001b[39mself\u001b[39m\u001b[39m.\u001b[39mhandles \u001b[39m=\u001b[39m get_handle(\n\u001b[0;32m   1662\u001b[0m     f,\n\u001b[0;32m   1663\u001b[0m     mode,\n\u001b[0;32m   1664\u001b[0m     encoding\u001b[39m=\u001b[39;49m\u001b[39mself\u001b[39;49m\u001b[39m.\u001b[39;49moptions\u001b[39m.\u001b[39;49mget(\u001b[39m\"\u001b[39;49m\u001b[39mencoding\u001b[39;49m\u001b[39m\"\u001b[39;49m, \u001b[39mNone\u001b[39;49;00m),\n\u001b[0;32m   1665\u001b[0m     compression\u001b[39m=\u001b[39;49m\u001b[39mself\u001b[39;49m\u001b[39m.\u001b[39;49moptions\u001b[39m.\u001b[39;49mget(\u001b[39m\"\u001b[39;49m\u001b[39mcompression\u001b[39;49m\u001b[39m\"\u001b[39;49m, \u001b[39mNone\u001b[39;49;00m),\n\u001b[0;32m   1666\u001b[0m     memory_map\u001b[39m=\u001b[39;49m\u001b[39mself\u001b[39;49m\u001b[39m.\u001b[39;49moptions\u001b[39m.\u001b[39;49mget(\u001b[39m\"\u001b[39;49m\u001b[39mmemory_map\u001b[39;49m\u001b[39m\"\u001b[39;49m, \u001b[39mFalse\u001b[39;49;00m),\n\u001b[0;32m   1667\u001b[0m     is_text\u001b[39m=\u001b[39;49mis_text,\n\u001b[0;32m   1668\u001b[0m     errors\u001b[39m=\u001b[39;49m\u001b[39mself\u001b[39;49m\u001b[39m.\u001b[39;49moptions\u001b[39m.\u001b[39;49mget(\u001b[39m\"\u001b[39;49m\u001b[39mencoding_errors\u001b[39;49m\u001b[39m\"\u001b[39;49m, \u001b[39m\"\u001b[39;49m\u001b[39mstrict\u001b[39;49m\u001b[39m\"\u001b[39;49m),\n\u001b[0;32m   1669\u001b[0m     storage_options\u001b[39m=\u001b[39;49m\u001b[39mself\u001b[39;49m\u001b[39m.\u001b[39;49moptions\u001b[39m.\u001b[39;49mget(\u001b[39m\"\u001b[39;49m\u001b[39mstorage_options\u001b[39;49m\u001b[39m\"\u001b[39;49m, \u001b[39mNone\u001b[39;49;00m),\n\u001b[0;32m   1670\u001b[0m )\n\u001b[0;32m   1671\u001b[0m \u001b[39massert\u001b[39;00m \u001b[39mself\u001b[39m\u001b[39m.\u001b[39mhandles \u001b[39mis\u001b[39;00m \u001b[39mnot\u001b[39;00m \u001b[39mNone\u001b[39;00m\n\u001b[0;32m   1672\u001b[0m f \u001b[39m=\u001b[39m \u001b[39mself\u001b[39m\u001b[39m.\u001b[39mhandles\u001b[39m.\u001b[39mhandle\n",
      "File \u001b[1;32md:\\Programas\\anaconda3\\envs\\trc\\lib\\site-packages\\pandas\\io\\common.py:859\u001b[0m, in \u001b[0;36mget_handle\u001b[1;34m(path_or_buf, mode, encoding, compression, memory_map, is_text, errors, storage_options)\u001b[0m\n\u001b[0;32m    854\u001b[0m \u001b[39melif\u001b[39;00m \u001b[39misinstance\u001b[39m(handle, \u001b[39mstr\u001b[39m):\n\u001b[0;32m    855\u001b[0m     \u001b[39m# Check whether the filename is to be opened in binary mode.\u001b[39;00m\n\u001b[0;32m    856\u001b[0m     \u001b[39m# Binary mode does not support 'encoding' and 'newline'.\u001b[39;00m\n\u001b[0;32m    857\u001b[0m     \u001b[39mif\u001b[39;00m ioargs\u001b[39m.\u001b[39mencoding \u001b[39mand\u001b[39;00m \u001b[39m\"\u001b[39m\u001b[39mb\u001b[39m\u001b[39m\"\u001b[39m \u001b[39mnot\u001b[39;00m \u001b[39min\u001b[39;00m ioargs\u001b[39m.\u001b[39mmode:\n\u001b[0;32m    858\u001b[0m         \u001b[39m# Encoding\u001b[39;00m\n\u001b[1;32m--> 859\u001b[0m         handle \u001b[39m=\u001b[39m \u001b[39mopen\u001b[39;49m(\n\u001b[0;32m    860\u001b[0m             handle,\n\u001b[0;32m    861\u001b[0m             ioargs\u001b[39m.\u001b[39;49mmode,\n\u001b[0;32m    862\u001b[0m             encoding\u001b[39m=\u001b[39;49mioargs\u001b[39m.\u001b[39;49mencoding,\n\u001b[0;32m    863\u001b[0m             errors\u001b[39m=\u001b[39;49merrors,\n\u001b[0;32m    864\u001b[0m             newline\u001b[39m=\u001b[39;49m\u001b[39m\"\u001b[39;49m\u001b[39m\"\u001b[39;49m,\n\u001b[0;32m    865\u001b[0m         )\n\u001b[0;32m    866\u001b[0m     \u001b[39melse\u001b[39;00m:\n\u001b[0;32m    867\u001b[0m         \u001b[39m# Binary mode\u001b[39;00m\n\u001b[0;32m    868\u001b[0m         handle \u001b[39m=\u001b[39m \u001b[39mopen\u001b[39m(handle, ioargs\u001b[39m.\u001b[39mmode)\n",
      "\u001b[1;31mFileNotFoundError\u001b[0m: [Errno 2] No such file or directory: './files/dic_raca_cor.csv'"
     ]
    }
   ],
   "source": [
    "df_raca_cor = pd.read_csv(\"./files/dic_raca_cor.csv\")\n",
    "df_sexo = pd.read_csv(\"./files/dic_sexo.csv\")\n",
    "df_ordered_sinonimo = pd.read_csv(\"./files/ordered_sinonimo.csv\")"
   ]
  },
  {
   "cell_type": "code",
   "execution_count": null,
   "metadata": {},
   "outputs": [],
   "source": [
    "# change column ocupacao_id to int\n",
    "df[\"ocupacao_id\"] = df[\"ocupacao_id\"].astype(int)"
   ]
  },
  {
   "attachments": {},
   "cell_type": "markdown",
   "metadata": {},
   "source": [
    "# Juntando tabelas"
   ]
  },
  {
   "cell_type": "code",
   "execution_count": null,
   "metadata": {},
   "outputs": [
    {
     "data": {
      "text/html": [
       "<div>\n",
       "<style scoped>\n",
       "    .dataframe tbody tr th:only-of-type {\n",
       "        vertical-align: middle;\n",
       "    }\n",
       "\n",
       "    .dataframe tbody tr th {\n",
       "        vertical-align: top;\n",
       "    }\n",
       "\n",
       "    .dataframe thead th {\n",
       "        text-align: right;\n",
       "    }\n",
       "</style>\n",
       "<table border=\"1\" class=\"dataframe\">\n",
       "  <thead>\n",
       "    <tr style=\"text-align: right;\">\n",
       "      <th></th>\n",
       "      <th>ano</th>\n",
       "      <th>id_uf_municipio</th>\n",
       "      <th>valor_remuneracao_media</th>\n",
       "      <th>idade</th>\n",
       "      <th>ocupacao_id</th>\n",
       "      <th>sexo_id</th>\n",
       "      <th>raca_cor_id</th>\n",
       "      <th>sigla_uf</th>\n",
       "      <th>sigla_municipio</th>\n",
       "      <th>chave_x</th>\n",
       "      <th>valor_x</th>\n",
       "      <th>chave_y</th>\n",
       "      <th>valor_y</th>\n",
       "      <th>cbo_2002</th>\n",
       "      <th>sinonimo</th>\n",
       "    </tr>\n",
       "  </thead>\n",
       "  <tbody>\n",
       "    <tr>\n",
       "      <th>0</th>\n",
       "      <td>2019</td>\n",
       "      <td>500240</td>\n",
       "      <td>0.99</td>\n",
       "      <td>17</td>\n",
       "      <td>317210</td>\n",
       "      <td>1</td>\n",
       "      <td>2</td>\n",
       "      <td>MS</td>\n",
       "      <td>Caarapo</td>\n",
       "      <td>2.0</td>\n",
       "      <td>Branca</td>\n",
       "      <td>1</td>\n",
       "      <td>Masculino</td>\n",
       "      <td>317210.0</td>\n",
       "      <td>Analista de service desk</td>\n",
       "    </tr>\n",
       "    <tr>\n",
       "      <th>1</th>\n",
       "      <td>2019</td>\n",
       "      <td>500570</td>\n",
       "      <td>0.00</td>\n",
       "      <td>36</td>\n",
       "      <td>212420</td>\n",
       "      <td>1</td>\n",
       "      <td>2</td>\n",
       "      <td>MS</td>\n",
       "      <td>Navirai</td>\n",
       "      <td>2.0</td>\n",
       "      <td>Branca</td>\n",
       "      <td>1</td>\n",
       "      <td>Masculino</td>\n",
       "      <td>212420.0</td>\n",
       "      <td>Analista de suporte</td>\n",
       "    </tr>\n",
       "  </tbody>\n",
       "</table>\n",
       "</div>"
      ],
      "text/plain": [
       "    ano  id_uf_municipio  valor_remuneracao_media  idade  ocupacao_id  \\\n",
       "0  2019           500240                     0.99     17       317210   \n",
       "1  2019           500570                     0.00     36       212420   \n",
       "\n",
       "   sexo_id  raca_cor_id sigla_uf sigla_municipio  chave_x valor_x  chave_y  \\\n",
       "0        1            2       MS         Caarapo      2.0  Branca        1   \n",
       "1        1            2       MS         Navirai      2.0  Branca        1   \n",
       "\n",
       "     valor_y  cbo_2002                  sinonimo  \n",
       "0  Masculino  317210.0  Analista de service desk  \n",
       "1  Masculino  212420.0       Analista de suporte  "
      ]
     },
     "execution_count": 4,
     "metadata": {},
     "output_type": "execute_result"
    }
   ],
   "source": [
    "# merge df and df_sexo by sexo_id\n",
    "df = pd.merge(df, df_raca_cor, left_on=\"raca_cor_id\",\n",
    "              right_on=\"chave\", how=\"left\")\n",
    "df = pd.merge(df, df_sexo, left_on=\"sexo_id\", right_on=\"chave\",\n",
    "              how=\"left\")\n",
    "df = pd.merge(df, df_ordered_sinonimo, left_on=\"ocupacao_id\",\n",
    "              right_on=\"cbo_2002\", how=\"left\")\n",
    "df.head(2)"
   ]
  },
  {
   "attachments": {},
   "cell_type": "markdown",
   "metadata": {},
   "source": [
    "# Gerando ID para Sigla_UF"
   ]
  },
  {
   "cell_type": "code",
   "execution_count": null,
   "metadata": {},
   "outputs": [
    {
     "data": {
      "text/html": [
       "<div>\n",
       "<style scoped>\n",
       "    .dataframe tbody tr th:only-of-type {\n",
       "        vertical-align: middle;\n",
       "    }\n",
       "\n",
       "    .dataframe tbody tr th {\n",
       "        vertical-align: top;\n",
       "    }\n",
       "\n",
       "    .dataframe thead th {\n",
       "        text-align: right;\n",
       "    }\n",
       "</style>\n",
       "<table border=\"1\" class=\"dataframe\">\n",
       "  <thead>\n",
       "    <tr style=\"text-align: right;\">\n",
       "      <th></th>\n",
       "      <th>ano</th>\n",
       "      <th>id_uf_municipio</th>\n",
       "      <th>valor_remuneracao_media</th>\n",
       "      <th>idade</th>\n",
       "      <th>ocupacao_id</th>\n",
       "      <th>sexo_id</th>\n",
       "      <th>raca_cor_id</th>\n",
       "      <th>sigla_uf</th>\n",
       "      <th>sigla_municipio</th>\n",
       "      <th>chave_x</th>\n",
       "      <th>valor_x</th>\n",
       "      <th>chave_y</th>\n",
       "      <th>valor_y</th>\n",
       "      <th>cbo_2002</th>\n",
       "      <th>sinonimo</th>\n",
       "      <th>sigla_uf_id</th>\n",
       "    </tr>\n",
       "  </thead>\n",
       "  <tbody>\n",
       "    <tr>\n",
       "      <th>0</th>\n",
       "      <td>2019</td>\n",
       "      <td>500240</td>\n",
       "      <td>0.99</td>\n",
       "      <td>17</td>\n",
       "      <td>317210</td>\n",
       "      <td>1</td>\n",
       "      <td>2</td>\n",
       "      <td>MS</td>\n",
       "      <td>Caarapo</td>\n",
       "      <td>2.0</td>\n",
       "      <td>Branca</td>\n",
       "      <td>1</td>\n",
       "      <td>Masculino</td>\n",
       "      <td>317210.0</td>\n",
       "      <td>Analista de service desk</td>\n",
       "      <td>11</td>\n",
       "    </tr>\n",
       "    <tr>\n",
       "      <th>1</th>\n",
       "      <td>2019</td>\n",
       "      <td>500570</td>\n",
       "      <td>0.00</td>\n",
       "      <td>36</td>\n",
       "      <td>212420</td>\n",
       "      <td>1</td>\n",
       "      <td>2</td>\n",
       "      <td>MS</td>\n",
       "      <td>Navirai</td>\n",
       "      <td>2.0</td>\n",
       "      <td>Branca</td>\n",
       "      <td>1</td>\n",
       "      <td>Masculino</td>\n",
       "      <td>212420.0</td>\n",
       "      <td>Analista de suporte</td>\n",
       "      <td>11</td>\n",
       "    </tr>\n",
       "  </tbody>\n",
       "</table>\n",
       "</div>"
      ],
      "text/plain": [
       "    ano  id_uf_municipio  valor_remuneracao_media  idade  ocupacao_id  \\\n",
       "0  2019           500240                     0.99     17       317210   \n",
       "1  2019           500570                     0.00     36       212420   \n",
       "\n",
       "   sexo_id  raca_cor_id sigla_uf sigla_municipio  chave_x valor_x  chave_y  \\\n",
       "0        1            2       MS         Caarapo      2.0  Branca        1   \n",
       "1        1            2       MS         Navirai      2.0  Branca        1   \n",
       "\n",
       "     valor_y  cbo_2002                  sinonimo  sigla_uf_id  \n",
       "0  Masculino  317210.0  Analista de service desk           11  \n",
       "1  Masculino  212420.0       Analista de suporte           11  "
      ]
     },
     "execution_count": 5,
     "metadata": {},
     "output_type": "execute_result"
    }
   ],
   "source": [
    "# Create id for sigla_uf\n",
    "df[\"sigla_uf_id\"] = df[\"sigla_uf\"].astype(\"category\").cat.codes\n",
    "df.head(2)\n"
   ]
  },
  {
   "attachments": {},
   "cell_type": "markdown",
   "metadata": {},
   "source": [
    "# Selecionando colunas necessárias"
   ]
  },
  {
   "cell_type": "code",
   "execution_count": null,
   "metadata": {},
   "outputs": [
    {
     "data": {
      "text/html": [
       "<div>\n",
       "<style scoped>\n",
       "    .dataframe tbody tr th:only-of-type {\n",
       "        vertical-align: middle;\n",
       "    }\n",
       "\n",
       "    .dataframe tbody tr th {\n",
       "        vertical-align: top;\n",
       "    }\n",
       "\n",
       "    .dataframe thead th {\n",
       "        text-align: right;\n",
       "    }\n",
       "</style>\n",
       "<table border=\"1\" class=\"dataframe\">\n",
       "  <thead>\n",
       "    <tr style=\"text-align: right;\">\n",
       "      <th></th>\n",
       "      <th>ano</th>\n",
       "      <th>sigla_uf_id</th>\n",
       "      <th>sigla_uf</th>\n",
       "      <th>valor_remuneracao_media</th>\n",
       "      <th>idade</th>\n",
       "      <th>ocupacao_id</th>\n",
       "      <th>ocupacao</th>\n",
       "      <th>sexo_id</th>\n",
       "      <th>sexo</th>\n",
       "      <th>raca_cor_id</th>\n",
       "      <th>raca_cor</th>\n",
       "    </tr>\n",
       "  </thead>\n",
       "  <tbody>\n",
       "    <tr>\n",
       "      <th>0</th>\n",
       "      <td>2019</td>\n",
       "      <td>11</td>\n",
       "      <td>MS</td>\n",
       "      <td>0.99</td>\n",
       "      <td>17</td>\n",
       "      <td>317210</td>\n",
       "      <td>Analista de service desk</td>\n",
       "      <td>1</td>\n",
       "      <td>Masculino</td>\n",
       "      <td>2</td>\n",
       "      <td>Branca</td>\n",
       "    </tr>\n",
       "    <tr>\n",
       "      <th>1</th>\n",
       "      <td>2019</td>\n",
       "      <td>11</td>\n",
       "      <td>MS</td>\n",
       "      <td>0.00</td>\n",
       "      <td>36</td>\n",
       "      <td>212420</td>\n",
       "      <td>Analista de suporte</td>\n",
       "      <td>1</td>\n",
       "      <td>Masculino</td>\n",
       "      <td>2</td>\n",
       "      <td>Branca</td>\n",
       "    </tr>\n",
       "  </tbody>\n",
       "</table>\n",
       "</div>"
      ],
      "text/plain": [
       "    ano  sigla_uf_id sigla_uf  valor_remuneracao_media  idade  ocupacao_id  \\\n",
       "0  2019           11       MS                     0.99     17       317210   \n",
       "1  2019           11       MS                     0.00     36       212420   \n",
       "\n",
       "                   ocupacao  sexo_id       sexo  raca_cor_id raca_cor  \n",
       "0  Analista de service desk        1  Masculino            2   Branca  \n",
       "1       Analista de suporte        1  Masculino            2   Branca  "
      ]
     },
     "execution_count": 6,
     "metadata": {},
     "output_type": "execute_result"
    }
   ],
   "source": [
    "df = df[[\"ano\", \"sigla_uf_id\", \"sigla_uf\", \"remuneracao_media\", \"idade\",\n",
    "         \"ocupacao_id\", \"sinonimo\", \"sexo_id\", \"valor_y\", \"raca_cor_id\", \"valor_x\"]]\n",
    "\n",
    "df = df.rename(columns={\n",
    "    \"sinonimo\": \"ocupacao\",\n",
    "    \"valor_y\": \"sexo\", \n",
    "    \"valor_x\": \"raca_cor\"\n",
    "    })\n",
    "\n",
    "df.head(2)"
   ]
  },
  {
   "attachments": {},
   "cell_type": "markdown",
   "metadata": {},
   "source": [
    "# Salvando arquivo"
   ]
  },
  {
   "cell_type": "code",
   "execution_count": null,
   "metadata": {},
   "outputs": [],
   "source": [
    "df.to_parquet(\"./output/gold/rais_TODOS_ANOS_comJoin_RAIS_VINC_PUB.parquet.gzip\", index=False, compression=\"gzip\")"
   ]
  }
 ],
 "metadata": {
  "kernelspec": {
   "display_name": "trc",
   "language": "python",
   "name": "python3"
  },
  "language_info": {
   "codemirror_mode": {
    "name": "ipython",
    "version": 3
   },
   "file_extension": ".py",
   "mimetype": "text/x-python",
   "name": "python",
   "nbconvert_exporter": "python",
   "pygments_lexer": "ipython3",
   "version": "3.8.16"
  },
  "orig_nbformat": 4
 },
 "nbformat": 4,
 "nbformat_minor": 2
}
