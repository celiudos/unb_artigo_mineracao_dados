{
 "cells": [
  {
   "attachments": {},
   "cell_type": "markdown",
   "metadata": {},
   "source": [
    "# Carregar dados"
   ]
  },
  {
   "cell_type": "code",
   "execution_count": 1,
   "metadata": {},
   "outputs": [],
   "source": [
    "ANO = 2020"
   ]
  },
  {
   "cell_type": "code",
   "execution_count": 4,
   "metadata": {},
   "outputs": [
    {
     "name": "stdout",
     "output_type": "stream",
     "text": [
      "\n",
      "Quantidade docs: 5664\n",
      "\n"
     ]
    },
    {
     "data": {
      "text/html": [
       "<div>\n",
       "<style scoped>\n",
       "    .dataframe tbody tr th:only-of-type {\n",
       "        vertical-align: middle;\n",
       "    }\n",
       "\n",
       "    .dataframe tbody tr th {\n",
       "        vertical-align: top;\n",
       "    }\n",
       "\n",
       "    .dataframe thead th {\n",
       "        text-align: right;\n",
       "    }\n",
       "</style>\n",
       "<table border=\"1\" class=\"dataframe\">\n",
       "  <thead>\n",
       "    <tr style=\"text-align: right;\">\n",
       "      <th></th>\n",
       "      <th>Município</th>\n",
       "    </tr>\n",
       "  </thead>\n",
       "  <tbody>\n",
       "    <tr>\n",
       "      <th>0</th>\n",
       "      <td>110001:Ro-Alta Floresta D Oeste</td>\n",
       "    </tr>\n",
       "    <tr>\n",
       "      <th>1</th>\n",
       "      <td>110002:Ro-Ariquemes</td>\n",
       "    </tr>\n",
       "  </tbody>\n",
       "</table>\n",
       "</div>"
      ],
      "text/plain": [
       "                         Município\n",
       "0  110001:Ro-Alta Floresta D Oeste\n",
       "1              110002:Ro-Ariquemes"
      ]
     },
     "execution_count": 4,
     "metadata": {},
     "output_type": "execute_result"
    }
   ],
   "source": [
    "import pandas as pd\n",
    "\n",
    "# # Mostrar mais colunas\n",
    "pd.set_option(\"display.max_columns\", 100)\n",
    "pd.set_option('display.max_colwidth', 100)\n",
    "\n",
    "# selecting the tab from xls\n",
    "df = pd.read_excel(\n",
    "    # f\"./output/bronze/rais_{ANO}/RAIS_vinculos_layout2018e2019.xls\", \n",
    "    f\"./output/bronze/rais_{ANO}/RAIS_vinculos_layout2020.xls\", \n",
    "    sheet_name = \"municipio\")\n",
    "\n",
    "qnt_full = len(df)\n",
    "print(f\"\"\"\n",
    "Quantidade docs: {qnt_full}\n",
    "\"\"\")\n",
    "\n",
    "df.head(2)\n"
   ]
  },
  {
   "cell_type": "code",
   "execution_count": 5,
   "metadata": {},
   "outputs": [
    {
     "data": {
      "text/html": [
       "<div>\n",
       "<style scoped>\n",
       "    .dataframe tbody tr th:only-of-type {\n",
       "        vertical-align: middle;\n",
       "    }\n",
       "\n",
       "    .dataframe tbody tr th {\n",
       "        vertical-align: top;\n",
       "    }\n",
       "\n",
       "    .dataframe thead th {\n",
       "        text-align: right;\n",
       "    }\n",
       "</style>\n",
       "<table border=\"1\" class=\"dataframe\">\n",
       "  <thead>\n",
       "    <tr style=\"text-align: right;\">\n",
       "      <th></th>\n",
       "      <th>Município</th>\n",
       "      <th>id_uf_municipio</th>\n",
       "      <th>NOME</th>\n",
       "    </tr>\n",
       "  </thead>\n",
       "  <tbody>\n",
       "    <tr>\n",
       "      <th>5648</th>\n",
       "      <td>522190:Go-Varjao</td>\n",
       "      <td>522190</td>\n",
       "      <td>Go-Varjao</td>\n",
       "    </tr>\n",
       "    <tr>\n",
       "      <th>5649</th>\n",
       "      <td>522200:Go-Vianopolis</td>\n",
       "      <td>522200</td>\n",
       "      <td>Go-Vianopolis</td>\n",
       "    </tr>\n",
       "    <tr>\n",
       "      <th>5650</th>\n",
       "      <td>522205:Go-Vicentinopolis</td>\n",
       "      <td>522205</td>\n",
       "      <td>Go-Vicentinopolis</td>\n",
       "    </tr>\n",
       "    <tr>\n",
       "      <th>5651</th>\n",
       "      <td>522208:Go-Wanderlandia</td>\n",
       "      <td>522208</td>\n",
       "      <td>Go-Wanderlandia</td>\n",
       "    </tr>\n",
       "    <tr>\n",
       "      <th>5652</th>\n",
       "      <td>522210:Go-Xambioa</td>\n",
       "      <td>522210</td>\n",
       "      <td>Go-Xambioa</td>\n",
       "    </tr>\n",
       "    <tr>\n",
       "      <th>5653</th>\n",
       "      <td>522220:Go-Vila Boa</td>\n",
       "      <td>522220</td>\n",
       "      <td>Go-Vila Boa</td>\n",
       "    </tr>\n",
       "    <tr>\n",
       "      <th>5654</th>\n",
       "      <td>522230:Go-Vila Propicio</td>\n",
       "      <td>522230</td>\n",
       "      <td>Go-Vila Propicio</td>\n",
       "    </tr>\n",
       "    <tr>\n",
       "      <th>5655</th>\n",
       "      <td>529999:Go-Ignorado</td>\n",
       "      <td>529999</td>\n",
       "      <td>Go-Ignorado</td>\n",
       "    </tr>\n",
       "    <tr>\n",
       "      <th>5656</th>\n",
       "      <td>530010:Df-Brasilia</td>\n",
       "      <td>530010</td>\n",
       "      <td>Df-Brasilia</td>\n",
       "    </tr>\n",
       "    <tr>\n",
       "      <th>5657</th>\n",
       "      <td>539999:Df-Ignorado</td>\n",
       "      <td>539999</td>\n",
       "      <td>Df-Ignorado</td>\n",
       "    </tr>\n",
       "  </tbody>\n",
       "</table>\n",
       "</div>"
      ],
      "text/plain": [
       "                     Município id_uf_municipio               NOME\n",
       "5648          522190:Go-Varjao          522190          Go-Varjao\n",
       "5649      522200:Go-Vianopolis          522200      Go-Vianopolis\n",
       "5650  522205:Go-Vicentinopolis          522205  Go-Vicentinopolis\n",
       "5651    522208:Go-Wanderlandia          522208    Go-Wanderlandia\n",
       "5652         522210:Go-Xambioa          522210         Go-Xambioa\n",
       "5653        522220:Go-Vila Boa          522220        Go-Vila Boa\n",
       "5654   522230:Go-Vila Propicio          522230   Go-Vila Propicio\n",
       "5655        529999:Go-Ignorado          529999        Go-Ignorado\n",
       "5656        530010:Df-Brasilia          530010        Df-Brasilia\n",
       "5657        539999:Df-Ignorado          539999        Df-Ignorado"
      ]
     },
     "execution_count": 5,
     "metadata": {},
     "output_type": "execute_result"
    }
   ],
   "source": [
    "# separate each row by \":\" in column \"ID\" and \"NOME\". Ignore if error\n",
    "df[[\"id_uf_municipio\", \"NOME\"]] = df[\"Município\"].str.split(\":\", expand=True)\n",
    "df.dropna(inplace=True)\n",
    "df.tail(10)\n",
    "# len(df)"
   ]
  },
  {
   "cell_type": "code",
   "execution_count": 6,
   "metadata": {},
   "outputs": [
    {
     "data": {
      "text/html": [
       "<div>\n",
       "<style scoped>\n",
       "    .dataframe tbody tr th:only-of-type {\n",
       "        vertical-align: middle;\n",
       "    }\n",
       "\n",
       "    .dataframe tbody tr th {\n",
       "        vertical-align: top;\n",
       "    }\n",
       "\n",
       "    .dataframe thead th {\n",
       "        text-align: right;\n",
       "    }\n",
       "</style>\n",
       "<table border=\"1\" class=\"dataframe\">\n",
       "  <thead>\n",
       "    <tr style=\"text-align: right;\">\n",
       "      <th></th>\n",
       "      <th>Município</th>\n",
       "      <th>id_uf_municipio</th>\n",
       "      <th>NOME</th>\n",
       "      <th>sigla_uf</th>\n",
       "      <th>sigla_municipio</th>\n",
       "    </tr>\n",
       "  </thead>\n",
       "  <tbody>\n",
       "    <tr>\n",
       "      <th>5648</th>\n",
       "      <td>522190:Go-Varjao</td>\n",
       "      <td>522190</td>\n",
       "      <td>Go-Varjao</td>\n",
       "      <td>GO</td>\n",
       "      <td>Varjao</td>\n",
       "    </tr>\n",
       "    <tr>\n",
       "      <th>5649</th>\n",
       "      <td>522200:Go-Vianopolis</td>\n",
       "      <td>522200</td>\n",
       "      <td>Go-Vianopolis</td>\n",
       "      <td>GO</td>\n",
       "      <td>Vianopolis</td>\n",
       "    </tr>\n",
       "    <tr>\n",
       "      <th>5650</th>\n",
       "      <td>522205:Go-Vicentinopolis</td>\n",
       "      <td>522205</td>\n",
       "      <td>Go-Vicentinopolis</td>\n",
       "      <td>GO</td>\n",
       "      <td>Vicentinopolis</td>\n",
       "    </tr>\n",
       "    <tr>\n",
       "      <th>5651</th>\n",
       "      <td>522208:Go-Wanderlandia</td>\n",
       "      <td>522208</td>\n",
       "      <td>Go-Wanderlandia</td>\n",
       "      <td>GO</td>\n",
       "      <td>Wanderlandia</td>\n",
       "    </tr>\n",
       "    <tr>\n",
       "      <th>5652</th>\n",
       "      <td>522210:Go-Xambioa</td>\n",
       "      <td>522210</td>\n",
       "      <td>Go-Xambioa</td>\n",
       "      <td>GO</td>\n",
       "      <td>Xambioa</td>\n",
       "    </tr>\n",
       "    <tr>\n",
       "      <th>5653</th>\n",
       "      <td>522220:Go-Vila Boa</td>\n",
       "      <td>522220</td>\n",
       "      <td>Go-Vila Boa</td>\n",
       "      <td>GO</td>\n",
       "      <td>Vila Boa</td>\n",
       "    </tr>\n",
       "    <tr>\n",
       "      <th>5654</th>\n",
       "      <td>522230:Go-Vila Propicio</td>\n",
       "      <td>522230</td>\n",
       "      <td>Go-Vila Propicio</td>\n",
       "      <td>GO</td>\n",
       "      <td>Vila Propicio</td>\n",
       "    </tr>\n",
       "    <tr>\n",
       "      <th>5655</th>\n",
       "      <td>529999:Go-Ignorado</td>\n",
       "      <td>529999</td>\n",
       "      <td>Go-Ignorado</td>\n",
       "      <td>GO</td>\n",
       "      <td>Ignorado</td>\n",
       "    </tr>\n",
       "    <tr>\n",
       "      <th>5656</th>\n",
       "      <td>530010:Df-Brasilia</td>\n",
       "      <td>530010</td>\n",
       "      <td>Df-Brasilia</td>\n",
       "      <td>DF</td>\n",
       "      <td>Brasilia</td>\n",
       "    </tr>\n",
       "    <tr>\n",
       "      <th>5657</th>\n",
       "      <td>539999:Df-Ignorado</td>\n",
       "      <td>539999</td>\n",
       "      <td>Df-Ignorado</td>\n",
       "      <td>DF</td>\n",
       "      <td>Ignorado</td>\n",
       "    </tr>\n",
       "  </tbody>\n",
       "</table>\n",
       "</div>"
      ],
      "text/plain": [
       "                     Município id_uf_municipio               NOME sigla_uf  \\\n",
       "5648          522190:Go-Varjao          522190          Go-Varjao       GO   \n",
       "5649      522200:Go-Vianopolis          522200      Go-Vianopolis       GO   \n",
       "5650  522205:Go-Vicentinopolis          522205  Go-Vicentinopolis       GO   \n",
       "5651    522208:Go-Wanderlandia          522208    Go-Wanderlandia       GO   \n",
       "5652         522210:Go-Xambioa          522210         Go-Xambioa       GO   \n",
       "5653        522220:Go-Vila Boa          522220        Go-Vila Boa       GO   \n",
       "5654   522230:Go-Vila Propicio          522230   Go-Vila Propicio       GO   \n",
       "5655        529999:Go-Ignorado          529999        Go-Ignorado       GO   \n",
       "5656        530010:Df-Brasilia          530010        Df-Brasilia       DF   \n",
       "5657        539999:Df-Ignorado          539999        Df-Ignorado       DF   \n",
       "\n",
       "     sigla_municipio  \n",
       "5648          Varjao  \n",
       "5649      Vianopolis  \n",
       "5650  Vicentinopolis  \n",
       "5651    Wanderlandia  \n",
       "5652         Xambioa  \n",
       "5653        Vila Boa  \n",
       "5654   Vila Propicio  \n",
       "5655        Ignorado  \n",
       "5656        Brasilia  \n",
       "5657        Ignorado  "
      ]
     },
     "execution_count": 6,
     "metadata": {},
     "output_type": "execute_result"
    }
   ],
   "source": [
    "df[[\"sigla_uf\", \"sigla_municipio\"]] = df[\"NOME\"].str.split(\"-\", expand=True)[[0, 1]]\n",
    "df[\"sigla_uf\"] = df[\"sigla_uf\"].str.upper()\n",
    "df.tail(10)"
   ]
  },
  {
   "cell_type": "code",
   "execution_count": 7,
   "metadata": {},
   "outputs": [
    {
     "data": {
      "text/plain": [
       "['Go', 'Varjao']"
      ]
     },
     "execution_count": 7,
     "metadata": {},
     "output_type": "execute_result"
    }
   ],
   "source": [
    "\"Go-Varjao\".split(\"-\")"
   ]
  },
  {
   "cell_type": "code",
   "execution_count": 8,
   "metadata": {},
   "outputs": [
    {
     "data": {
      "text/html": [
       "<div>\n",
       "<style scoped>\n",
       "    .dataframe tbody tr th:only-of-type {\n",
       "        vertical-align: middle;\n",
       "    }\n",
       "\n",
       "    .dataframe tbody tr th {\n",
       "        vertical-align: top;\n",
       "    }\n",
       "\n",
       "    .dataframe thead th {\n",
       "        text-align: right;\n",
       "    }\n",
       "</style>\n",
       "<table border=\"1\" class=\"dataframe\">\n",
       "  <thead>\n",
       "    <tr style=\"text-align: right;\">\n",
       "      <th></th>\n",
       "      <th>id_uf_municipio</th>\n",
       "      <th>sigla_uf</th>\n",
       "      <th>sigla_municipio</th>\n",
       "    </tr>\n",
       "  </thead>\n",
       "  <tbody>\n",
       "    <tr>\n",
       "      <th>0</th>\n",
       "      <td>110001</td>\n",
       "      <td>RO</td>\n",
       "      <td>Alta Floresta D Oeste</td>\n",
       "    </tr>\n",
       "    <tr>\n",
       "      <th>1</th>\n",
       "      <td>110002</td>\n",
       "      <td>RO</td>\n",
       "      <td>Ariquemes</td>\n",
       "    </tr>\n",
       "  </tbody>\n",
       "</table>\n",
       "</div>"
      ],
      "text/plain": [
       "  id_uf_municipio sigla_uf        sigla_municipio\n",
       "0          110001       RO  Alta Floresta D Oeste\n",
       "1          110002       RO              Ariquemes"
      ]
     },
     "execution_count": 8,
     "metadata": {},
     "output_type": "execute_result"
    }
   ],
   "source": [
    "usecols = [ \"id_uf_municipio\", \"sigla_uf\",\t\"sigla_municipio\"]\n",
    "\n",
    "df_f = df[usecols]\n",
    "    \n",
    "df_f.head(2)"
   ]
  },
  {
   "cell_type": "code",
   "execution_count": 9,
   "metadata": {},
   "outputs": [
    {
     "name": "stderr",
     "output_type": "stream",
     "text": [
      "C:\\Users\\marce\\AppData\\Local\\Temp\\ipykernel_24256\\3496888868.py:1: SettingWithCopyWarning: \n",
      "A value is trying to be set on a copy of a slice from a DataFrame.\n",
      "Try using .loc[row_indexer,col_indexer] = value instead\n",
      "\n",
      "See the caveats in the documentation: https://pandas.pydata.org/pandas-docs/stable/user_guide/indexing.html#returning-a-view-versus-a-copy\n",
      "  df_f[\"ano\"] = ANO\n"
     ]
    },
    {
     "data": {
      "text/html": [
       "<div>\n",
       "<style scoped>\n",
       "    .dataframe tbody tr th:only-of-type {\n",
       "        vertical-align: middle;\n",
       "    }\n",
       "\n",
       "    .dataframe tbody tr th {\n",
       "        vertical-align: top;\n",
       "    }\n",
       "\n",
       "    .dataframe thead th {\n",
       "        text-align: right;\n",
       "    }\n",
       "</style>\n",
       "<table border=\"1\" class=\"dataframe\">\n",
       "  <thead>\n",
       "    <tr style=\"text-align: right;\">\n",
       "      <th></th>\n",
       "      <th>id_uf_municipio</th>\n",
       "      <th>sigla_uf</th>\n",
       "      <th>sigla_municipio</th>\n",
       "      <th>ano</th>\n",
       "    </tr>\n",
       "  </thead>\n",
       "  <tbody>\n",
       "    <tr>\n",
       "      <th>0</th>\n",
       "      <td>110001</td>\n",
       "      <td>RO</td>\n",
       "      <td>Alta Floresta D Oeste</td>\n",
       "      <td>2020</td>\n",
       "    </tr>\n",
       "    <tr>\n",
       "      <th>1</th>\n",
       "      <td>110002</td>\n",
       "      <td>RO</td>\n",
       "      <td>Ariquemes</td>\n",
       "      <td>2020</td>\n",
       "    </tr>\n",
       "  </tbody>\n",
       "</table>\n",
       "</div>"
      ],
      "text/plain": [
       "  id_uf_municipio sigla_uf        sigla_municipio   ano\n",
       "0          110001       RO  Alta Floresta D Oeste  2020\n",
       "1          110002       RO              Ariquemes  2020"
      ]
     },
     "execution_count": 9,
     "metadata": {},
     "output_type": "execute_result"
    }
   ],
   "source": [
    "df_f[\"ano\"] = ANO\n",
    "df_f.head(2)"
   ]
  },
  {
   "attachments": {},
   "cell_type": "markdown",
   "metadata": {},
   "source": [
    "# Salvando arquivo"
   ]
  },
  {
   "cell_type": "code",
   "execution_count": 10,
   "metadata": {},
   "outputs": [],
   "source": [
    "df_f.to_parquet(f\"./output/silver/uf_municipio_{ANO}.parquet.gzip\", index=False, compression=\"gzip\")"
   ]
  }
 ],
 "metadata": {
  "kernelspec": {
   "display_name": "trc",
   "language": "python",
   "name": "python3"
  },
  "language_info": {
   "codemirror_mode": {
    "name": "ipython",
    "version": 3
   },
   "file_extension": ".py",
   "mimetype": "text/x-python",
   "name": "python",
   "nbconvert_exporter": "python",
   "pygments_lexer": "ipython3",
   "version": "3.8.16"
  },
  "orig_nbformat": 4
 },
 "nbformat": 4,
 "nbformat_minor": 2
}
