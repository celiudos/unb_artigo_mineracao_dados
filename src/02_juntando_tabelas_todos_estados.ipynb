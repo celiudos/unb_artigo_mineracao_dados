{
 "cells": [
  {
   "attachments": {},
   "cell_type": "markdown",
   "metadata": {},
   "source": [
    "# Carregar dados"
   ]
  },
  {
   "cell_type": "code",
   "execution_count": 23,
   "metadata": {},
   "outputs": [],
   "source": [
    "ANO = 2021"
   ]
  },
  {
   "cell_type": "code",
   "execution_count": 24,
   "metadata": {},
   "outputs": [],
   "source": [
    "import pandas as pd\n",
    "\n",
    "# # Mostrar mais colunas\n",
    "pd.set_option(\"display.max_columns\", 100)\n",
    "pd.set_option('display.max_colwidth', 100)\n",
    "\n",
    "# pandas read txt and decode utf-8 and read until 1000 rows\n",
    "\n",
    "IDS_PROFISSIONAIS_TI = [\"212205\", \"212210\", \"212215\", \"212305\", \"212310\", \"212315\", \"212320\", \"212405\", \"212410\", \"212415\", \"212420\", \"317105\", \"317110\", \"317115\", \"317120\", \"317205\", \"317210\"]\n",
    "\n",
    "def load_csv(path):\n",
    "    df = pd.read_csv(\n",
    "        path, \n",
    "        encoding = \"ISO-8859-1\", \n",
    "        sep = \";\", \n",
    "        decimal = \",\", \n",
    "        )\n",
    "\n",
    "    qnt_total = len(df)\n",
    "\n",
    "    df = df[df['CBO Ocupação 2002'].isin(IDS_PROFISSIONAIS_TI)] \n",
    "\n",
    "    print(f\"\"\"\n",
    "    Quantidade docs: {qnt_total}\n",
    "    Quantidade docs filtrados: {len(df)}\n",
    "    \"\"\")\n",
    "\n",
    "    return df\n",
    "\n",
    "df_cen = load_csv(f\"./output/bronze/rais_{ANO}/RAIS_VINC_PUB_CENTRO_OESTE.txt\")"
   ]
  },
  {
   "cell_type": "code",
   "execution_count": null,
   "metadata": {},
   "outputs": [
    {
     "name": "stderr",
     "output_type": "stream",
     "text": [
      "C:\\Users\\marce\\AppData\\Local\\Temp\\ipykernel_20796\\2416608761.py:12: DtypeWarning: Columns (7,23) have mixed types. Specify dtype option on import or set low_memory=False.\n",
      "  df = pd.read_csv(\n"
     ]
    },
    {
     "name": "stdout",
     "output_type": "stream",
     "text": [
      "\n",
      "    Quantidade docs: 12190056\n",
      "    Quantidade docs filtrados: 58225\n",
      "    \n"
     ]
    },
    {
     "name": "stderr",
     "output_type": "stream",
     "text": [
      "C:\\Users\\marce\\AppData\\Local\\Temp\\ipykernel_20796\\2416608761.py:12: DtypeWarning: Columns (7,23) have mixed types. Specify dtype option on import or set low_memory=False.\n",
      "  df = pd.read_csv(\n"
     ]
    },
    {
     "name": "stdout",
     "output_type": "stream",
     "text": [
      "\n",
      "    Quantidade docs: 14435612\n",
      "    Quantidade docs filtrados: 129673\n",
      "    \n"
     ]
    },
    {
     "name": "stderr",
     "output_type": "stream",
     "text": [
      "C:\\Users\\marce\\AppData\\Local\\Temp\\ipykernel_20796\\2416608761.py:12: DtypeWarning: Columns (7,23) have mixed types. Specify dtype option on import or set low_memory=False.\n",
      "  df = pd.read_csv(\n"
     ]
    },
    {
     "name": "stdout",
     "output_type": "stream",
     "text": [
      "\n",
      "    Quantidade docs: 3977463\n",
      "    Quantidade docs filtrados: 14875\n",
      "    \n"
     ]
    },
    {
     "name": "stderr",
     "output_type": "stream",
     "text": [
      "C:\\Users\\marce\\AppData\\Local\\Temp\\ipykernel_20796\\2416608761.py:12: DtypeWarning: Columns (7,23) have mixed types. Specify dtype option on import or set low_memory=False.\n",
      "  df = pd.read_csv(\n"
     ]
    },
    {
     "name": "stdout",
     "output_type": "stream",
     "text": [
      "\n",
      "    Quantidade docs: 20226372\n",
      "    Quantidade docs filtrados: 317862\n",
      "    \n"
     ]
    },
    {
     "name": "stderr",
     "output_type": "stream",
     "text": [
      "C:\\Users\\marce\\AppData\\Local\\Temp\\ipykernel_20796\\2416608761.py:12: DtypeWarning: Columns (7,23) have mixed types. Specify dtype option on import or set low_memory=False.\n",
      "  df = pd.read_csv(\n"
     ]
    },
    {
     "name": "stdout",
     "output_type": "stream",
     "text": [
      "\n",
      "    Quantidade docs: 13238715\n",
      "    Quantidade docs filtrados: 122716\n",
      "    \n"
     ]
    }
   ],
   "source": [
    "df_no = load_csv(f\"./output/bronze/rais_{ANO}/RAIS_VINC_PUB_NORDESTE.txt\")\n",
    "df_mg = load_csv(f\"./output/bronze/rais_{ANO}/RAIS_VINC_PUB_MG_ES_RJ.txt\")\n",
    "df_nt = load_csv(f\"./output/bronze/rais_{ANO}/RAIS_VINC_PUB_NORTE.txt\")\n",
    "df_sp = load_csv(f\"./output/bronze/rais_{ANO}/RAIS_VINC_PUB_SP.txt\")\n",
    "df_sul = load_csv(f\"./output/bronze/rais_{ANO}/RAIS_VINC_PUB_SUL.txt\")"
   ]
  },
  {
   "attachments": {},
   "cell_type": "markdown",
   "metadata": {},
   "source": [
    "# Juntando"
   ]
  },
  {
   "cell_type": "code",
   "execution_count": null,
   "metadata": {},
   "outputs": [
    {
     "data": {
      "text/plain": [
       "691982"
      ]
     },
     "execution_count": 10,
     "metadata": {},
     "output_type": "execute_result"
    }
   ],
   "source": [
    "df_tudo = pd.concat([df_cen, df_no, df_mg, df_nt, df_sp, df_sul])\n",
    "len(df_tudo)"
   ]
  },
  {
   "cell_type": "code",
   "execution_count": null,
   "metadata": {},
   "outputs": [
    {
     "data": {
      "text/html": [
       "<div>\n",
       "<style scoped>\n",
       "    .dataframe tbody tr th:only-of-type {\n",
       "        vertical-align: middle;\n",
       "    }\n",
       "\n",
       "    .dataframe tbody tr th {\n",
       "        vertical-align: top;\n",
       "    }\n",
       "\n",
       "    .dataframe thead th {\n",
       "        text-align: right;\n",
       "    }\n",
       "</style>\n",
       "<table border=\"1\" class=\"dataframe\">\n",
       "  <thead>\n",
       "    <tr style=\"text-align: right;\">\n",
       "      <th></th>\n",
       "      <th>Bairros SP</th>\n",
       "      <th>Bairros Fortaleza</th>\n",
       "      <th>Bairros RJ</th>\n",
       "      <th>Causa Afastamento 1</th>\n",
       "      <th>Causa Afastamento 2</th>\n",
       "      <th>Causa Afastamento 3</th>\n",
       "      <th>Motivo Desligamento</th>\n",
       "      <th>CBO Ocupação 2002</th>\n",
       "      <th>CNAE 2.0 Classe</th>\n",
       "      <th>CNAE 95 Classe</th>\n",
       "      <th>Distritos SP</th>\n",
       "      <th>Vínculo Ativo 31/12</th>\n",
       "      <th>Faixa Etária</th>\n",
       "      <th>Faixa Hora Contrat</th>\n",
       "      <th>Faixa Remun Dezem (SM)</th>\n",
       "      <th>Faixa Remun Média (SM)</th>\n",
       "      <th>Faixa Tempo Emprego</th>\n",
       "      <th>Escolaridade após 2005</th>\n",
       "      <th>Qtd Hora Contr</th>\n",
       "      <th>Idade</th>\n",
       "      <th>Ind CEI Vinculado</th>\n",
       "      <th>Ind Simples</th>\n",
       "      <th>Mês Admissão</th>\n",
       "      <th>Mês Desligamento</th>\n",
       "      <th>Mun Trab</th>\n",
       "      <th>Município</th>\n",
       "      <th>Nacionalidade</th>\n",
       "      <th>Natureza Jurídica</th>\n",
       "      <th>Ind Portador Defic</th>\n",
       "      <th>Qtd Dias Afastamento</th>\n",
       "      <th>Raça Cor</th>\n",
       "      <th>Regiões Adm DF</th>\n",
       "      <th>Vl Remun Dezembro Nom</th>\n",
       "      <th>Vl Remun Dezembro (SM)</th>\n",
       "      <th>Vl Remun Média Nom</th>\n",
       "      <th>Vl Remun Média (SM)</th>\n",
       "      <th>CNAE 2.0 Subclasse</th>\n",
       "      <th>Sexo Trabalhador</th>\n",
       "      <th>Tamanho Estabelecimento</th>\n",
       "      <th>Tempo Emprego</th>\n",
       "      <th>Tipo Admissão</th>\n",
       "      <th>Tipo Estab</th>\n",
       "      <th>Tipo Estab.1</th>\n",
       "      <th>Tipo Defic</th>\n",
       "      <th>Tipo Vínculo</th>\n",
       "      <th>IBGE Subsetor</th>\n",
       "      <th>Vl Rem Janeiro SC</th>\n",
       "      <th>Vl Rem Fevereiro SC</th>\n",
       "      <th>Vl Rem Março SC</th>\n",
       "      <th>Vl Rem Abril SC</th>\n",
       "      <th>Vl Rem Maio SC</th>\n",
       "      <th>Vl Rem Junho SC</th>\n",
       "      <th>Vl Rem Julho SC</th>\n",
       "      <th>Vl Rem Agosto SC</th>\n",
       "      <th>Vl Rem Setembro SC</th>\n",
       "      <th>Vl Rem Outubro SC</th>\n",
       "      <th>Vl Rem Novembro SC</th>\n",
       "      <th>Ano Chegada Brasil</th>\n",
       "      <th>Ind Trab Intermitente</th>\n",
       "      <th>Ind Trab Parcial</th>\n",
       "      <th>ano</th>\n",
       "    </tr>\n",
       "  </thead>\n",
       "  <tbody>\n",
       "    <tr>\n",
       "      <th>225</th>\n",
       "      <td>{ñ class}</td>\n",
       "      <td>{ñ class}</td>\n",
       "      <td>{ñ class}</td>\n",
       "      <td>99</td>\n",
       "      <td>99</td>\n",
       "      <td>99</td>\n",
       "      <td>21</td>\n",
       "      <td>212410</td>\n",
       "      <td>72100</td>\n",
       "      <td>73105</td>\n",
       "      <td>{ñ class}</td>\n",
       "      <td>0</td>\n",
       "      <td>5</td>\n",
       "      <td>6</td>\n",
       "      <td>0</td>\n",
       "      <td>5</td>\n",
       "      <td>8</td>\n",
       "      <td>1</td>\n",
       "      <td>44</td>\n",
       "      <td>39</td>\n",
       "      <td>0</td>\n",
       "      <td>0</td>\n",
       "      <td>0</td>\n",
       "      <td>05</td>\n",
       "      <td>0</td>\n",
       "      <td>500270</td>\n",
       "      <td>10</td>\n",
       "      <td>3069</td>\n",
       "      <td>0</td>\n",
       "      <td>0</td>\n",
       "      <td>9</td>\n",
       "      <td>0</td>\n",
       "      <td>0.0</td>\n",
       "      <td>0.0</td>\n",
       "      <td>4137.71</td>\n",
       "      <td>3.75</td>\n",
       "      <td>7210000</td>\n",
       "      <td>1</td>\n",
       "      <td>4</td>\n",
       "      <td>123.2</td>\n",
       "      <td>0</td>\n",
       "      <td>1</td>\n",
       "      <td>CNPJ</td>\n",
       "      <td>0</td>\n",
       "      <td>10</td>\n",
       "      <td>19</td>\n",
       "      <td>4687.48</td>\n",
       "      <td>4687.48</td>\n",
       "      <td>4687.48</td>\n",
       "      <td>6134.23</td>\n",
       "      <td>491.9</td>\n",
       "      <td>0.0</td>\n",
       "      <td>0.0</td>\n",
       "      <td>0.0</td>\n",
       "      <td>0.0</td>\n",
       "      <td>0.0</td>\n",
       "      <td>0.0</td>\n",
       "      <td>0</td>\n",
       "      <td>0</td>\n",
       "      <td>0</td>\n",
       "      <td>2021</td>\n",
       "    </tr>\n",
       "    <tr>\n",
       "      <th>12045</th>\n",
       "      <td>{ñ class}</td>\n",
       "      <td>{ñ class}</td>\n",
       "      <td>{ñ class}</td>\n",
       "      <td>99</td>\n",
       "      <td>99</td>\n",
       "      <td>99</td>\n",
       "      <td>11</td>\n",
       "      <td>317210</td>\n",
       "      <td>62031</td>\n",
       "      <td>72214</td>\n",
       "      <td>{ñ class}</td>\n",
       "      <td>0</td>\n",
       "      <td>6</td>\n",
       "      <td>6</td>\n",
       "      <td>0</td>\n",
       "      <td>2</td>\n",
       "      <td>4</td>\n",
       "      <td>3</td>\n",
       "      <td>44</td>\n",
       "      <td>42</td>\n",
       "      <td>0</td>\n",
       "      <td>0</td>\n",
       "      <td>0</td>\n",
       "      <td>03</td>\n",
       "      <td>500270</td>\n",
       "      <td>500270</td>\n",
       "      <td>10</td>\n",
       "      <td>2062</td>\n",
       "      <td>0</td>\n",
       "      <td>0</td>\n",
       "      <td>9</td>\n",
       "      <td>0</td>\n",
       "      <td>0.0</td>\n",
       "      <td>0.0</td>\n",
       "      <td>1504.00</td>\n",
       "      <td>1.36</td>\n",
       "      <td>6203100</td>\n",
       "      <td>1</td>\n",
       "      <td>9</td>\n",
       "      <td>23.1</td>\n",
       "      <td>0</td>\n",
       "      <td>1</td>\n",
       "      <td>CNPJ</td>\n",
       "      <td>0</td>\n",
       "      <td>10</td>\n",
       "      <td>19</td>\n",
       "      <td>15.04</td>\n",
       "      <td>50.13</td>\n",
       "      <td>0.00</td>\n",
       "      <td>0.00</td>\n",
       "      <td>0.0</td>\n",
       "      <td>0.0</td>\n",
       "      <td>0.0</td>\n",
       "      <td>0.0</td>\n",
       "      <td>0.0</td>\n",
       "      <td>0.0</td>\n",
       "      <td>0.0</td>\n",
       "      <td>0</td>\n",
       "      <td>0</td>\n",
       "      <td>0</td>\n",
       "      <td>2021</td>\n",
       "    </tr>\n",
       "  </tbody>\n",
       "</table>\n",
       "</div>"
      ],
      "text/plain": [
       "                 Bairros SP     Bairros Fortaleza            Bairros RJ  \\\n",
       "225               {ñ class}             {ñ class}             {ñ class}   \n",
       "12045             {ñ class}             {ñ class}             {ñ class}   \n",
       "\n",
       "       Causa Afastamento 1  Causa Afastamento 2  Causa Afastamento 3  \\\n",
       "225                     99                   99                   99   \n",
       "12045                   99                   99                   99   \n",
       "\n",
       "       Motivo Desligamento CBO Ocupação 2002  CNAE 2.0 Classe  CNAE 95 Classe  \\\n",
       "225                     21            212410            72100           73105   \n",
       "12045                   11            317210            62031           72214   \n",
       "\n",
       "               Distritos SP  Vínculo Ativo 31/12  Faixa Etária  \\\n",
       "225               {ñ class}                    0             5   \n",
       "12045             {ñ class}                    0             6   \n",
       "\n",
       "       Faixa Hora Contrat  Faixa Remun Dezem (SM)  Faixa Remun Média (SM)  \\\n",
       "225                     6                       0                       5   \n",
       "12045                   6                       0                       2   \n",
       "\n",
       "       Faixa Tempo Emprego  Escolaridade após 2005  Qtd Hora Contr  Idade  \\\n",
       "225                      8                       1              44     39   \n",
       "12045                    4                       3              44     42   \n",
       "\n",
       "       Ind CEI Vinculado  Ind Simples  Mês Admissão Mês Desligamento  \\\n",
       "225                    0            0             0               05   \n",
       "12045                  0            0             0               03   \n",
       "\n",
       "       Mun Trab  Município  Nacionalidade  Natureza Jurídica  \\\n",
       "225           0     500270             10               3069   \n",
       "12045    500270     500270             10               2062   \n",
       "\n",
       "       Ind Portador Defic  Qtd Dias Afastamento  Raça Cor  Regiões Adm DF  \\\n",
       "225                     0                     0         9               0   \n",
       "12045                   0                     0         9               0   \n",
       "\n",
       "       Vl Remun Dezembro Nom  Vl Remun Dezembro (SM)  Vl Remun Média Nom  \\\n",
       "225                      0.0                     0.0             4137.71   \n",
       "12045                    0.0                     0.0             1504.00   \n",
       "\n",
       "       Vl Remun Média (SM)  CNAE 2.0 Subclasse  Sexo Trabalhador  \\\n",
       "225                   3.75             7210000                 1   \n",
       "12045                 1.36             6203100                 1   \n",
       "\n",
       "       Tamanho Estabelecimento  Tempo Emprego  Tipo Admissão  Tipo Estab  \\\n",
       "225                          4          123.2              0           1   \n",
       "12045                        9           23.1              0           1   \n",
       "\n",
       "               Tipo Estab.1  Tipo Defic  Tipo Vínculo  IBGE Subsetor  \\\n",
       "225    CNPJ                           0            10             19   \n",
       "12045  CNPJ                           0            10             19   \n",
       "\n",
       "       Vl Rem Janeiro SC  Vl Rem Fevereiro SC  Vl Rem Março SC  \\\n",
       "225              4687.48              4687.48          4687.48   \n",
       "12045              15.04                50.13             0.00   \n",
       "\n",
       "       Vl Rem Abril SC  Vl Rem Maio SC  Vl Rem Junho SC  Vl Rem Julho SC  \\\n",
       "225            6134.23           491.9              0.0              0.0   \n",
       "12045             0.00             0.0              0.0              0.0   \n",
       "\n",
       "       Vl Rem Agosto SC  Vl Rem Setembro SC  Vl Rem Outubro SC  \\\n",
       "225                 0.0                 0.0                0.0   \n",
       "12045               0.0                 0.0                0.0   \n",
       "\n",
       "       Vl Rem Novembro SC  Ano Chegada Brasil  Ind Trab Intermitente  \\\n",
       "225                   0.0                   0                      0   \n",
       "12045                 0.0                   0                      0   \n",
       "\n",
       "       Ind Trab Parcial   ano  \n",
       "225                   0  2021  \n",
       "12045                 0  2021  "
      ]
     },
     "execution_count": 11,
     "metadata": {},
     "output_type": "execute_result"
    }
   ],
   "source": [
    "df_tudo[\"ano\"] = ANO\n",
    "df_tudo.head(2)"
   ]
  },
  {
   "attachments": {},
   "cell_type": "markdown",
   "metadata": {},
   "source": [
    "# Salvando arquivo"
   ]
  },
  {
   "cell_type": "code",
   "execution_count": null,
   "metadata": {},
   "outputs": [],
   "source": [
    "df_tudo[\"Mês Desligamento\"] = df_tudo[\"Mês Desligamento\"].replace(\"{ñ\", -1)\n",
    "df_tudo[\"Mês Desligamento\"] = df_tudo[\"Mês Desligamento\"].astype(int)"
   ]
  },
  {
   "cell_type": "code",
   "execution_count": null,
   "metadata": {},
   "outputs": [],
   "source": [
    "df_tudo.to_parquet(f\"./output/silver/rais_{ANO}_prof_TI_RAIS_VINC_PUB.parquet.gzip\", index=False, compression=\"gzip\")"
   ]
  }
 ],
 "metadata": {
  "kernelspec": {
   "display_name": "trc",
   "language": "python",
   "name": "python3"
  },
  "language_info": {
   "codemirror_mode": {
    "name": "ipython",
    "version": 3
   },
   "file_extension": ".py",
   "mimetype": "text/x-python",
   "name": "python",
   "nbconvert_exporter": "python",
   "pygments_lexer": "ipython3",
   "version": "3.8.16"
  },
  "orig_nbformat": 4
 },
 "nbformat": 4,
 "nbformat_minor": 2
}
